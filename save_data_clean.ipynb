{
 "cells": [
  {
   "cell_type": "markdown",
   "id": "883d764f",
   "metadata": {},
   "source": [
    "## Green"
   ]
  },
  {
   "cell_type": "code",
   "execution_count": null,
   "id": "8a22100c",
   "metadata": {},
   "outputs": [
    {
     "name": "stdout",
     "output_type": "stream",
     "text": [
      "\n",
      "Processing episode 1/52: kitchen_data_green_2025_05_10_14_29_20.zarr\n",
      "Loaded data: 823 hand joint frames, 1235 pose frames\n"
     ]
    },
    {
     "data": {
      "application/vnd.jupyter.widget-view+json": {
       "model_id": "975b9f6648bd4cf2939d2cc4b7a9bc26",
       "version_major": 2,
       "version_minor": 0
      },
      "text/plain": [
       "  0%|          | 0/822 [00:00<?, ?it/s]"
      ]
     },
     "metadata": {},
     "output_type": "display_data"
    },
    {
     "data": {
      "application/vnd.jupyter.widget-view+json": {
       "model_id": "b4613078ac174952a8466f549b6c572b",
       "version_major": 2,
       "version_minor": 0
      },
      "text/plain": [
       "Map:   0%|          | 0/822 [00:00<?, ? examples/s]"
      ]
     },
     "metadata": {},
     "output_type": "display_data"
    },
    {
     "data": {
      "application/vnd.jupyter.widget-view+json": {
       "model_id": "1b21a63a567c4adc955e80af145dd08f",
       "version_major": 2,
       "version_minor": 0
      },
      "text/plain": [
       "Creating parquet from Arrow format:   0%|          | 0/1 [00:00<?, ?ba/s]"
      ]
     },
     "metadata": {},
     "output_type": "display_data"
    },
    {
     "name": "stderr",
     "output_type": "stream",
     "text": [
      "Svt[info]: -------------------------------------------\n",
      "Svt[info]: SVT [version]:\tSVT-AV1 Encoder Lib v3.0.0\n",
      "Svt[info]: SVT [build]  :\tApple LLVM 15.0.0 (clang-1500.3.9.4)\t 64 bit\n",
      "Svt[info]: LIB Build date: Apr  5 2025 06:53:59\n",
      "Svt[info]: -------------------------------------------\n",
      "Svt[info]: Level of Parallelism: 4\n",
      "Svt[info]: Number of PPCS 107\n",
      "Svt[info]: [asm level on system : up to neon_dotprod]\n",
      "Svt[info]: [asm level selected : up to neon_dotprod]\n",
      "Svt[info]: -------------------------------------------\n",
      "Svt[info]: SVT [config]: main profile\ttier (auto)\tlevel (auto)\n",
      "Svt[info]: SVT [config]: width / height / fps numerator / fps denominator \t\t: 224 / 224 / 20 / 1\n",
      "Svt[info]: SVT [config]: bit-depth / color format \t\t\t\t\t: 8 / YUV420\n",
      "Svt[info]: SVT [config]: preset / tune / pred struct \t\t\t\t\t: 8 / PSNR / random access\n",
      "Svt[info]: SVT [config]: gop size / mini-gop size / key-frame type \t\t\t: 2 / 32 / key frame\n",
      "Svt[info]: SVT [config]: BRC mode / rate factor \t\t\t\t\t: CRF / 30 \n",
      "Svt[info]: SVT [config]: AQ mode / variance boost \t\t\t\t\t: 2 / 0\n",
      "Svt[info]: SVT [config]: sharpness / luminance-based QP bias \t\t\t: 0 / 0\n",
      "Svt[info]: Svt[info]: -------------------------------------------\n",
      "Svt[info]: -------------------------------------------\n",
      "Svt[info]: SVT [version]:\tSVT-AV1 Encoder Lib v3.0.0\n",
      "Svt[info]: SVT [build]  :\tApple LLVM 15.0.0 (clang-1500.3.9.4)\t 64 bit\n",
      "Svt[info]: LIB Build date: Apr  5 2025 06:53:59\n",
      "Svt[info]: -------------------------------------------\n",
      "Svt[info]: Level of Parallelism: 4\n",
      "Svt[info]: Number of PPCS 107\n",
      "Svt[info]: [asm level on system : up to neon_dotprod]\n",
      "Svt[info]: [asm level selected : up to neon_dotprod]\n",
      "Svt[info]: -------------------------------------------\n",
      "Svt[info]: SVT [config]: main profile\ttier (auto)\tlevel (auto)\n",
      "Svt[info]: SVT [config]: width / height / fps numerator / fps denominator \t\t: 224 / 224 / 20 / 1\n",
      "Svt[info]: SVT [config]: bit-depth / color format \t\t\t\t\t: 8 / YUV420\n",
      "Svt[info]: SVT [config]: preset / tune / pred struct \t\t\t\t\t: 8 / PSNR / random access\n",
      "Svt[info]: SVT [config]: gop size / mini-gop size / key-frame type \t\t\t: 2 / 32 / key frame\n",
      "Svt[info]: SVT [config]: BRC mode / rate factor \t\t\t\t\t: CRF / 30 \n",
      "Svt[info]: SVT [config]: AQ mode / variance boost \t\t\t\t\t: 2 / 0\n",
      "Svt[info]: SVT [config]: sharpness / luminance-based QP bias \t\t\t: 0 / 0\n",
      "Svt[info]: Svt[info]: -------------------------------------------\n",
      "Svt[info]: -------------------------------------------\n",
      "Svt[info]: SVT [version]:\tSVT-AV1 Encoder Lib v3.0.0\n",
      "Svt[info]: SVT [build]  :\tApple LLVM 15.0.0 (clang-1500.3.9.4)\t 64 bit\n",
      "Svt[info]: LIB Build date: Apr  5 2025 06:53:59\n",
      "Svt[info]: -------------------------------------------\n",
      "Svt[info]: Level of Parallelism: 4\n",
      "Svt[info]: Number of PPCS 107\n",
      "Svt[info]: [asm level on system : up to neon_dotprod]\n",
      "Svt[info]: [asm level selected : up to neon_dotprod]\n",
      "Svt[info]: -------------------------------------------\n",
      "Svt[info]: SVT [config]: main profile\ttier (auto)\tlevel (auto)\n",
      "Svt[info]: SVT [config]: width / height / fps numerator / fps denominator \t\t: 224 / 224 / 20 / 1\n",
      "Svt[info]: SVT [config]: bit-depth / color format \t\t\t\t\t: 8 / YUV420\n",
      "Svt[info]: SVT [config]: preset / tune / pred struct \t\t\t\t\t: 8 / PSNR / random access\n",
      "Svt[info]: SVT [config]: gop size / mini-gop size / key-frame type \t\t\t: 2 / 32 / key frame\n",
      "Svt[info]: SVT [config]: BRC mode / rate factor \t\t\t\t\t: CRF / 30 \n",
      "Svt[info]: SVT [config]: AQ mode / variance boost \t\t\t\t\t: 2 / 0\n",
      "Svt[info]: SVT [config]: sharpness / luminance-based QP bias \t\t\t: 0 / 0\n",
      "Svt[info]: Svt[info]: -------------------------------------------\n"
     ]
    },
    {
     "name": "stdout",
     "output_type": "stream",
     "text": [
      "Saved episode 1, total frames in episode: 822\n",
      "\n",
      "Processing episode 2/52: kitchen_data_green_2025_05_10_14_30_41.zarr\n",
      "Loaded data: 708 hand joint frames, 1062 pose frames\n"
     ]
    },
    {
     "data": {
      "application/vnd.jupyter.widget-view+json": {
       "model_id": "8e35114d26174dd98a1696811c59ec72",
       "version_major": 2,
       "version_minor": 0
      },
      "text/plain": [
       "  0%|          | 0/707 [00:00<?, ?it/s]"
      ]
     },
     "metadata": {},
     "output_type": "display_data"
    },
    {
     "data": {
      "application/vnd.jupyter.widget-view+json": {
       "model_id": "a634c3ef9f66448fb64e5dce8123a7e9",
       "version_major": 2,
       "version_minor": 0
      },
      "text/plain": [
       "Map:   0%|          | 0/707 [00:00<?, ? examples/s]"
      ]
     },
     "metadata": {},
     "output_type": "display_data"
    },
    {
     "data": {
      "application/vnd.jupyter.widget-view+json": {
       "model_id": "f45bc155cfc1436589d2fc6ebad48cf8",
       "version_major": 2,
       "version_minor": 0
      },
      "text/plain": [
       "Creating parquet from Arrow format:   0%|          | 0/1 [00:00<?, ?ba/s]"
      ]
     },
     "metadata": {},
     "output_type": "display_data"
    },
    {
     "name": "stderr",
     "output_type": "stream",
     "text": [
      "Svt[info]: -------------------------------------------\n",
      "Svt[info]: SVT [version]:\tSVT-AV1 Encoder Lib v3.0.0\n",
      "Svt[info]: SVT [build]  :\tApple LLVM 15.0.0 (clang-1500.3.9.4)\t 64 bit\n",
      "Svt[info]: LIB Build date: Apr  5 2025 06:53:59\n",
      "Svt[info]: -------------------------------------------\n",
      "Svt[info]: Level of Parallelism: 4\n",
      "Svt[info]: Number of PPCS 107\n",
      "Svt[info]: [asm level on system : up to neon_dotprod]\n",
      "Svt[info]: [asm level selected : up to neon_dotprod]\n",
      "Svt[info]: -------------------------------------------\n",
      "Svt[info]: SVT [config]: main profile\ttier (auto)\tlevel (auto)\n",
      "Svt[info]: SVT [config]: width / height / fps numerator / fps denominator \t\t: 224 / 224 / 20 / 1\n",
      "Svt[info]: SVT [config]: bit-depth / color format \t\t\t\t\t: 8 / YUV420\n",
      "Svt[info]: SVT [config]: preset / tune / pred struct \t\t\t\t\t: 8 / PSNR / random access\n",
      "Svt[info]: SVT [config]: gop size / mini-gop size / key-frame type \t\t\t: 2 / 32 / key frame\n",
      "Svt[info]: SVT [config]: BRC mode / rate factor \t\t\t\t\t: CRF / 30 \n",
      "Svt[info]: SVT [config]: AQ mode / variance boost \t\t\t\t\t: 2 / 0\n",
      "Svt[info]: SVT [config]: sharpness / luminance-based QP bias \t\t\t: 0 / 0\n",
      "Svt[info]: Svt[info]: -------------------------------------------\n",
      "Svt[info]: -------------------------------------------\n",
      "Svt[info]: SVT [version]:\tSVT-AV1 Encoder Lib v3.0.0\n",
      "Svt[info]: SVT [build]  :\tApple LLVM 15.0.0 (clang-1500.3.9.4)\t 64 bit\n",
      "Svt[info]: LIB Build date: Apr  5 2025 06:53:59\n",
      "Svt[info]: -------------------------------------------\n",
      "Svt[info]: Level of Parallelism: 4\n",
      "Svt[info]: Number of PPCS 107\n",
      "Svt[info]: [asm level on system : up to neon_dotprod]\n",
      "Svt[info]: [asm level selected : up to neon_dotprod]\n",
      "Svt[info]: -------------------------------------------\n",
      "Svt[info]: SVT [config]: main profile\ttier (auto)\tlevel (auto)\n",
      "Svt[info]: SVT [config]: width / height / fps numerator / fps denominator \t\t: 224 / 224 / 20 / 1\n",
      "Svt[info]: SVT [config]: bit-depth / color format \t\t\t\t\t: 8 / YUV420\n",
      "Svt[info]: SVT [config]: preset / tune / pred struct \t\t\t\t\t: 8 / PSNR / random access\n",
      "Svt[info]: SVT [config]: gop size / mini-gop size / key-frame type \t\t\t: 2 / 32 / key frame\n",
      "Svt[info]: SVT [config]: BRC mode / rate factor \t\t\t\t\t: CRF / 30 \n",
      "Svt[info]: SVT [config]: AQ mode / variance boost \t\t\t\t\t: 2 / 0\n",
      "Svt[info]: SVT [config]: sharpness / luminance-based QP bias \t\t\t: 0 / 0\n",
      "Svt[info]: Svt[info]: -------------------------------------------\n",
      "Svt[info]: -------------------------------------------\n",
      "Svt[info]: SVT [version]:\tSVT-AV1 Encoder Lib v3.0.0\n",
      "Svt[info]: SVT [build]  :\tApple LLVM 15.0.0 (clang-1500.3.9.4)\t 64 bit\n",
      "Svt[info]: LIB Build date: Apr  5 2025 06:53:59\n",
      "Svt[info]: -------------------------------------------\n",
      "Svt[info]: Level of Parallelism: 4\n",
      "Svt[info]: Number of PPCS 107\n",
      "Svt[info]: [asm level on system : up to neon_dotprod]\n",
      "Svt[info]: [asm level selected : up to neon_dotprod]\n",
      "Svt[info]: -------------------------------------------\n",
      "Svt[info]: SVT [config]: main profile\ttier (auto)\tlevel (auto)\n",
      "Svt[info]: SVT [config]: width / height / fps numerator / fps denominator \t\t: 224 / 224 / 20 / 1\n",
      "Svt[info]: SVT [config]: bit-depth / color format \t\t\t\t\t: 8 / YUV420\n",
      "Svt[info]: SVT [config]: preset / tune / pred struct \t\t\t\t\t: 8 / PSNR / random access\n",
      "Svt[info]: SVT [config]: gop size / mini-gop size / key-frame type \t\t\t: 2 / 32 / key frame\n",
      "Svt[info]: SVT [config]: BRC mode / rate factor \t\t\t\t\t: CRF / 30 \n",
      "Svt[info]: SVT [config]: AQ mode / variance boost \t\t\t\t\t: 2 / 0\n",
      "Svt[info]: SVT [config]: sharpness / luminance-based QP bias \t\t\t: 0 / 0\n",
      "Svt[info]: Svt[info]: -------------------------------------------\n"
     ]
    },
    {
     "name": "stdout",
     "output_type": "stream",
     "text": [
      "Saved episode 2, total frames in episode: 707\n",
      "\n",
      "Processing episode 3/52: kitchen_data_green_2025_05_10_14_31_45.zarr\n",
      "Loaded data: 704 hand joint frames, 1056 pose frames\n"
     ]
    },
    {
     "data": {
      "application/vnd.jupyter.widget-view+json": {
       "model_id": "0abdaa8663fa49da8c716b37188ec852",
       "version_major": 2,
       "version_minor": 0
      },
      "text/plain": [
       "  0%|          | 0/703 [00:00<?, ?it/s]"
      ]
     },
     "metadata": {},
     "output_type": "display_data"
    },
    {
     "data": {
      "application/vnd.jupyter.widget-view+json": {
       "model_id": "98cb816596064c90992883e7ae03e1c1",
       "version_major": 2,
       "version_minor": 0
      },
      "text/plain": [
       "Map:   0%|          | 0/703 [00:00<?, ? examples/s]"
      ]
     },
     "metadata": {},
     "output_type": "display_data"
    },
    {
     "data": {
      "application/vnd.jupyter.widget-view+json": {
       "model_id": "69ce063f5de74cf1bf575b3fe061cfc5",
       "version_major": 2,
       "version_minor": 0
      },
      "text/plain": [
       "Creating parquet from Arrow format:   0%|          | 0/1 [00:00<?, ?ba/s]"
      ]
     },
     "metadata": {},
     "output_type": "display_data"
    },
    {
     "name": "stderr",
     "output_type": "stream",
     "text": [
      "Svt[info]: -------------------------------------------\n",
      "Svt[info]: SVT [version]:\tSVT-AV1 Encoder Lib v3.0.0\n",
      "Svt[info]: SVT [build]  :\tApple LLVM 15.0.0 (clang-1500.3.9.4)\t 64 bit\n",
      "Svt[info]: LIB Build date: Apr  5 2025 06:53:59\n",
      "Svt[info]: -------------------------------------------\n",
      "Svt[info]: Level of Parallelism: 4\n",
      "Svt[info]: Number of PPCS 107\n",
      "Svt[info]: [asm level on system : up to neon_dotprod]\n",
      "Svt[info]: [asm level selected : up to neon_dotprod]\n",
      "Svt[info]: -------------------------------------------\n",
      "Svt[info]: SVT [config]: main profile\ttier (auto)\tlevel (auto)\n",
      "Svt[info]: SVT [config]: width / height / fps numerator / fps denominator \t\t: 224 / 224 / 20 / 1\n",
      "Svt[info]: SVT [config]: bit-depth / color format \t\t\t\t\t: 8 / YUV420\n",
      "Svt[info]: SVT [config]: preset / tune / pred struct \t\t\t\t\t: 8 / PSNR / random access\n",
      "Svt[info]: SVT [config]: gop size / mini-gop size / key-frame type \t\t\t: 2 / 32 / key frame\n",
      "Svt[info]: SVT [config]: BRC mode / rate factor \t\t\t\t\t: CRF / 30 \n",
      "Svt[info]: SVT [config]: AQ mode / variance boost \t\t\t\t\t: 2 / 0\n",
      "Svt[info]: SVT [config]: sharpness / luminance-based QP bias \t\t\t: 0 / 0\n",
      "Svt[info]: Svt[info]: -------------------------------------------\n",
      "Svt[info]: -------------------------------------------\n",
      "Svt[info]: SVT [version]:\tSVT-AV1 Encoder Lib v3.0.0\n",
      "Svt[info]: SVT [build]  :\tApple LLVM 15.0.0 (clang-1500.3.9.4)\t 64 bit\n",
      "Svt[info]: LIB Build date: Apr  5 2025 06:53:59\n",
      "Svt[info]: -------------------------------------------\n",
      "Svt[info]: Level of Parallelism: 4\n",
      "Svt[info]: Number of PPCS 107\n",
      "Svt[info]: [asm level on system : up to neon_dotprod]\n",
      "Svt[info]: [asm level selected : up to neon_dotprod]\n",
      "Svt[info]: -------------------------------------------\n",
      "Svt[info]: SVT [config]: main profile\ttier (auto)\tlevel (auto)\n",
      "Svt[info]: SVT [config]: width / height / fps numerator / fps denominator \t\t: 224 / 224 / 20 / 1\n",
      "Svt[info]: SVT [config]: bit-depth / color format \t\t\t\t\t: 8 / YUV420\n",
      "Svt[info]: SVT [config]: preset / tune / pred struct \t\t\t\t\t: 8 / PSNR / random access\n",
      "Svt[info]: SVT [config]: gop size / mini-gop size / key-frame type \t\t\t: 2 / 32 / key frame\n",
      "Svt[info]: SVT [config]: BRC mode / rate factor \t\t\t\t\t: CRF / 30 \n",
      "Svt[info]: SVT [config]: AQ mode / variance boost \t\t\t\t\t: 2 / 0\n",
      "Svt[info]: SVT [config]: sharpness / luminance-based QP bias \t\t\t: 0 / 0\n",
      "Svt[info]: Svt[info]: -------------------------------------------\n",
      "Svt[info]: -------------------------------------------\n",
      "Svt[info]: SVT [version]:\tSVT-AV1 Encoder Lib v3.0.0\n",
      "Svt[info]: SVT [build]  :\tApple LLVM 15.0.0 (clang-1500.3.9.4)\t 64 bit\n",
      "Svt[info]: LIB Build date: Apr  5 2025 06:53:59\n",
      "Svt[info]: -------------------------------------------\n",
      "Svt[info]: Level of Parallelism: 4\n",
      "Svt[info]: Number of PPCS 107\n",
      "Svt[info]: [asm level on system : up to neon_dotprod]\n",
      "Svt[info]: [asm level selected : up to neon_dotprod]\n",
      "Svt[info]: -------------------------------------------\n",
      "Svt[info]: SVT [config]: main profile\ttier (auto)\tlevel (auto)\n",
      "Svt[info]: SVT [config]: width / height / fps numerator / fps denominator \t\t: 224 / 224 / 20 / 1\n",
      "Svt[info]: SVT [config]: bit-depth / color format \t\t\t\t\t: 8 / YUV420\n",
      "Svt[info]: SVT [config]: preset / tune / pred struct \t\t\t\t\t: 8 / PSNR / random access\n",
      "Svt[info]: SVT [config]: gop size / mini-gop size / key-frame type \t\t\t: 2 / 32 / key frame\n",
      "Svt[info]: SVT [config]: BRC mode / rate factor \t\t\t\t\t: CRF / 30 \n",
      "Svt[info]: SVT [config]: AQ mode / variance boost \t\t\t\t\t: 2 / 0\n",
      "Svt[info]: SVT [config]: sharpness / luminance-based QP bias \t\t\t: 0 / 0\n",
      "Svt[info]: Svt[info]: -------------------------------------------\n"
     ]
    },
    {
     "name": "stdout",
     "output_type": "stream",
     "text": [
      "Saved episode 3, total frames in episode: 703\n",
      "\n",
      "Processing episode 4/52: kitchen_data_green_2025_05_10_14_32_45.zarr\n",
      "Loaded data: 763 hand joint frames, 1146 pose frames\n"
     ]
    },
    {
     "data": {
      "application/vnd.jupyter.widget-view+json": {
       "model_id": "878ea151fc7f4be383550a936884ef62",
       "version_major": 2,
       "version_minor": 0
      },
      "text/plain": [
       "  0%|          | 0/762 [00:00<?, ?it/s]"
      ]
     },
     "metadata": {},
     "output_type": "display_data"
    },
    {
     "data": {
      "application/vnd.jupyter.widget-view+json": {
       "model_id": "e60c458d9d3e4bcfb3544d404908e4b7",
       "version_major": 2,
       "version_minor": 0
      },
      "text/plain": [
       "Map:   0%|          | 0/762 [00:00<?, ? examples/s]"
      ]
     },
     "metadata": {},
     "output_type": "display_data"
    },
    {
     "data": {
      "application/vnd.jupyter.widget-view+json": {
       "model_id": "297403cced6540d6aa16fbf58300803e",
       "version_major": 2,
       "version_minor": 0
      },
      "text/plain": [
       "Creating parquet from Arrow format:   0%|          | 0/1 [00:00<?, ?ba/s]"
      ]
     },
     "metadata": {},
     "output_type": "display_data"
    },
    {
     "name": "stderr",
     "output_type": "stream",
     "text": [
      "Svt[info]: -------------------------------------------\n",
      "Svt[info]: SVT [version]:\tSVT-AV1 Encoder Lib v3.0.0\n",
      "Svt[info]: SVT [build]  :\tApple LLVM 15.0.0 (clang-1500.3.9.4)\t 64 bit\n",
      "Svt[info]: LIB Build date: Apr  5 2025 06:53:59\n",
      "Svt[info]: -------------------------------------------\n",
      "Svt[info]: Level of Parallelism: 4\n",
      "Svt[info]: Number of PPCS 107\n",
      "Svt[info]: [asm level on system : up to neon_dotprod]\n",
      "Svt[info]: [asm level selected : up to neon_dotprod]\n",
      "Svt[info]: -------------------------------------------\n",
      "Svt[info]: SVT [config]: main profile\ttier (auto)\tlevel (auto)\n",
      "Svt[info]: SVT [config]: width / height / fps numerator / fps denominator \t\t: 224 / 224 / 20 / 1\n",
      "Svt[info]: SVT [config]: bit-depth / color format \t\t\t\t\t: 8 / YUV420\n",
      "Svt[info]: SVT [config]: preset / tune / pred struct \t\t\t\t\t: 8 / PSNR / random access\n",
      "Svt[info]: SVT [config]: gop size / mini-gop size / key-frame type \t\t\t: 2 / 32 / key frame\n",
      "Svt[info]: SVT [config]: BRC mode / rate factor \t\t\t\t\t: CRF / 30 \n",
      "Svt[info]: SVT [config]: AQ mode / variance boost \t\t\t\t\t: 2 / 0\n",
      "Svt[info]: SVT [config]: sharpness / luminance-based QP bias \t\t\t: 0 / 0\n",
      "Svt[info]: Svt[info]: -------------------------------------------\n",
      "Svt[info]: -------------------------------------------\n",
      "Svt[info]: SVT [version]:\tSVT-AV1 Encoder Lib v3.0.0\n",
      "Svt[info]: SVT [build]  :\tApple LLVM 15.0.0 (clang-1500.3.9.4)\t 64 bit\n",
      "Svt[info]: LIB Build date: Apr  5 2025 06:53:59\n",
      "Svt[info]: -------------------------------------------\n",
      "Svt[info]: Level of Parallelism: 4\n",
      "Svt[info]: Number of PPCS 107\n",
      "Svt[info]: [asm level on system : up to neon_dotprod]\n",
      "Svt[info]: [asm level selected : up to neon_dotprod]\n",
      "Svt[info]: -------------------------------------------\n",
      "Svt[info]: SVT [config]: main profile\ttier (auto)\tlevel (auto)\n",
      "Svt[info]: SVT [config]: width / height / fps numerator / fps denominator \t\t: 224 / 224 / 20 / 1\n",
      "Svt[info]: SVT [config]: bit-depth / color format \t\t\t\t\t: 8 / YUV420\n",
      "Svt[info]: SVT [config]: preset / tune / pred struct \t\t\t\t\t: 8 / PSNR / random access\n",
      "Svt[info]: SVT [config]: gop size / mini-gop size / key-frame type \t\t\t: 2 / 32 / key frame\n",
      "Svt[info]: SVT [config]: BRC mode / rate factor \t\t\t\t\t: CRF / 30 \n",
      "Svt[info]: SVT [config]: AQ mode / variance boost \t\t\t\t\t: 2 / 0\n",
      "Svt[info]: SVT [config]: sharpness / luminance-based QP bias \t\t\t: 0 / 0\n",
      "Svt[info]: Svt[info]: -------------------------------------------\n",
      "Svt[info]: -------------------------------------------\n",
      "Svt[info]: SVT [version]:\tSVT-AV1 Encoder Lib v3.0.0\n",
      "Svt[info]: SVT [build]  :\tApple LLVM 15.0.0 (clang-1500.3.9.4)\t 64 bit\n",
      "Svt[info]: LIB Build date: Apr  5 2025 06:53:59\n",
      "Svt[info]: -------------------------------------------\n",
      "Svt[info]: Level of Parallelism: 4\n",
      "Svt[info]: Number of PPCS 107\n",
      "Svt[info]: [asm level on system : up to neon_dotprod]\n",
      "Svt[info]: [asm level selected : up to neon_dotprod]\n",
      "Svt[info]: -------------------------------------------\n",
      "Svt[info]: SVT [config]: main profile\ttier (auto)\tlevel (auto)\n",
      "Svt[info]: SVT [config]: width / height / fps numerator / fps denominator \t\t: 224 / 224 / 20 / 1\n",
      "Svt[info]: SVT [config]: bit-depth / color format \t\t\t\t\t: 8 / YUV420\n",
      "Svt[info]: SVT [config]: preset / tune / pred struct \t\t\t\t\t: 8 / PSNR / random access\n",
      "Svt[info]: SVT [config]: gop size / mini-gop size / key-frame type \t\t\t: 2 / 32 / key frame\n",
      "Svt[info]: SVT [config]: BRC mode / rate factor \t\t\t\t\t: CRF / 30 \n",
      "Svt[info]: SVT [config]: AQ mode / variance boost \t\t\t\t\t: 2 / 0\n",
      "Svt[info]: SVT [config]: sharpness / luminance-based QP bias \t\t\t: 0 / 0\n",
      "Svt[info]: Svt[info]: -------------------------------------------\n"
     ]
    },
    {
     "name": "stdout",
     "output_type": "stream",
     "text": [
      "Saved episode 4, total frames in episode: 762\n",
      "\n",
      "Processing episode 5/52: kitchen_data_green_2025_05_10_14_33_49.zarr\n",
      "Loaded data: 678 hand joint frames, 1016 pose frames\n"
     ]
    },
    {
     "data": {
      "application/vnd.jupyter.widget-view+json": {
       "model_id": "c7671529e67a414f96955d073edb8851",
       "version_major": 2,
       "version_minor": 0
      },
      "text/plain": [
       "  0%|          | 0/677 [00:00<?, ?it/s]"
      ]
     },
     "metadata": {},
     "output_type": "display_data"
    },
    {
     "data": {
      "application/vnd.jupyter.widget-view+json": {
       "model_id": "3d6ea2f38c144266b667eea171f60c46",
       "version_major": 2,
       "version_minor": 0
      },
      "text/plain": [
       "Map:   0%|          | 0/677 [00:00<?, ? examples/s]"
      ]
     },
     "metadata": {},
     "output_type": "display_data"
    },
    {
     "data": {
      "application/vnd.jupyter.widget-view+json": {
       "model_id": "53214656067340b3b3bf593d6ced91e8",
       "version_major": 2,
       "version_minor": 0
      },
      "text/plain": [
       "Creating parquet from Arrow format:   0%|          | 0/1 [00:00<?, ?ba/s]"
      ]
     },
     "metadata": {},
     "output_type": "display_data"
    },
    {
     "name": "stderr",
     "output_type": "stream",
     "text": [
      "Svt[info]: -------------------------------------------\n",
      "Svt[info]: SVT [version]:\tSVT-AV1 Encoder Lib v3.0.0\n",
      "Svt[info]: SVT [build]  :\tApple LLVM 15.0.0 (clang-1500.3.9.4)\t 64 bit\n",
      "Svt[info]: LIB Build date: Apr  5 2025 06:53:59\n",
      "Svt[info]: -------------------------------------------\n",
      "Svt[info]: Level of Parallelism: 4\n",
      "Svt[info]: Number of PPCS 107\n",
      "Svt[info]: [asm level on system : up to neon_dotprod]\n",
      "Svt[info]: [asm level selected : up to neon_dotprod]\n",
      "Svt[info]: -------------------------------------------\n",
      "Svt[info]: SVT [config]: main profile\ttier (auto)\tlevel (auto)\n",
      "Svt[info]: SVT [config]: width / height / fps numerator / fps denominator \t\t: 224 / 224 / 20 / 1\n",
      "Svt[info]: SVT [config]: bit-depth / color format \t\t\t\t\t: 8 / YUV420\n",
      "Svt[info]: SVT [config]: preset / tune / pred struct \t\t\t\t\t: 8 / PSNR / random access\n",
      "Svt[info]: SVT [config]: gop size / mini-gop size / key-frame type \t\t\t: 2 / 32 / key frame\n",
      "Svt[info]: SVT [config]: BRC mode / rate factor \t\t\t\t\t: CRF / 30 \n",
      "Svt[info]: SVT [config]: AQ mode / variance boost \t\t\t\t\t: 2 / 0\n",
      "Svt[info]: SVT [config]: sharpness / luminance-based QP bias \t\t\t: 0 / 0\n",
      "Svt[info]: Svt[info]: -------------------------------------------\n",
      "Svt[info]: -------------------------------------------\n",
      "Svt[info]: SVT [version]:\tSVT-AV1 Encoder Lib v3.0.0\n",
      "Svt[info]: SVT [build]  :\tApple LLVM 15.0.0 (clang-1500.3.9.4)\t 64 bit\n",
      "Svt[info]: LIB Build date: Apr  5 2025 06:53:59\n",
      "Svt[info]: -------------------------------------------\n",
      "Svt[info]: Level of Parallelism: 4\n",
      "Svt[info]: Number of PPCS 107\n",
      "Svt[info]: [asm level on system : up to neon_dotprod]\n",
      "Svt[info]: [asm level selected : up to neon_dotprod]\n",
      "Svt[info]: -------------------------------------------\n",
      "Svt[info]: SVT [config]: main profile\ttier (auto)\tlevel (auto)\n",
      "Svt[info]: SVT [config]: width / height / fps numerator / fps denominator \t\t: 224 / 224 / 20 / 1\n",
      "Svt[info]: SVT [config]: bit-depth / color format \t\t\t\t\t: 8 / YUV420\n",
      "Svt[info]: SVT [config]: preset / tune / pred struct \t\t\t\t\t: 8 / PSNR / random access\n",
      "Svt[info]: SVT [config]: gop size / mini-gop size / key-frame type \t\t\t: 2 / 32 / key frame\n",
      "Svt[info]: SVT [config]: BRC mode / rate factor \t\t\t\t\t: CRF / 30 \n",
      "Svt[info]: SVT [config]: AQ mode / variance boost \t\t\t\t\t: 2 / 0\n",
      "Svt[info]: SVT [config]: sharpness / luminance-based QP bias \t\t\t: 0 / 0\n",
      "Svt[info]: Svt[info]: -------------------------------------------\n",
      "Svt[info]: -------------------------------------------\n",
      "Svt[info]: SVT [version]:\tSVT-AV1 Encoder Lib v3.0.0\n",
      "Svt[info]: SVT [build]  :\tApple LLVM 15.0.0 (clang-1500.3.9.4)\t 64 bit\n",
      "Svt[info]: LIB Build date: Apr  5 2025 06:53:59\n",
      "Svt[info]: -------------------------------------------\n",
      "Svt[info]: Level of Parallelism: 4\n",
      "Svt[info]: Number of PPCS 107\n",
      "Svt[info]: [asm level on system : up to neon_dotprod]\n",
      "Svt[info]: [asm level selected : up to neon_dotprod]\n",
      "Svt[info]: -------------------------------------------\n",
      "Svt[info]: SVT [config]: main profile\ttier (auto)\tlevel (auto)\n",
      "Svt[info]: SVT [config]: width / height / fps numerator / fps denominator \t\t: 224 / 224 / 20 / 1\n",
      "Svt[info]: SVT [config]: bit-depth / color format \t\t\t\t\t: 8 / YUV420\n",
      "Svt[info]: SVT [config]: preset / tune / pred struct \t\t\t\t\t: 8 / PSNR / random access\n",
      "Svt[info]: SVT [config]: gop size / mini-gop size / key-frame type \t\t\t: 2 / 32 / key frame\n",
      "Svt[info]: SVT [config]: BRC mode / rate factor \t\t\t\t\t: CRF / 30 \n",
      "Svt[info]: SVT [config]: AQ mode / variance boost \t\t\t\t\t: 2 / 0\n",
      "Svt[info]: SVT [config]: sharpness / luminance-based QP bias \t\t\t: 0 / 0\n",
      "Svt[info]: Svt[info]: -------------------------------------------\n"
     ]
    },
    {
     "name": "stdout",
     "output_type": "stream",
     "text": [
      "Saved episode 5, total frames in episode: 677\n",
      "\n",
      "Processing episode 6/52: kitchen_data_green_2025_05_10_14_35_02.zarr\n",
      "Loaded data: 792 hand joint frames, 1190 pose frames\n"
     ]
    },
    {
     "data": {
      "application/vnd.jupyter.widget-view+json": {
       "model_id": "f1dceb95b1e5417092bc558b729380fb",
       "version_major": 2,
       "version_minor": 0
      },
      "text/plain": [
       "  0%|          | 0/791 [00:00<?, ?it/s]"
      ]
     },
     "metadata": {},
     "output_type": "display_data"
    },
    {
     "data": {
      "application/vnd.jupyter.widget-view+json": {
       "model_id": "04c119246e2d4a9296ae02dfb82a7d9b",
       "version_major": 2,
       "version_minor": 0
      },
      "text/plain": [
       "Map:   0%|          | 0/791 [00:00<?, ? examples/s]"
      ]
     },
     "metadata": {},
     "output_type": "display_data"
    },
    {
     "data": {
      "application/vnd.jupyter.widget-view+json": {
       "model_id": "e6908452fe9a407b937302b9e2279f69",
       "version_major": 2,
       "version_minor": 0
      },
      "text/plain": [
       "Creating parquet from Arrow format:   0%|          | 0/1 [00:00<?, ?ba/s]"
      ]
     },
     "metadata": {},
     "output_type": "display_data"
    },
    {
     "name": "stderr",
     "output_type": "stream",
     "text": [
      "Svt[info]: -------------------------------------------\n",
      "Svt[info]: SVT [version]:\tSVT-AV1 Encoder Lib v3.0.0\n",
      "Svt[info]: SVT [build]  :\tApple LLVM 15.0.0 (clang-1500.3.9.4)\t 64 bit\n",
      "Svt[info]: LIB Build date: Apr  5 2025 06:53:59\n",
      "Svt[info]: -------------------------------------------\n",
      "Svt[info]: Level of Parallelism: 4\n",
      "Svt[info]: Number of PPCS 107\n",
      "Svt[info]: [asm level on system : up to neon_dotprod]\n",
      "Svt[info]: [asm level selected : up to neon_dotprod]\n",
      "Svt[info]: -------------------------------------------\n",
      "Svt[info]: SVT [config]: main profile\ttier (auto)\tlevel (auto)\n",
      "Svt[info]: SVT [config]: width / height / fps numerator / fps denominator \t\t: 224 / 224 / 20 / 1\n",
      "Svt[info]: SVT [config]: bit-depth / color format \t\t\t\t\t: 8 / YUV420\n",
      "Svt[info]: SVT [config]: preset / tune / pred struct \t\t\t\t\t: 8 / PSNR / random access\n",
      "Svt[info]: SVT [config]: gop size / mini-gop size / key-frame type \t\t\t: 2 / 32 / key frame\n",
      "Svt[info]: SVT [config]: BRC mode / rate factor \t\t\t\t\t: CRF / 30 \n",
      "Svt[info]: SVT [config]: AQ mode / variance boost \t\t\t\t\t: 2 / 0\n",
      "Svt[info]: SVT [config]: sharpness / luminance-based QP bias \t\t\t: 0 / 0\n",
      "Svt[info]: Svt[info]: -------------------------------------------\n",
      "Svt[info]: -------------------------------------------\n",
      "Svt[info]: SVT [version]:\tSVT-AV1 Encoder Lib v3.0.0\n",
      "Svt[info]: SVT [build]  :\tApple LLVM 15.0.0 (clang-1500.3.9.4)\t 64 bit\n",
      "Svt[info]: LIB Build date: Apr  5 2025 06:53:59\n",
      "Svt[info]: -------------------------------------------\n",
      "Svt[info]: Level of Parallelism: 4\n",
      "Svt[info]: Number of PPCS 107\n",
      "Svt[info]: [asm level on system : up to neon_dotprod]\n",
      "Svt[info]: [asm level selected : up to neon_dotprod]\n",
      "Svt[info]: -------------------------------------------\n",
      "Svt[info]: SVT [config]: main profile\ttier (auto)\tlevel (auto)\n",
      "Svt[info]: SVT [config]: width / height / fps numerator / fps denominator \t\t: 224 / 224 / 20 / 1\n",
      "Svt[info]: SVT [config]: bit-depth / color format \t\t\t\t\t: 8 / YUV420\n",
      "Svt[info]: SVT [config]: preset / tune / pred struct \t\t\t\t\t: 8 / PSNR / random access\n",
      "Svt[info]: SVT [config]: gop size / mini-gop size / key-frame type \t\t\t: 2 / 32 / key frame\n",
      "Svt[info]: SVT [config]: BRC mode / rate factor \t\t\t\t\t: CRF / 30 \n",
      "Svt[info]: SVT [config]: AQ mode / variance boost \t\t\t\t\t: 2 / 0\n",
      "Svt[info]: SVT [config]: sharpness / luminance-based QP bias \t\t\t: 0 / 0\n",
      "Svt[info]: Svt[info]: -------------------------------------------\n",
      "Svt[info]: -------------------------------------------\n",
      "Svt[info]: SVT [version]:\tSVT-AV1 Encoder Lib v3.0.0\n",
      "Svt[info]: SVT [build]  :\tApple LLVM 15.0.0 (clang-1500.3.9.4)\t 64 bit\n",
      "Svt[info]: LIB Build date: Apr  5 2025 06:53:59\n",
      "Svt[info]: -------------------------------------------\n",
      "Svt[info]: Level of Parallelism: 4\n",
      "Svt[info]: Number of PPCS 107\n",
      "Svt[info]: [asm level on system : up to neon_dotprod]\n",
      "Svt[info]: [asm level selected : up to neon_dotprod]\n",
      "Svt[info]: -------------------------------------------\n",
      "Svt[info]: SVT [config]: main profile\ttier (auto)\tlevel (auto)\n",
      "Svt[info]: SVT [config]: width / height / fps numerator / fps denominator \t\t: 224 / 224 / 20 / 1\n",
      "Svt[info]: SVT [config]: bit-depth / color format \t\t\t\t\t: 8 / YUV420\n",
      "Svt[info]: SVT [config]: preset / tune / pred struct \t\t\t\t\t: 8 / PSNR / random access\n",
      "Svt[info]: SVT [config]: gop size / mini-gop size / key-frame type \t\t\t: 2 / 32 / key frame\n",
      "Svt[info]: SVT [config]: BRC mode / rate factor \t\t\t\t\t: CRF / 30 \n",
      "Svt[info]: SVT [config]: AQ mode / variance boost \t\t\t\t\t: 2 / 0\n",
      "Svt[info]: SVT [config]: sharpness / luminance-based QP bias \t\t\t: 0 / 0\n",
      "Svt[info]: Svt[info]: -------------------------------------------\n"
     ]
    },
    {
     "name": "stdout",
     "output_type": "stream",
     "text": [
      "Saved episode 6, total frames in episode: 791\n",
      "\n",
      "Processing episode 7/52: kitchen_data_green_2025_05_10_14_36_19.zarr\n",
      "Loaded data: 651 hand joint frames, 976 pose frames\n"
     ]
    },
    {
     "data": {
      "application/vnd.jupyter.widget-view+json": {
       "model_id": "b59494a5611541bba6e7ddc518b95a6b",
       "version_major": 2,
       "version_minor": 0
      },
      "text/plain": [
       "  0%|          | 0/650 [00:00<?, ?it/s]"
      ]
     },
     "metadata": {},
     "output_type": "display_data"
    },
    {
     "data": {
      "application/vnd.jupyter.widget-view+json": {
       "model_id": "029ba078fb114e6bbbb58aa64547aff6",
       "version_major": 2,
       "version_minor": 0
      },
      "text/plain": [
       "Map:   0%|          | 0/650 [00:00<?, ? examples/s]"
      ]
     },
     "metadata": {},
     "output_type": "display_data"
    },
    {
     "data": {
      "application/vnd.jupyter.widget-view+json": {
       "model_id": "b0789b7f885a44aa8df1f6f5a89c5d1e",
       "version_major": 2,
       "version_minor": 0
      },
      "text/plain": [
       "Creating parquet from Arrow format:   0%|          | 0/1 [00:00<?, ?ba/s]"
      ]
     },
     "metadata": {},
     "output_type": "display_data"
    },
    {
     "name": "stderr",
     "output_type": "stream",
     "text": [
      "Svt[info]: -------------------------------------------\n",
      "Svt[info]: SVT [version]:\tSVT-AV1 Encoder Lib v3.0.0\n",
      "Svt[info]: SVT [build]  :\tApple LLVM 15.0.0 (clang-1500.3.9.4)\t 64 bit\n",
      "Svt[info]: LIB Build date: Apr  5 2025 06:53:59\n",
      "Svt[info]: -------------------------------------------\n",
      "Svt[info]: Level of Parallelism: 4\n",
      "Svt[info]: Number of PPCS 107\n",
      "Svt[info]: [asm level on system : up to neon_dotprod]\n",
      "Svt[info]: [asm level selected : up to neon_dotprod]\n",
      "Svt[info]: -------------------------------------------\n",
      "Svt[info]: SVT [config]: main profile\ttier (auto)\tlevel (auto)\n",
      "Svt[info]: SVT [config]: width / height / fps numerator / fps denominator \t\t: 224 / 224 / 20 / 1\n",
      "Svt[info]: SVT [config]: bit-depth / color format \t\t\t\t\t: 8 / YUV420\n",
      "Svt[info]: SVT [config]: preset / tune / pred struct \t\t\t\t\t: 8 / PSNR / random access\n",
      "Svt[info]: SVT [config]: gop size / mini-gop size / key-frame type \t\t\t: 2 / 32 / key frame\n",
      "Svt[info]: SVT [config]: BRC mode / rate factor \t\t\t\t\t: CRF / 30 \n",
      "Svt[info]: SVT [config]: AQ mode / variance boost \t\t\t\t\t: 2 / 0\n",
      "Svt[info]: SVT [config]: sharpness / luminance-based QP bias \t\t\t: 0 / 0\n",
      "Svt[info]: Svt[info]: -------------------------------------------\n",
      "Svt[info]: -------------------------------------------\n",
      "Svt[info]: SVT [version]:\tSVT-AV1 Encoder Lib v3.0.0\n",
      "Svt[info]: SVT [build]  :\tApple LLVM 15.0.0 (clang-1500.3.9.4)\t 64 bit\n",
      "Svt[info]: LIB Build date: Apr  5 2025 06:53:59\n",
      "Svt[info]: -------------------------------------------\n",
      "Svt[info]: Level of Parallelism: 4\n",
      "Svt[info]: Number of PPCS 107\n",
      "Svt[info]: [asm level on system : up to neon_dotprod]\n",
      "Svt[info]: [asm level selected : up to neon_dotprod]\n",
      "Svt[info]: -------------------------------------------\n",
      "Svt[info]: SVT [config]: main profile\ttier (auto)\tlevel (auto)\n",
      "Svt[info]: SVT [config]: width / height / fps numerator / fps denominator \t\t: 224 / 224 / 20 / 1\n",
      "Svt[info]: SVT [config]: bit-depth / color format \t\t\t\t\t: 8 / YUV420\n",
      "Svt[info]: SVT [config]: preset / tune / pred struct \t\t\t\t\t: 8 / PSNR / random access\n",
      "Svt[info]: SVT [config]: gop size / mini-gop size / key-frame type \t\t\t: 2 / 32 / key frame\n",
      "Svt[info]: SVT [config]: BRC mode / rate factor \t\t\t\t\t: CRF / 30 \n",
      "Svt[info]: SVT [config]: AQ mode / variance boost \t\t\t\t\t: 2 / 0\n",
      "Svt[info]: SVT [config]: sharpness / luminance-based QP bias \t\t\t: 0 / 0\n",
      "Svt[info]: Svt[info]: -------------------------------------------\n",
      "Svt[info]: -------------------------------------------\n",
      "Svt[info]: SVT [version]:\tSVT-AV1 Encoder Lib v3.0.0\n",
      "Svt[info]: SVT [build]  :\tApple LLVM 15.0.0 (clang-1500.3.9.4)\t 64 bit\n",
      "Svt[info]: LIB Build date: Apr  5 2025 06:53:59\n",
      "Svt[info]: -------------------------------------------\n",
      "Svt[info]: Level of Parallelism: 4\n",
      "Svt[info]: Number of PPCS 107\n",
      "Svt[info]: [asm level on system : up to neon_dotprod]\n",
      "Svt[info]: [asm level selected : up to neon_dotprod]\n",
      "Svt[info]: -------------------------------------------\n",
      "Svt[info]: SVT [config]: main profile\ttier (auto)\tlevel (auto)\n",
      "Svt[info]: SVT [config]: width / height / fps numerator / fps denominator \t\t: 224 / 224 / 20 / 1\n",
      "Svt[info]: SVT [config]: bit-depth / color format \t\t\t\t\t: 8 / YUV420\n",
      "Svt[info]: SVT [config]: preset / tune / pred struct \t\t\t\t\t: 8 / PSNR / random access\n",
      "Svt[info]: SVT [config]: gop size / mini-gop size / key-frame type \t\t\t: 2 / 32 / key frame\n",
      "Svt[info]: SVT [config]: BRC mode / rate factor \t\t\t\t\t: CRF / 30 \n",
      "Svt[info]: SVT [config]: AQ mode / variance boost \t\t\t\t\t: 2 / 0\n",
      "Svt[info]: SVT [config]: sharpness / luminance-based QP bias \t\t\t: 0 / 0\n",
      "Svt[info]: Svt[info]: -------------------------------------------\n"
     ]
    },
    {
     "name": "stdout",
     "output_type": "stream",
     "text": [
      "Saved episode 7, total frames in episode: 650\n",
      "\n",
      "Processing episode 8/52: kitchen_data_green_2025_05_10_14_37_15.zarr\n",
      "Loaded data: 617 hand joint frames, 925 pose frames\n"
     ]
    },
    {
     "data": {
      "application/vnd.jupyter.widget-view+json": {
       "model_id": "aaddbfba5be04895a8f0f71e6d4c37fe",
       "version_major": 2,
       "version_minor": 0
      },
      "text/plain": [
       "  0%|          | 0/616 [00:00<?, ?it/s]"
      ]
     },
     "metadata": {},
     "output_type": "display_data"
    },
    {
     "data": {
      "application/vnd.jupyter.widget-view+json": {
       "model_id": "925145ce6a694f8c91727e21952addaa",
       "version_major": 2,
       "version_minor": 0
      },
      "text/plain": [
       "Map:   0%|          | 0/616 [00:00<?, ? examples/s]"
      ]
     },
     "metadata": {},
     "output_type": "display_data"
    },
    {
     "data": {
      "application/vnd.jupyter.widget-view+json": {
       "model_id": "c2422e3230614b6ebec21659214547c7",
       "version_major": 2,
       "version_minor": 0
      },
      "text/plain": [
       "Creating parquet from Arrow format:   0%|          | 0/1 [00:00<?, ?ba/s]"
      ]
     },
     "metadata": {},
     "output_type": "display_data"
    },
    {
     "name": "stderr",
     "output_type": "stream",
     "text": [
      "Svt[info]: -------------------------------------------\n",
      "Svt[info]: SVT [version]:\tSVT-AV1 Encoder Lib v3.0.0\n",
      "Svt[info]: SVT [build]  :\tApple LLVM 15.0.0 (clang-1500.3.9.4)\t 64 bit\n",
      "Svt[info]: LIB Build date: Apr  5 2025 06:53:59\n",
      "Svt[info]: -------------------------------------------\n",
      "Svt[info]: Level of Parallelism: 4\n",
      "Svt[info]: Number of PPCS 107\n",
      "Svt[info]: [asm level on system : up to neon_dotprod]\n",
      "Svt[info]: [asm level selected : up to neon_dotprod]\n",
      "Svt[info]: -------------------------------------------\n",
      "Svt[info]: SVT [config]: main profile\ttier (auto)\tlevel (auto)\n",
      "Svt[info]: SVT [config]: width / height / fps numerator / fps denominator \t\t: 224 / 224 / 20 / 1\n",
      "Svt[info]: SVT [config]: bit-depth / color format \t\t\t\t\t: 8 / YUV420\n",
      "Svt[info]: SVT [config]: preset / tune / pred struct \t\t\t\t\t: 8 / PSNR / random access\n",
      "Svt[info]: SVT [config]: gop size / mini-gop size / key-frame type \t\t\t: 2 / 32 / key frame\n",
      "Svt[info]: SVT [config]: BRC mode / rate factor \t\t\t\t\t: CRF / 30 \n",
      "Svt[info]: SVT [config]: AQ mode / variance boost \t\t\t\t\t: 2 / 0\n",
      "Svt[info]: SVT [config]: sharpness / luminance-based QP bias \t\t\t: 0 / 0\n",
      "Svt[info]: Svt[info]: -------------------------------------------\n",
      "Svt[info]: -------------------------------------------\n",
      "Svt[info]: SVT [version]:\tSVT-AV1 Encoder Lib v3.0.0\n",
      "Svt[info]: SVT [build]  :\tApple LLVM 15.0.0 (clang-1500.3.9.4)\t 64 bit\n",
      "Svt[info]: LIB Build date: Apr  5 2025 06:53:59\n",
      "Svt[info]: -------------------------------------------\n",
      "Svt[info]: Level of Parallelism: 4\n",
      "Svt[info]: Number of PPCS 107\n",
      "Svt[info]: [asm level on system : up to neon_dotprod]\n",
      "Svt[info]: [asm level selected : up to neon_dotprod]\n",
      "Svt[info]: -------------------------------------------\n",
      "Svt[info]: SVT [config]: main profile\ttier (auto)\tlevel (auto)\n",
      "Svt[info]: SVT [config]: width / height / fps numerator / fps denominator \t\t: 224 / 224 / 20 / 1\n",
      "Svt[info]: SVT [config]: bit-depth / color format \t\t\t\t\t: 8 / YUV420\n",
      "Svt[info]: SVT [config]: preset / tune / pred struct \t\t\t\t\t: 8 / PSNR / random access\n",
      "Svt[info]: SVT [config]: gop size / mini-gop size / key-frame type \t\t\t: 2 / 32 / key frame\n",
      "Svt[info]: SVT [config]: BRC mode / rate factor \t\t\t\t\t: CRF / 30 \n",
      "Svt[info]: SVT [config]: AQ mode / variance boost \t\t\t\t\t: 2 / 0\n",
      "Svt[info]: SVT [config]: sharpness / luminance-based QP bias \t\t\t: 0 / 0\n",
      "Svt[info]: Svt[info]: -------------------------------------------\n",
      "Svt[info]: -------------------------------------------\n",
      "Svt[info]: SVT [version]:\tSVT-AV1 Encoder Lib v3.0.0\n",
      "Svt[info]: SVT [build]  :\tApple LLVM 15.0.0 (clang-1500.3.9.4)\t 64 bit\n",
      "Svt[info]: LIB Build date: Apr  5 2025 06:53:59\n",
      "Svt[info]: -------------------------------------------\n",
      "Svt[info]: Level of Parallelism: 4\n",
      "Svt[info]: Number of PPCS 107\n",
      "Svt[info]: [asm level on system : up to neon_dotprod]\n",
      "Svt[info]: [asm level selected : up to neon_dotprod]\n",
      "Svt[info]: -------------------------------------------\n",
      "Svt[info]: SVT [config]: main profile\ttier (auto)\tlevel (auto)\n",
      "Svt[info]: SVT [config]: width / height / fps numerator / fps denominator \t\t: 224 / 224 / 20 / 1\n",
      "Svt[info]: SVT [config]: bit-depth / color format \t\t\t\t\t: 8 / YUV420\n",
      "Svt[info]: SVT [config]: preset / tune / pred struct \t\t\t\t\t: 8 / PSNR / random access\n",
      "Svt[info]: SVT [config]: gop size / mini-gop size / key-frame type \t\t\t: 2 / 32 / key frame\n",
      "Svt[info]: SVT [config]: BRC mode / rate factor \t\t\t\t\t: CRF / 30 \n",
      "Svt[info]: SVT [config]: AQ mode / variance boost \t\t\t\t\t: 2 / 0\n",
      "Svt[info]: SVT [config]: sharpness / luminance-based QP bias \t\t\t: 0 / 0\n",
      "Svt[info]: Svt[info]: -------------------------------------------\n"
     ]
    },
    {
     "name": "stdout",
     "output_type": "stream",
     "text": [
      "Saved episode 8, total frames in episode: 616\n",
      "\n",
      "Processing episode 9/52: kitchen_data_green_2025_05_10_14_38_12.zarr\n",
      "Loaded data: 669 hand joint frames, 1004 pose frames\n"
     ]
    },
    {
     "data": {
      "application/vnd.jupyter.widget-view+json": {
       "model_id": "acd5f1c00d5d40f8848849f0852aa385",
       "version_major": 2,
       "version_minor": 0
      },
      "text/plain": [
       "  0%|          | 0/668 [00:00<?, ?it/s]"
      ]
     },
     "metadata": {},
     "output_type": "display_data"
    },
    {
     "data": {
      "application/vnd.jupyter.widget-view+json": {
       "model_id": "5f3a4629402840daba5c968d538242ad",
       "version_major": 2,
       "version_minor": 0
      },
      "text/plain": [
       "Map:   0%|          | 0/668 [00:00<?, ? examples/s]"
      ]
     },
     "metadata": {},
     "output_type": "display_data"
    },
    {
     "data": {
      "application/vnd.jupyter.widget-view+json": {
       "model_id": "2a377319d2d54601873d4f8c8345e769",
       "version_major": 2,
       "version_minor": 0
      },
      "text/plain": [
       "Creating parquet from Arrow format:   0%|          | 0/1 [00:00<?, ?ba/s]"
      ]
     },
     "metadata": {},
     "output_type": "display_data"
    },
    {
     "name": "stderr",
     "output_type": "stream",
     "text": [
      "Svt[info]: -------------------------------------------\n",
      "Svt[info]: SVT [version]:\tSVT-AV1 Encoder Lib v3.0.0\n",
      "Svt[info]: SVT [build]  :\tApple LLVM 15.0.0 (clang-1500.3.9.4)\t 64 bit\n",
      "Svt[info]: LIB Build date: Apr  5 2025 06:53:59\n",
      "Svt[info]: -------------------------------------------\n",
      "Svt[info]: Level of Parallelism: 4\n",
      "Svt[info]: Number of PPCS 107\n",
      "Svt[info]: [asm level on system : up to neon_dotprod]\n",
      "Svt[info]: [asm level selected : up to neon_dotprod]\n",
      "Svt[info]: -------------------------------------------\n",
      "Svt[info]: SVT [config]: main profile\ttier (auto)\tlevel (auto)\n",
      "Svt[info]: SVT [config]: width / height / fps numerator / fps denominator \t\t: 224 / 224 / 20 / 1\n",
      "Svt[info]: SVT [config]: bit-depth / color format \t\t\t\t\t: 8 / YUV420\n",
      "Svt[info]: SVT [config]: preset / tune / pred struct \t\t\t\t\t: 8 / PSNR / random access\n",
      "Svt[info]: SVT [config]: gop size / mini-gop size / key-frame type \t\t\t: 2 / 32 / key frame\n",
      "Svt[info]: SVT [config]: BRC mode / rate factor \t\t\t\t\t: CRF / 30 \n",
      "Svt[info]: SVT [config]: AQ mode / variance boost \t\t\t\t\t: 2 / 0\n",
      "Svt[info]: SVT [config]: sharpness / luminance-based QP bias \t\t\t: 0 / 0\n",
      "Svt[info]: Svt[info]: -------------------------------------------\n",
      "Svt[info]: -------------------------------------------\n",
      "Svt[info]: SVT [version]:\tSVT-AV1 Encoder Lib v3.0.0\n",
      "Svt[info]: SVT [build]  :\tApple LLVM 15.0.0 (clang-1500.3.9.4)\t 64 bit\n",
      "Svt[info]: LIB Build date: Apr  5 2025 06:53:59\n",
      "Svt[info]: -------------------------------------------\n",
      "Svt[info]: Level of Parallelism: 4\n",
      "Svt[info]: Number of PPCS 107\n",
      "Svt[info]: [asm level on system : up to neon_dotprod]\n",
      "Svt[info]: [asm level selected : up to neon_dotprod]\n",
      "Svt[info]: -------------------------------------------\n",
      "Svt[info]: SVT [config]: main profile\ttier (auto)\tlevel (auto)\n",
      "Svt[info]: SVT [config]: width / height / fps numerator / fps denominator \t\t: 224 / 224 / 20 / 1\n",
      "Svt[info]: SVT [config]: bit-depth / color format \t\t\t\t\t: 8 / YUV420\n",
      "Svt[info]: SVT [config]: preset / tune / pred struct \t\t\t\t\t: 8 / PSNR / random access\n",
      "Svt[info]: SVT [config]: gop size / mini-gop size / key-frame type \t\t\t: 2 / 32 / key frame\n",
      "Svt[info]: SVT [config]: BRC mode / rate factor \t\t\t\t\t: CRF / 30 \n",
      "Svt[info]: SVT [config]: AQ mode / variance boost \t\t\t\t\t: 2 / 0\n",
      "Svt[info]: SVT [config]: sharpness / luminance-based QP bias \t\t\t: 0 / 0\n",
      "Svt[info]: Svt[info]: -------------------------------------------\n",
      "Svt[info]: -------------------------------------------\n",
      "Svt[info]: SVT [version]:\tSVT-AV1 Encoder Lib v3.0.0\n",
      "Svt[info]: SVT [build]  :\tApple LLVM 15.0.0 (clang-1500.3.9.4)\t 64 bit\n",
      "Svt[info]: LIB Build date: Apr  5 2025 06:53:59\n",
      "Svt[info]: -------------------------------------------\n",
      "Svt[info]: Level of Parallelism: 4\n",
      "Svt[info]: Number of PPCS 107\n",
      "Svt[info]: [asm level on system : up to neon_dotprod]\n",
      "Svt[info]: [asm level selected : up to neon_dotprod]\n",
      "Svt[info]: -------------------------------------------\n",
      "Svt[info]: SVT [config]: main profile\ttier (auto)\tlevel (auto)\n",
      "Svt[info]: SVT [config]: width / height / fps numerator / fps denominator \t\t: 224 / 224 / 20 / 1\n",
      "Svt[info]: SVT [config]: bit-depth / color format \t\t\t\t\t: 8 / YUV420\n",
      "Svt[info]: SVT [config]: preset / tune / pred struct \t\t\t\t\t: 8 / PSNR / random access\n",
      "Svt[info]: SVT [config]: gop size / mini-gop size / key-frame type \t\t\t: 2 / 32 / key frame\n",
      "Svt[info]: SVT [config]: BRC mode / rate factor \t\t\t\t\t: CRF / 30 \n",
      "Svt[info]: SVT [config]: AQ mode / variance boost \t\t\t\t\t: 2 / 0\n",
      "Svt[info]: SVT [config]: sharpness / luminance-based QP bias \t\t\t: 0 / 0\n",
      "Svt[info]: Svt[info]: -------------------------------------------\n"
     ]
    },
    {
     "name": "stdout",
     "output_type": "stream",
     "text": [
      "Saved episode 9, total frames in episode: 668\n",
      "\n",
      "Processing episode 10/52: kitchen_data_green_2025_05_10_14_39_05.zarr\n",
      "Loaded data: 704 hand joint frames, 1056 pose frames\n"
     ]
    },
    {
     "data": {
      "application/vnd.jupyter.widget-view+json": {
       "model_id": "f6475e75b0a649939a215fb79f2e3551",
       "version_major": 2,
       "version_minor": 0
      },
      "text/plain": [
       "  0%|          | 0/703 [00:00<?, ?it/s]"
      ]
     },
     "metadata": {},
     "output_type": "display_data"
    },
    {
     "data": {
      "application/vnd.jupyter.widget-view+json": {
       "model_id": "a53c64030c134b48acef64ccac78c9e4",
       "version_major": 2,
       "version_minor": 0
      },
      "text/plain": [
       "Map:   0%|          | 0/703 [00:00<?, ? examples/s]"
      ]
     },
     "metadata": {},
     "output_type": "display_data"
    },
    {
     "data": {
      "application/vnd.jupyter.widget-view+json": {
       "model_id": "dc85ecd72bc645e6b4bc69f488db2971",
       "version_major": 2,
       "version_minor": 0
      },
      "text/plain": [
       "Creating parquet from Arrow format:   0%|          | 0/1 [00:00<?, ?ba/s]"
      ]
     },
     "metadata": {},
     "output_type": "display_data"
    },
    {
     "name": "stderr",
     "output_type": "stream",
     "text": [
      "Svt[info]: -------------------------------------------\n",
      "Svt[info]: SVT [version]:\tSVT-AV1 Encoder Lib v3.0.0\n",
      "Svt[info]: SVT [build]  :\tApple LLVM 15.0.0 (clang-1500.3.9.4)\t 64 bit\n",
      "Svt[info]: LIB Build date: Apr  5 2025 06:53:59\n",
      "Svt[info]: -------------------------------------------\n",
      "Svt[info]: Level of Parallelism: 4\n",
      "Svt[info]: Number of PPCS 107\n",
      "Svt[info]: [asm level on system : up to neon_dotprod]\n",
      "Svt[info]: [asm level selected : up to neon_dotprod]\n",
      "Svt[info]: -------------------------------------------\n",
      "Svt[info]: SVT [config]: main profile\ttier (auto)\tlevel (auto)\n",
      "Svt[info]: SVT [config]: width / height / fps numerator / fps denominator \t\t: 224 / 224 / 20 / 1\n",
      "Svt[info]: SVT [config]: bit-depth / color format \t\t\t\t\t: 8 / YUV420\n",
      "Svt[info]: SVT [config]: preset / tune / pred struct \t\t\t\t\t: 8 / PSNR / random access\n",
      "Svt[info]: SVT [config]: gop size / mini-gop size / key-frame type \t\t\t: 2 / 32 / key frame\n",
      "Svt[info]: SVT [config]: BRC mode / rate factor \t\t\t\t\t: CRF / 30 \n",
      "Svt[info]: SVT [config]: AQ mode / variance boost \t\t\t\t\t: 2 / 0\n",
      "Svt[info]: SVT [config]: sharpness / luminance-based QP bias \t\t\t: 0 / 0\n",
      "Svt[info]: Svt[info]: -------------------------------------------\n",
      "Svt[info]: -------------------------------------------\n",
      "Svt[info]: SVT [version]:\tSVT-AV1 Encoder Lib v3.0.0\n",
      "Svt[info]: SVT [build]  :\tApple LLVM 15.0.0 (clang-1500.3.9.4)\t 64 bit\n",
      "Svt[info]: LIB Build date: Apr  5 2025 06:53:59\n",
      "Svt[info]: -------------------------------------------\n",
      "Svt[info]: Level of Parallelism: 4\n",
      "Svt[info]: Number of PPCS 107\n",
      "Svt[info]: [asm level on system : up to neon_dotprod]\n",
      "Svt[info]: [asm level selected : up to neon_dotprod]\n",
      "Svt[info]: -------------------------------------------\n",
      "Svt[info]: SVT [config]: main profile\ttier (auto)\tlevel (auto)\n",
      "Svt[info]: SVT [config]: width / height / fps numerator / fps denominator \t\t: 224 / 224 / 20 / 1\n",
      "Svt[info]: SVT [config]: bit-depth / color format \t\t\t\t\t: 8 / YUV420\n",
      "Svt[info]: SVT [config]: preset / tune / pred struct \t\t\t\t\t: 8 / PSNR / random access\n",
      "Svt[info]: SVT [config]: gop size / mini-gop size / key-frame type \t\t\t: 2 / 32 / key frame\n",
      "Svt[info]: SVT [config]: BRC mode / rate factor \t\t\t\t\t: CRF / 30 \n",
      "Svt[info]: SVT [config]: AQ mode / variance boost \t\t\t\t\t: 2 / 0\n",
      "Svt[info]: SVT [config]: sharpness / luminance-based QP bias \t\t\t: 0 / 0\n",
      "Svt[info]: Svt[info]: -------------------------------------------\n",
      "Svt[info]: -------------------------------------------\n",
      "Svt[info]: SVT [version]:\tSVT-AV1 Encoder Lib v3.0.0\n",
      "Svt[info]: SVT [build]  :\tApple LLVM 15.0.0 (clang-1500.3.9.4)\t 64 bit\n",
      "Svt[info]: LIB Build date: Apr  5 2025 06:53:59\n",
      "Svt[info]: -------------------------------------------\n",
      "Svt[info]: Level of Parallelism: 4\n",
      "Svt[info]: Number of PPCS 107\n",
      "Svt[info]: [asm level on system : up to neon_dotprod]\n",
      "Svt[info]: [asm level selected : up to neon_dotprod]\n",
      "Svt[info]: -------------------------------------------\n",
      "Svt[info]: SVT [config]: main profile\ttier (auto)\tlevel (auto)\n",
      "Svt[info]: SVT [config]: width / height / fps numerator / fps denominator \t\t: 224 / 224 / 20 / 1\n",
      "Svt[info]: SVT [config]: bit-depth / color format \t\t\t\t\t: 8 / YUV420\n",
      "Svt[info]: SVT [config]: preset / tune / pred struct \t\t\t\t\t: 8 / PSNR / random access\n",
      "Svt[info]: SVT [config]: gop size / mini-gop size / key-frame type \t\t\t: 2 / 32 / key frame\n",
      "Svt[info]: SVT [config]: BRC mode / rate factor \t\t\t\t\t: CRF / 30 \n",
      "Svt[info]: SVT [config]: AQ mode / variance boost \t\t\t\t\t: 2 / 0\n",
      "Svt[info]: SVT [config]: sharpness / luminance-based QP bias \t\t\t: 0 / 0\n",
      "Svt[info]: Svt[info]: -------------------------------------------\n"
     ]
    },
    {
     "name": "stdout",
     "output_type": "stream",
     "text": [
      "Saved episode 10, total frames in episode: 703\n",
      "\n",
      "Processing episode 11/52: kitchen_data_green_2025_05_10_14_40_07.zarr\n",
      "Loaded data: 650 hand joint frames, 975 pose frames\n"
     ]
    },
    {
     "data": {
      "application/vnd.jupyter.widget-view+json": {
       "model_id": "9bf78c512a804eb2b3120e60902b67ba",
       "version_major": 2,
       "version_minor": 0
      },
      "text/plain": [
       "  0%|          | 0/649 [00:00<?, ?it/s]"
      ]
     },
     "metadata": {},
     "output_type": "display_data"
    },
    {
     "data": {
      "application/vnd.jupyter.widget-view+json": {
       "model_id": "bdb141da009d4843bc07e279af2a073b",
       "version_major": 2,
       "version_minor": 0
      },
      "text/plain": [
       "Map:   0%|          | 0/649 [00:00<?, ? examples/s]"
      ]
     },
     "metadata": {},
     "output_type": "display_data"
    },
    {
     "data": {
      "application/vnd.jupyter.widget-view+json": {
       "model_id": "774a88a273e243a18d3b10405d7cb521",
       "version_major": 2,
       "version_minor": 0
      },
      "text/plain": [
       "Creating parquet from Arrow format:   0%|          | 0/1 [00:00<?, ?ba/s]"
      ]
     },
     "metadata": {},
     "output_type": "display_data"
    },
    {
     "name": "stderr",
     "output_type": "stream",
     "text": [
      "Svt[info]: -------------------------------------------\n",
      "Svt[info]: SVT [version]:\tSVT-AV1 Encoder Lib v3.0.0\n",
      "Svt[info]: SVT [build]  :\tApple LLVM 15.0.0 (clang-1500.3.9.4)\t 64 bit\n",
      "Svt[info]: LIB Build date: Apr  5 2025 06:53:59\n",
      "Svt[info]: -------------------------------------------\n",
      "Svt[info]: Level of Parallelism: 4\n",
      "Svt[info]: Number of PPCS 107\n",
      "Svt[info]: [asm level on system : up to neon_dotprod]\n",
      "Svt[info]: [asm level selected : up to neon_dotprod]\n",
      "Svt[info]: -------------------------------------------\n",
      "Svt[info]: SVT [config]: main profile\ttier (auto)\tlevel (auto)\n",
      "Svt[info]: SVT [config]: width / height / fps numerator / fps denominator \t\t: 224 / 224 / 20 / 1\n",
      "Svt[info]: SVT [config]: bit-depth / color format \t\t\t\t\t: 8 / YUV420\n",
      "Svt[info]: SVT [config]: preset / tune / pred struct \t\t\t\t\t: 8 / PSNR / random access\n",
      "Svt[info]: SVT [config]: gop size / mini-gop size / key-frame type \t\t\t: 2 / 32 / key frame\n",
      "Svt[info]: SVT [config]: BRC mode / rate factor \t\t\t\t\t: CRF / 30 \n",
      "Svt[info]: SVT [config]: AQ mode / variance boost \t\t\t\t\t: 2 / 0\n",
      "Svt[info]: SVT [config]: sharpness / luminance-based QP bias \t\t\t: 0 / 0\n",
      "Svt[info]: Svt[info]: -------------------------------------------\n",
      "Svt[info]: -------------------------------------------\n",
      "Svt[info]: SVT [version]:\tSVT-AV1 Encoder Lib v3.0.0\n",
      "Svt[info]: SVT [build]  :\tApple LLVM 15.0.0 (clang-1500.3.9.4)\t 64 bit\n",
      "Svt[info]: LIB Build date: Apr  5 2025 06:53:59\n",
      "Svt[info]: -------------------------------------------\n",
      "Svt[info]: Level of Parallelism: 4\n",
      "Svt[info]: Number of PPCS 107\n",
      "Svt[info]: [asm level on system : up to neon_dotprod]\n",
      "Svt[info]: [asm level selected : up to neon_dotprod]\n",
      "Svt[info]: -------------------------------------------\n",
      "Svt[info]: SVT [config]: main profile\ttier (auto)\tlevel (auto)\n",
      "Svt[info]: SVT [config]: width / height / fps numerator / fps denominator \t\t: 224 / 224 / 20 / 1\n",
      "Svt[info]: SVT [config]: bit-depth / color format \t\t\t\t\t: 8 / YUV420\n",
      "Svt[info]: SVT [config]: preset / tune / pred struct \t\t\t\t\t: 8 / PSNR / random access\n",
      "Svt[info]: SVT [config]: gop size / mini-gop size / key-frame type \t\t\t: 2 / 32 / key frame\n",
      "Svt[info]: SVT [config]: BRC mode / rate factor \t\t\t\t\t: CRF / 30 \n",
      "Svt[info]: SVT [config]: AQ mode / variance boost \t\t\t\t\t: 2 / 0\n",
      "Svt[info]: SVT [config]: sharpness / luminance-based QP bias \t\t\t: 0 / 0\n",
      "Svt[info]: Svt[info]: -------------------------------------------\n",
      "Svt[info]: -------------------------------------------\n",
      "Svt[info]: SVT [version]:\tSVT-AV1 Encoder Lib v3.0.0\n",
      "Svt[info]: SVT [build]  :\tApple LLVM 15.0.0 (clang-1500.3.9.4)\t 64 bit\n",
      "Svt[info]: LIB Build date: Apr  5 2025 06:53:59\n",
      "Svt[info]: -------------------------------------------\n",
      "Svt[info]: Level of Parallelism: 4\n",
      "Svt[info]: Number of PPCS 107\n",
      "Svt[info]: [asm level on system : up to neon_dotprod]\n",
      "Svt[info]: [asm level selected : up to neon_dotprod]\n",
      "Svt[info]: -------------------------------------------\n",
      "Svt[info]: SVT [config]: main profile\ttier (auto)\tlevel (auto)\n",
      "Svt[info]: SVT [config]: width / height / fps numerator / fps denominator \t\t: 224 / 224 / 20 / 1\n",
      "Svt[info]: SVT [config]: bit-depth / color format \t\t\t\t\t: 8 / YUV420\n",
      "Svt[info]: SVT [config]: preset / tune / pred struct \t\t\t\t\t: 8 / PSNR / random access\n",
      "Svt[info]: SVT [config]: gop size / mini-gop size / key-frame type \t\t\t: 2 / 32 / key frame\n",
      "Svt[info]: SVT [config]: BRC mode / rate factor \t\t\t\t\t: CRF / 30 \n",
      "Svt[info]: SVT [config]: AQ mode / variance boost \t\t\t\t\t: 2 / 0\n",
      "Svt[info]: SVT [config]: sharpness / luminance-based QP bias \t\t\t: 0 / 0\n",
      "Svt[info]: Svt[info]: -------------------------------------------\n"
     ]
    },
    {
     "name": "stdout",
     "output_type": "stream",
     "text": [
      "Saved episode 11, total frames in episode: 649\n",
      "\n",
      "Processing episode 12/52: kitchen_data_green_2025_05_10_14_41_33.zarr\n",
      "Loaded data: 655 hand joint frames, 984 pose frames\n"
     ]
    },
    {
     "data": {
      "application/vnd.jupyter.widget-view+json": {
       "model_id": "00aa28df67ae492e998bc660d1e61388",
       "version_major": 2,
       "version_minor": 0
      },
      "text/plain": [
       "  0%|          | 0/654 [00:00<?, ?it/s]"
      ]
     },
     "metadata": {},
     "output_type": "display_data"
    },
    {
     "data": {
      "application/vnd.jupyter.widget-view+json": {
       "model_id": "ac38a24850c849e89dbd04d9f36db3e9",
       "version_major": 2,
       "version_minor": 0
      },
      "text/plain": [
       "Map:   0%|          | 0/654 [00:00<?, ? examples/s]"
      ]
     },
     "metadata": {},
     "output_type": "display_data"
    },
    {
     "data": {
      "application/vnd.jupyter.widget-view+json": {
       "model_id": "be09c59134234020a265358b3052be24",
       "version_major": 2,
       "version_minor": 0
      },
      "text/plain": [
       "Creating parquet from Arrow format:   0%|          | 0/1 [00:00<?, ?ba/s]"
      ]
     },
     "metadata": {},
     "output_type": "display_data"
    },
    {
     "name": "stderr",
     "output_type": "stream",
     "text": [
      "Svt[info]: -------------------------------------------\n",
      "Svt[info]: SVT [version]:\tSVT-AV1 Encoder Lib v3.0.0\n",
      "Svt[info]: SVT [build]  :\tApple LLVM 15.0.0 (clang-1500.3.9.4)\t 64 bit\n",
      "Svt[info]: LIB Build date: Apr  5 2025 06:53:59\n",
      "Svt[info]: -------------------------------------------\n",
      "Svt[info]: Level of Parallelism: 4\n",
      "Svt[info]: Number of PPCS 107\n",
      "Svt[info]: [asm level on system : up to neon_dotprod]\n",
      "Svt[info]: [asm level selected : up to neon_dotprod]\n",
      "Svt[info]: -------------------------------------------\n",
      "Svt[info]: SVT [config]: main profile\ttier (auto)\tlevel (auto)\n",
      "Svt[info]: SVT [config]: width / height / fps numerator / fps denominator \t\t: 224 / 224 / 20 / 1\n",
      "Svt[info]: SVT [config]: bit-depth / color format \t\t\t\t\t: 8 / YUV420\n",
      "Svt[info]: SVT [config]: preset / tune / pred struct \t\t\t\t\t: 8 / PSNR / random access\n",
      "Svt[info]: SVT [config]: gop size / mini-gop size / key-frame type \t\t\t: 2 / 32 / key frame\n",
      "Svt[info]: SVT [config]: BRC mode / rate factor \t\t\t\t\t: CRF / 30 \n",
      "Svt[info]: SVT [config]: AQ mode / variance boost \t\t\t\t\t: 2 / 0\n",
      "Svt[info]: SVT [config]: sharpness / luminance-based QP bias \t\t\t: 0 / 0\n",
      "Svt[info]: Svt[info]: -------------------------------------------\n",
      "Svt[info]: -------------------------------------------\n",
      "Svt[info]: SVT [version]:\tSVT-AV1 Encoder Lib v3.0.0\n",
      "Svt[info]: SVT [build]  :\tApple LLVM 15.0.0 (clang-1500.3.9.4)\t 64 bit\n",
      "Svt[info]: LIB Build date: Apr  5 2025 06:53:59\n",
      "Svt[info]: -------------------------------------------\n",
      "Svt[info]: Level of Parallelism: 4\n",
      "Svt[info]: Number of PPCS 107\n",
      "Svt[info]: [asm level on system : up to neon_dotprod]\n",
      "Svt[info]: [asm level selected : up to neon_dotprod]\n",
      "Svt[info]: -------------------------------------------\n",
      "Svt[info]: SVT [config]: main profile\ttier (auto)\tlevel (auto)\n",
      "Svt[info]: SVT [config]: width / height / fps numerator / fps denominator \t\t: 224 / 224 / 20 / 1\n",
      "Svt[info]: SVT [config]: bit-depth / color format \t\t\t\t\t: 8 / YUV420\n",
      "Svt[info]: SVT [config]: preset / tune / pred struct \t\t\t\t\t: 8 / PSNR / random access\n",
      "Svt[info]: SVT [config]: gop size / mini-gop size / key-frame type \t\t\t: 2 / 32 / key frame\n",
      "Svt[info]: SVT [config]: BRC mode / rate factor \t\t\t\t\t: CRF / 30 \n",
      "Svt[info]: SVT [config]: AQ mode / variance boost \t\t\t\t\t: 2 / 0\n",
      "Svt[info]: SVT [config]: sharpness / luminance-based QP bias \t\t\t: 0 / 0\n",
      "Svt[info]: Svt[info]: -------------------------------------------\n",
      "Svt[info]: -------------------------------------------\n",
      "Svt[info]: SVT [version]:\tSVT-AV1 Encoder Lib v3.0.0\n",
      "Svt[info]: SVT [build]  :\tApple LLVM 15.0.0 (clang-1500.3.9.4)\t 64 bit\n",
      "Svt[info]: LIB Build date: Apr  5 2025 06:53:59\n",
      "Svt[info]: -------------------------------------------\n",
      "Svt[info]: Level of Parallelism: 4\n",
      "Svt[info]: Number of PPCS 107\n",
      "Svt[info]: [asm level on system : up to neon_dotprod]\n",
      "Svt[info]: [asm level selected : up to neon_dotprod]\n",
      "Svt[info]: -------------------------------------------\n",
      "Svt[info]: SVT [config]: main profile\ttier (auto)\tlevel (auto)\n",
      "Svt[info]: SVT [config]: width / height / fps numerator / fps denominator \t\t: 224 / 224 / 20 / 1\n",
      "Svt[info]: SVT [config]: bit-depth / color format \t\t\t\t\t: 8 / YUV420\n",
      "Svt[info]: SVT [config]: preset / tune / pred struct \t\t\t\t\t: 8 / PSNR / random access\n",
      "Svt[info]: SVT [config]: gop size / mini-gop size / key-frame type \t\t\t: 2 / 32 / key frame\n",
      "Svt[info]: SVT [config]: BRC mode / rate factor \t\t\t\t\t: CRF / 30 \n",
      "Svt[info]: SVT [config]: AQ mode / variance boost \t\t\t\t\t: 2 / 0\n",
      "Svt[info]: SVT [config]: sharpness / luminance-based QP bias \t\t\t: 0 / 0\n",
      "Svt[info]: Svt[info]: -------------------------------------------\n"
     ]
    },
    {
     "name": "stdout",
     "output_type": "stream",
     "text": [
      "Saved episode 12, total frames in episode: 654\n",
      "\n",
      "Processing episode 13/52: kitchen_data_green_2025_05_10_14_42_36.zarr\n",
      "Loaded data: 760 hand joint frames, 1141 pose frames\n"
     ]
    },
    {
     "data": {
      "application/vnd.jupyter.widget-view+json": {
       "model_id": "635bd66e70b14a44a253c935881a0ed1",
       "version_major": 2,
       "version_minor": 0
      },
      "text/plain": [
       "  0%|          | 0/759 [00:00<?, ?it/s]"
      ]
     },
     "metadata": {},
     "output_type": "display_data"
    },
    {
     "data": {
      "application/vnd.jupyter.widget-view+json": {
       "model_id": "01f3c83b77f54d99bd7545062647ea85",
       "version_major": 2,
       "version_minor": 0
      },
      "text/plain": [
       "Map:   0%|          | 0/759 [00:00<?, ? examples/s]"
      ]
     },
     "metadata": {},
     "output_type": "display_data"
    },
    {
     "data": {
      "application/vnd.jupyter.widget-view+json": {
       "model_id": "16b7abb1a5e24471b893c5e44c884d59",
       "version_major": 2,
       "version_minor": 0
      },
      "text/plain": [
       "Creating parquet from Arrow format:   0%|          | 0/1 [00:00<?, ?ba/s]"
      ]
     },
     "metadata": {},
     "output_type": "display_data"
    },
    {
     "name": "stderr",
     "output_type": "stream",
     "text": [
      "Svt[info]: -------------------------------------------\n",
      "Svt[info]: SVT [version]:\tSVT-AV1 Encoder Lib v3.0.0\n",
      "Svt[info]: SVT [build]  :\tApple LLVM 15.0.0 (clang-1500.3.9.4)\t 64 bit\n",
      "Svt[info]: LIB Build date: Apr  5 2025 06:53:59\n",
      "Svt[info]: -------------------------------------------\n",
      "Svt[info]: Level of Parallelism: 4\n",
      "Svt[info]: Number of PPCS 107\n",
      "Svt[info]: [asm level on system : up to neon_dotprod]\n",
      "Svt[info]: [asm level selected : up to neon_dotprod]\n",
      "Svt[info]: -------------------------------------------\n",
      "Svt[info]: SVT [config]: main profile\ttier (auto)\tlevel (auto)\n",
      "Svt[info]: SVT [config]: width / height / fps numerator / fps denominator \t\t: 224 / 224 / 20 / 1\n",
      "Svt[info]: SVT [config]: bit-depth / color format \t\t\t\t\t: 8 / YUV420\n",
      "Svt[info]: SVT [config]: preset / tune / pred struct \t\t\t\t\t: 8 / PSNR / random access\n",
      "Svt[info]: SVT [config]: gop size / mini-gop size / key-frame type \t\t\t: 2 / 32 / key frame\n",
      "Svt[info]: SVT [config]: BRC mode / rate factor \t\t\t\t\t: CRF / 30 \n",
      "Svt[info]: SVT [config]: AQ mode / variance boost \t\t\t\t\t: 2 / 0\n",
      "Svt[info]: SVT [config]: sharpness / luminance-based QP bias \t\t\t: 0 / 0\n",
      "Svt[info]: Svt[info]: -------------------------------------------\n",
      "Svt[info]: -------------------------------------------\n",
      "Svt[info]: SVT [version]:\tSVT-AV1 Encoder Lib v3.0.0\n",
      "Svt[info]: SVT [build]  :\tApple LLVM 15.0.0 (clang-1500.3.9.4)\t 64 bit\n",
      "Svt[info]: LIB Build date: Apr  5 2025 06:53:59\n",
      "Svt[info]: -------------------------------------------\n",
      "Svt[info]: Level of Parallelism: 4\n",
      "Svt[info]: Number of PPCS 107\n",
      "Svt[info]: [asm level on system : up to neon_dotprod]\n",
      "Svt[info]: [asm level selected : up to neon_dotprod]\n",
      "Svt[info]: -------------------------------------------\n",
      "Svt[info]: SVT [config]: main profile\ttier (auto)\tlevel (auto)\n",
      "Svt[info]: SVT [config]: width / height / fps numerator / fps denominator \t\t: 224 / 224 / 20 / 1\n",
      "Svt[info]: SVT [config]: bit-depth / color format \t\t\t\t\t: 8 / YUV420\n",
      "Svt[info]: SVT [config]: preset / tune / pred struct \t\t\t\t\t: 8 / PSNR / random access\n",
      "Svt[info]: SVT [config]: gop size / mini-gop size / key-frame type \t\t\t: 2 / 32 / key frame\n",
      "Svt[info]: SVT [config]: BRC mode / rate factor \t\t\t\t\t: CRF / 30 \n",
      "Svt[info]: SVT [config]: AQ mode / variance boost \t\t\t\t\t: 2 / 0\n",
      "Svt[info]: SVT [config]: sharpness / luminance-based QP bias \t\t\t: 0 / 0\n",
      "Svt[info]: Svt[info]: -------------------------------------------\n",
      "Svt[info]: -------------------------------------------\n",
      "Svt[info]: SVT [version]:\tSVT-AV1 Encoder Lib v3.0.0\n",
      "Svt[info]: SVT [build]  :\tApple LLVM 15.0.0 (clang-1500.3.9.4)\t 64 bit\n",
      "Svt[info]: LIB Build date: Apr  5 2025 06:53:59\n",
      "Svt[info]: -------------------------------------------\n",
      "Svt[info]: Level of Parallelism: 4\n",
      "Svt[info]: Number of PPCS 107\n",
      "Svt[info]: [asm level on system : up to neon_dotprod]\n",
      "Svt[info]: [asm level selected : up to neon_dotprod]\n",
      "Svt[info]: -------------------------------------------\n",
      "Svt[info]: SVT [config]: main profile\ttier (auto)\tlevel (auto)\n",
      "Svt[info]: SVT [config]: width / height / fps numerator / fps denominator \t\t: 224 / 224 / 20 / 1\n",
      "Svt[info]: SVT [config]: bit-depth / color format \t\t\t\t\t: 8 / YUV420\n",
      "Svt[info]: SVT [config]: preset / tune / pred struct \t\t\t\t\t: 8 / PSNR / random access\n",
      "Svt[info]: SVT [config]: gop size / mini-gop size / key-frame type \t\t\t: 2 / 32 / key frame\n",
      "Svt[info]: SVT [config]: BRC mode / rate factor \t\t\t\t\t: CRF / 30 \n",
      "Svt[info]: SVT [config]: AQ mode / variance boost \t\t\t\t\t: 2 / 0\n",
      "Svt[info]: SVT [config]: sharpness / luminance-based QP bias \t\t\t: 0 / 0\n",
      "Svt[info]: Svt[info]: -------------------------------------------\n"
     ]
    },
    {
     "name": "stdout",
     "output_type": "stream",
     "text": [
      "Saved episode 13, total frames in episode: 759\n",
      "\n",
      "Processing episode 14/52: kitchen_data_green_2025_05_10_14_43_35.zarr\n",
      "Loaded data: 661 hand joint frames, 992 pose frames\n"
     ]
    },
    {
     "data": {
      "application/vnd.jupyter.widget-view+json": {
       "model_id": "f137e1201ac5473fbe17a4cf4eea128a",
       "version_major": 2,
       "version_minor": 0
      },
      "text/plain": [
       "  0%|          | 0/660 [00:00<?, ?it/s]"
      ]
     },
     "metadata": {},
     "output_type": "display_data"
    },
    {
     "data": {
      "application/vnd.jupyter.widget-view+json": {
       "model_id": "fc084bfc0839497385dacf31b81ac534",
       "version_major": 2,
       "version_minor": 0
      },
      "text/plain": [
       "Map:   0%|          | 0/660 [00:00<?, ? examples/s]"
      ]
     },
     "metadata": {},
     "output_type": "display_data"
    },
    {
     "data": {
      "application/vnd.jupyter.widget-view+json": {
       "model_id": "f848d6df43fe46f0a80a0b61b7042aaa",
       "version_major": 2,
       "version_minor": 0
      },
      "text/plain": [
       "Creating parquet from Arrow format:   0%|          | 0/1 [00:00<?, ?ba/s]"
      ]
     },
     "metadata": {},
     "output_type": "display_data"
    },
    {
     "name": "stderr",
     "output_type": "stream",
     "text": [
      "Svt[info]: -------------------------------------------\n",
      "Svt[info]: SVT [version]:\tSVT-AV1 Encoder Lib v3.0.0\n",
      "Svt[info]: SVT [build]  :\tApple LLVM 15.0.0 (clang-1500.3.9.4)\t 64 bit\n",
      "Svt[info]: LIB Build date: Apr  5 2025 06:53:59\n",
      "Svt[info]: -------------------------------------------\n",
      "Svt[info]: Level of Parallelism: 4\n",
      "Svt[info]: Number of PPCS 107\n",
      "Svt[info]: [asm level on system : up to neon_dotprod]\n",
      "Svt[info]: [asm level selected : up to neon_dotprod]\n",
      "Svt[info]: -------------------------------------------\n",
      "Svt[info]: SVT [config]: main profile\ttier (auto)\tlevel (auto)\n",
      "Svt[info]: SVT [config]: width / height / fps numerator / fps denominator \t\t: 224 / 224 / 20 / 1\n",
      "Svt[info]: SVT [config]: bit-depth / color format \t\t\t\t\t: 8 / YUV420\n",
      "Svt[info]: SVT [config]: preset / tune / pred struct \t\t\t\t\t: 8 / PSNR / random access\n",
      "Svt[info]: SVT [config]: gop size / mini-gop size / key-frame type \t\t\t: 2 / 32 / key frame\n",
      "Svt[info]: SVT [config]: BRC mode / rate factor \t\t\t\t\t: CRF / 30 \n",
      "Svt[info]: SVT [config]: AQ mode / variance boost \t\t\t\t\t: 2 / 0\n",
      "Svt[info]: SVT [config]: sharpness / luminance-based QP bias \t\t\t: 0 / 0\n",
      "Svt[info]: Svt[info]: -------------------------------------------\n",
      "Svt[info]: -------------------------------------------\n",
      "Svt[info]: SVT [version]:\tSVT-AV1 Encoder Lib v3.0.0\n",
      "Svt[info]: SVT [build]  :\tApple LLVM 15.0.0 (clang-1500.3.9.4)\t 64 bit\n",
      "Svt[info]: LIB Build date: Apr  5 2025 06:53:59\n",
      "Svt[info]: -------------------------------------------\n",
      "Svt[info]: Level of Parallelism: 4\n",
      "Svt[info]: Number of PPCS 107\n",
      "Svt[info]: [asm level on system : up to neon_dotprod]\n",
      "Svt[info]: [asm level selected : up to neon_dotprod]\n",
      "Svt[info]: -------------------------------------------\n",
      "Svt[info]: SVT [config]: main profile\ttier (auto)\tlevel (auto)\n",
      "Svt[info]: SVT [config]: width / height / fps numerator / fps denominator \t\t: 224 / 224 / 20 / 1\n",
      "Svt[info]: SVT [config]: bit-depth / color format \t\t\t\t\t: 8 / YUV420\n",
      "Svt[info]: SVT [config]: preset / tune / pred struct \t\t\t\t\t: 8 / PSNR / random access\n",
      "Svt[info]: SVT [config]: gop size / mini-gop size / key-frame type \t\t\t: 2 / 32 / key frame\n",
      "Svt[info]: SVT [config]: BRC mode / rate factor \t\t\t\t\t: CRF / 30 \n",
      "Svt[info]: SVT [config]: AQ mode / variance boost \t\t\t\t\t: 2 / 0\n",
      "Svt[info]: SVT [config]: sharpness / luminance-based QP bias \t\t\t: 0 / 0\n",
      "Svt[info]: Svt[info]: -------------------------------------------\n",
      "Svt[info]: -------------------------------------------\n",
      "Svt[info]: SVT [version]:\tSVT-AV1 Encoder Lib v3.0.0\n",
      "Svt[info]: SVT [build]  :\tApple LLVM 15.0.0 (clang-1500.3.9.4)\t 64 bit\n",
      "Svt[info]: LIB Build date: Apr  5 2025 06:53:59\n",
      "Svt[info]: -------------------------------------------\n",
      "Svt[info]: Level of Parallelism: 4\n",
      "Svt[info]: Number of PPCS 107\n",
      "Svt[info]: [asm level on system : up to neon_dotprod]\n",
      "Svt[info]: [asm level selected : up to neon_dotprod]\n",
      "Svt[info]: -------------------------------------------\n",
      "Svt[info]: SVT [config]: main profile\ttier (auto)\tlevel (auto)\n",
      "Svt[info]: SVT [config]: width / height / fps numerator / fps denominator \t\t: 224 / 224 / 20 / 1\n",
      "Svt[info]: SVT [config]: bit-depth / color format \t\t\t\t\t: 8 / YUV420\n",
      "Svt[info]: SVT [config]: preset / tune / pred struct \t\t\t\t\t: 8 / PSNR / random access\n",
      "Svt[info]: SVT [config]: gop size / mini-gop size / key-frame type \t\t\t: 2 / 32 / key frame\n",
      "Svt[info]: SVT [config]: BRC mode / rate factor \t\t\t\t\t: CRF / 30 \n",
      "Svt[info]: SVT [config]: AQ mode / variance boost \t\t\t\t\t: 2 / 0\n",
      "Svt[info]: SVT [config]: sharpness / luminance-based QP bias \t\t\t: 0 / 0\n",
      "Svt[info]: Svt[info]: -------------------------------------------\n"
     ]
    },
    {
     "name": "stdout",
     "output_type": "stream",
     "text": [
      "Saved episode 14, total frames in episode: 660\n",
      "\n",
      "Processing episode 15/52: kitchen_data_green_2025_05_10_14_44_31.zarr\n",
      "Loaded data: 706 hand joint frames, 1059 pose frames\n"
     ]
    },
    {
     "data": {
      "application/vnd.jupyter.widget-view+json": {
       "model_id": "a9727843d8c24768a39dac636ada3d2e",
       "version_major": 2,
       "version_minor": 0
      },
      "text/plain": [
       "  0%|          | 0/705 [00:00<?, ?it/s]"
      ]
     },
     "metadata": {},
     "output_type": "display_data"
    },
    {
     "data": {
      "application/vnd.jupyter.widget-view+json": {
       "model_id": "966b1242ff334d14ac9d4b7c309d34d5",
       "version_major": 2,
       "version_minor": 0
      },
      "text/plain": [
       "Map:   0%|          | 0/705 [00:00<?, ? examples/s]"
      ]
     },
     "metadata": {},
     "output_type": "display_data"
    },
    {
     "data": {
      "application/vnd.jupyter.widget-view+json": {
       "model_id": "12bf3b8f3af44c1493fbf428cf6c6695",
       "version_major": 2,
       "version_minor": 0
      },
      "text/plain": [
       "Creating parquet from Arrow format:   0%|          | 0/1 [00:00<?, ?ba/s]"
      ]
     },
     "metadata": {},
     "output_type": "display_data"
    },
    {
     "name": "stderr",
     "output_type": "stream",
     "text": [
      "Svt[info]: -------------------------------------------\n",
      "Svt[info]: SVT [version]:\tSVT-AV1 Encoder Lib v3.0.0\n",
      "Svt[info]: SVT [build]  :\tApple LLVM 15.0.0 (clang-1500.3.9.4)\t 64 bit\n",
      "Svt[info]: LIB Build date: Apr  5 2025 06:53:59\n",
      "Svt[info]: -------------------------------------------\n",
      "Svt[info]: Level of Parallelism: 4\n",
      "Svt[info]: Number of PPCS 107\n",
      "Svt[info]: [asm level on system : up to neon_dotprod]\n",
      "Svt[info]: [asm level selected : up to neon_dotprod]\n",
      "Svt[info]: -------------------------------------------\n",
      "Svt[info]: SVT [config]: main profile\ttier (auto)\tlevel (auto)\n",
      "Svt[info]: SVT [config]: width / height / fps numerator / fps denominator \t\t: 224 / 224 / 20 / 1\n",
      "Svt[info]: SVT [config]: bit-depth / color format \t\t\t\t\t: 8 / YUV420\n",
      "Svt[info]: SVT [config]: preset / tune / pred struct \t\t\t\t\t: 8 / PSNR / random access\n",
      "Svt[info]: SVT [config]: gop size / mini-gop size / key-frame type \t\t\t: 2 / 32 / key frame\n",
      "Svt[info]: SVT [config]: BRC mode / rate factor \t\t\t\t\t: CRF / 30 \n",
      "Svt[info]: SVT [config]: AQ mode / variance boost \t\t\t\t\t: 2 / 0\n",
      "Svt[info]: SVT [config]: sharpness / luminance-based QP bias \t\t\t: 0 / 0\n",
      "Svt[info]: Svt[info]: -------------------------------------------\n",
      "Svt[info]: -------------------------------------------\n",
      "Svt[info]: SVT [version]:\tSVT-AV1 Encoder Lib v3.0.0\n",
      "Svt[info]: SVT [build]  :\tApple LLVM 15.0.0 (clang-1500.3.9.4)\t 64 bit\n",
      "Svt[info]: LIB Build date: Apr  5 2025 06:53:59\n",
      "Svt[info]: -------------------------------------------\n",
      "Svt[info]: Level of Parallelism: 4\n",
      "Svt[info]: Number of PPCS 107\n",
      "Svt[info]: [asm level on system : up to neon_dotprod]\n",
      "Svt[info]: [asm level selected : up to neon_dotprod]\n",
      "Svt[info]: -------------------------------------------\n",
      "Svt[info]: SVT [config]: main profile\ttier (auto)\tlevel (auto)\n",
      "Svt[info]: SVT [config]: width / height / fps numerator / fps denominator \t\t: 224 / 224 / 20 / 1\n",
      "Svt[info]: SVT [config]: bit-depth / color format \t\t\t\t\t: 8 / YUV420\n",
      "Svt[info]: SVT [config]: preset / tune / pred struct \t\t\t\t\t: 8 / PSNR / random access\n",
      "Svt[info]: SVT [config]: gop size / mini-gop size / key-frame type \t\t\t: 2 / 32 / key frame\n",
      "Svt[info]: SVT [config]: BRC mode / rate factor \t\t\t\t\t: CRF / 30 \n",
      "Svt[info]: SVT [config]: AQ mode / variance boost \t\t\t\t\t: 2 / 0\n",
      "Svt[info]: SVT [config]: sharpness / luminance-based QP bias \t\t\t: 0 / 0\n",
      "Svt[info]: Svt[info]: -------------------------------------------\n",
      "Svt[info]: -------------------------------------------\n",
      "Svt[info]: SVT [version]:\tSVT-AV1 Encoder Lib v3.0.0\n",
      "Svt[info]: SVT [build]  :\tApple LLVM 15.0.0 (clang-1500.3.9.4)\t 64 bit\n",
      "Svt[info]: LIB Build date: Apr  5 2025 06:53:59\n",
      "Svt[info]: -------------------------------------------\n",
      "Svt[info]: Level of Parallelism: 4\n",
      "Svt[info]: Number of PPCS 107\n",
      "Svt[info]: [asm level on system : up to neon_dotprod]\n",
      "Svt[info]: [asm level selected : up to neon_dotprod]\n",
      "Svt[info]: -------------------------------------------\n",
      "Svt[info]: SVT [config]: main profile\ttier (auto)\tlevel (auto)\n",
      "Svt[info]: SVT [config]: width / height / fps numerator / fps denominator \t\t: 224 / 224 / 20 / 1\n",
      "Svt[info]: SVT [config]: bit-depth / color format \t\t\t\t\t: 8 / YUV420\n",
      "Svt[info]: SVT [config]: preset / tune / pred struct \t\t\t\t\t: 8 / PSNR / random access\n",
      "Svt[info]: SVT [config]: gop size / mini-gop size / key-frame type \t\t\t: 2 / 32 / key frame\n",
      "Svt[info]: SVT [config]: BRC mode / rate factor \t\t\t\t\t: CRF / 30 \n",
      "Svt[info]: SVT [config]: AQ mode / variance boost \t\t\t\t\t: 2 / 0\n",
      "Svt[info]: SVT [config]: sharpness / luminance-based QP bias \t\t\t: 0 / 0\n",
      "Svt[info]: Svt[info]: -------------------------------------------\n"
     ]
    },
    {
     "name": "stdout",
     "output_type": "stream",
     "text": [
      "Saved episode 15, total frames in episode: 705\n",
      "\n",
      "Processing episode 16/52: kitchen_data_green_2025_05_10_14_45_31.zarr\n",
      "Loaded data: 725 hand joint frames, 1089 pose frames\n"
     ]
    },
    {
     "data": {
      "application/vnd.jupyter.widget-view+json": {
       "model_id": "519d4e4d96aa44948cf9c6de15cff8a7",
       "version_major": 2,
       "version_minor": 0
      },
      "text/plain": [
       "  0%|          | 0/724 [00:00<?, ?it/s]"
      ]
     },
     "metadata": {},
     "output_type": "display_data"
    },
    {
     "data": {
      "application/vnd.jupyter.widget-view+json": {
       "model_id": "d2daa11406ff4a7a9ee20e6764cf2e09",
       "version_major": 2,
       "version_minor": 0
      },
      "text/plain": [
       "Map:   0%|          | 0/724 [00:00<?, ? examples/s]"
      ]
     },
     "metadata": {},
     "output_type": "display_data"
    },
    {
     "data": {
      "application/vnd.jupyter.widget-view+json": {
       "model_id": "77613028e5dd4179bcbfbf13080fbf17",
       "version_major": 2,
       "version_minor": 0
      },
      "text/plain": [
       "Creating parquet from Arrow format:   0%|          | 0/1 [00:00<?, ?ba/s]"
      ]
     },
     "metadata": {},
     "output_type": "display_data"
    },
    {
     "name": "stderr",
     "output_type": "stream",
     "text": [
      "Svt[info]: -------------------------------------------\n",
      "Svt[info]: SVT [version]:\tSVT-AV1 Encoder Lib v3.0.0\n",
      "Svt[info]: SVT [build]  :\tApple LLVM 15.0.0 (clang-1500.3.9.4)\t 64 bit\n",
      "Svt[info]: LIB Build date: Apr  5 2025 06:53:59\n",
      "Svt[info]: -------------------------------------------\n",
      "Svt[info]: Level of Parallelism: 4\n",
      "Svt[info]: Number of PPCS 107\n",
      "Svt[info]: [asm level on system : up to neon_dotprod]\n",
      "Svt[info]: [asm level selected : up to neon_dotprod]\n",
      "Svt[info]: -------------------------------------------\n",
      "Svt[info]: SVT [config]: main profile\ttier (auto)\tlevel (auto)\n",
      "Svt[info]: SVT [config]: width / height / fps numerator / fps denominator \t\t: 224 / 224 / 20 / 1\n",
      "Svt[info]: SVT [config]: bit-depth / color format \t\t\t\t\t: 8 / YUV420\n",
      "Svt[info]: SVT [config]: preset / tune / pred struct \t\t\t\t\t: 8 / PSNR / random access\n",
      "Svt[info]: SVT [config]: gop size / mini-gop size / key-frame type \t\t\t: 2 / 32 / key frame\n",
      "Svt[info]: SVT [config]: BRC mode / rate factor \t\t\t\t\t: CRF / 30 \n",
      "Svt[info]: SVT [config]: AQ mode / variance boost \t\t\t\t\t: 2 / 0\n",
      "Svt[info]: SVT [config]: sharpness / luminance-based QP bias \t\t\t: 0 / 0\n",
      "Svt[info]: Svt[info]: -------------------------------------------\n",
      "Svt[info]: -------------------------------------------\n",
      "Svt[info]: SVT [version]:\tSVT-AV1 Encoder Lib v3.0.0\n",
      "Svt[info]: SVT [build]  :\tApple LLVM 15.0.0 (clang-1500.3.9.4)\t 64 bit\n",
      "Svt[info]: LIB Build date: Apr  5 2025 06:53:59\n",
      "Svt[info]: -------------------------------------------\n",
      "Svt[info]: Level of Parallelism: 4\n",
      "Svt[info]: Number of PPCS 107\n",
      "Svt[info]: [asm level on system : up to neon_dotprod]\n",
      "Svt[info]: [asm level selected : up to neon_dotprod]\n",
      "Svt[info]: -------------------------------------------\n",
      "Svt[info]: SVT [config]: main profile\ttier (auto)\tlevel (auto)\n",
      "Svt[info]: SVT [config]: width / height / fps numerator / fps denominator \t\t: 224 / 224 / 20 / 1\n",
      "Svt[info]: SVT [config]: bit-depth / color format \t\t\t\t\t: 8 / YUV420\n",
      "Svt[info]: SVT [config]: preset / tune / pred struct \t\t\t\t\t: 8 / PSNR / random access\n",
      "Svt[info]: SVT [config]: gop size / mini-gop size / key-frame type \t\t\t: 2 / 32 / key frame\n",
      "Svt[info]: SVT [config]: BRC mode / rate factor \t\t\t\t\t: CRF / 30 \n",
      "Svt[info]: SVT [config]: AQ mode / variance boost \t\t\t\t\t: 2 / 0\n",
      "Svt[info]: SVT [config]: sharpness / luminance-based QP bias \t\t\t: 0 / 0\n",
      "Svt[info]: Svt[info]: -------------------------------------------\n",
      "Svt[info]: -------------------------------------------\n",
      "Svt[info]: SVT [version]:\tSVT-AV1 Encoder Lib v3.0.0\n",
      "Svt[info]: SVT [build]  :\tApple LLVM 15.0.0 (clang-1500.3.9.4)\t 64 bit\n",
      "Svt[info]: LIB Build date: Apr  5 2025 06:53:59\n",
      "Svt[info]: -------------------------------------------\n",
      "Svt[info]: Level of Parallelism: 4\n",
      "Svt[info]: Number of PPCS 107\n",
      "Svt[info]: [asm level on system : up to neon_dotprod]\n",
      "Svt[info]: [asm level selected : up to neon_dotprod]\n",
      "Svt[info]: -------------------------------------------\n",
      "Svt[info]: SVT [config]: main profile\ttier (auto)\tlevel (auto)\n",
      "Svt[info]: SVT [config]: width / height / fps numerator / fps denominator \t\t: 224 / 224 / 20 / 1\n",
      "Svt[info]: SVT [config]: bit-depth / color format \t\t\t\t\t: 8 / YUV420\n",
      "Svt[info]: SVT [config]: preset / tune / pred struct \t\t\t\t\t: 8 / PSNR / random access\n",
      "Svt[info]: SVT [config]: gop size / mini-gop size / key-frame type \t\t\t: 2 / 32 / key frame\n",
      "Svt[info]: SVT [config]: BRC mode / rate factor \t\t\t\t\t: CRF / 30 \n",
      "Svt[info]: SVT [config]: AQ mode / variance boost \t\t\t\t\t: 2 / 0\n",
      "Svt[info]: SVT [config]: sharpness / luminance-based QP bias \t\t\t: 0 / 0\n",
      "Svt[info]: Svt[info]: -------------------------------------------\n"
     ]
    },
    {
     "name": "stdout",
     "output_type": "stream",
     "text": [
      "Saved episode 16, total frames in episode: 724\n",
      "\n",
      "Processing episode 17/52: kitchen_data_green_2025_05_10_14_46_33.zarr\n",
      "Loaded data: 747 hand joint frames, 1120 pose frames\n"
     ]
    },
    {
     "data": {
      "application/vnd.jupyter.widget-view+json": {
       "model_id": "67624385ec6248c2b5dff03e67762798",
       "version_major": 2,
       "version_minor": 0
      },
      "text/plain": [
       "  0%|          | 0/746 [00:00<?, ?it/s]"
      ]
     },
     "metadata": {},
     "output_type": "display_data"
    },
    {
     "data": {
      "application/vnd.jupyter.widget-view+json": {
       "model_id": "3496837b153b428581d07bcc29c44dc7",
       "version_major": 2,
       "version_minor": 0
      },
      "text/plain": [
       "Map:   0%|          | 0/746 [00:00<?, ? examples/s]"
      ]
     },
     "metadata": {},
     "output_type": "display_data"
    },
    {
     "data": {
      "application/vnd.jupyter.widget-view+json": {
       "model_id": "5280784e75be47948a0b86ab0a52feb9",
       "version_major": 2,
       "version_minor": 0
      },
      "text/plain": [
       "Creating parquet from Arrow format:   0%|          | 0/1 [00:00<?, ?ba/s]"
      ]
     },
     "metadata": {},
     "output_type": "display_data"
    },
    {
     "name": "stderr",
     "output_type": "stream",
     "text": [
      "Svt[info]: -------------------------------------------\n",
      "Svt[info]: SVT [version]:\tSVT-AV1 Encoder Lib v3.0.0\n",
      "Svt[info]: SVT [build]  :\tApple LLVM 15.0.0 (clang-1500.3.9.4)\t 64 bit\n",
      "Svt[info]: LIB Build date: Apr  5 2025 06:53:59\n",
      "Svt[info]: -------------------------------------------\n",
      "Svt[info]: Level of Parallelism: 4\n",
      "Svt[info]: Number of PPCS 107\n",
      "Svt[info]: [asm level on system : up to neon_dotprod]\n",
      "Svt[info]: [asm level selected : up to neon_dotprod]\n",
      "Svt[info]: -------------------------------------------\n",
      "Svt[info]: SVT [config]: main profile\ttier (auto)\tlevel (auto)\n",
      "Svt[info]: SVT [config]: width / height / fps numerator / fps denominator \t\t: 224 / 224 / 20 / 1\n",
      "Svt[info]: SVT [config]: bit-depth / color format \t\t\t\t\t: 8 / YUV420\n",
      "Svt[info]: SVT [config]: preset / tune / pred struct \t\t\t\t\t: 8 / PSNR / random access\n",
      "Svt[info]: SVT [config]: gop size / mini-gop size / key-frame type \t\t\t: 2 / 32 / key frame\n",
      "Svt[info]: SVT [config]: BRC mode / rate factor \t\t\t\t\t: CRF / 30 \n",
      "Svt[info]: SVT [config]: AQ mode / variance boost \t\t\t\t\t: 2 / 0\n",
      "Svt[info]: SVT [config]: sharpness / luminance-based QP bias \t\t\t: 0 / 0\n",
      "Svt[info]: Svt[info]: -------------------------------------------\n",
      "Svt[info]: -------------------------------------------\n",
      "Svt[info]: SVT [version]:\tSVT-AV1 Encoder Lib v3.0.0\n",
      "Svt[info]: SVT [build]  :\tApple LLVM 15.0.0 (clang-1500.3.9.4)\t 64 bit\n",
      "Svt[info]: LIB Build date: Apr  5 2025 06:53:59\n",
      "Svt[info]: -------------------------------------------\n",
      "Svt[info]: Level of Parallelism: 4\n",
      "Svt[info]: Number of PPCS 107\n",
      "Svt[info]: [asm level on system : up to neon_dotprod]\n",
      "Svt[info]: [asm level selected : up to neon_dotprod]\n",
      "Svt[info]: -------------------------------------------\n",
      "Svt[info]: SVT [config]: main profile\ttier (auto)\tlevel (auto)\n",
      "Svt[info]: SVT [config]: width / height / fps numerator / fps denominator \t\t: 224 / 224 / 20 / 1\n",
      "Svt[info]: SVT [config]: bit-depth / color format \t\t\t\t\t: 8 / YUV420\n",
      "Svt[info]: SVT [config]: preset / tune / pred struct \t\t\t\t\t: 8 / PSNR / random access\n",
      "Svt[info]: SVT [config]: gop size / mini-gop size / key-frame type \t\t\t: 2 / 32 / key frame\n",
      "Svt[info]: SVT [config]: BRC mode / rate factor \t\t\t\t\t: CRF / 30 \n",
      "Svt[info]: SVT [config]: AQ mode / variance boost \t\t\t\t\t: 2 / 0\n",
      "Svt[info]: SVT [config]: sharpness / luminance-based QP bias \t\t\t: 0 / 0\n",
      "Svt[info]: Svt[info]: -------------------------------------------\n",
      "Svt[info]: -------------------------------------------\n",
      "Svt[info]: SVT [version]:\tSVT-AV1 Encoder Lib v3.0.0\n",
      "Svt[info]: SVT [build]  :\tApple LLVM 15.0.0 (clang-1500.3.9.4)\t 64 bit\n",
      "Svt[info]: LIB Build date: Apr  5 2025 06:53:59\n",
      "Svt[info]: -------------------------------------------\n",
      "Svt[info]: Level of Parallelism: 4\n",
      "Svt[info]: Number of PPCS 107\n",
      "Svt[info]: [asm level on system : up to neon_dotprod]\n",
      "Svt[info]: [asm level selected : up to neon_dotprod]\n",
      "Svt[info]: -------------------------------------------\n",
      "Svt[info]: SVT [config]: main profile\ttier (auto)\tlevel (auto)\n",
      "Svt[info]: SVT [config]: width / height / fps numerator / fps denominator \t\t: 224 / 224 / 20 / 1\n",
      "Svt[info]: SVT [config]: bit-depth / color format \t\t\t\t\t: 8 / YUV420\n",
      "Svt[info]: SVT [config]: preset / tune / pred struct \t\t\t\t\t: 8 / PSNR / random access\n",
      "Svt[info]: SVT [config]: gop size / mini-gop size / key-frame type \t\t\t: 2 / 32 / key frame\n",
      "Svt[info]: SVT [config]: BRC mode / rate factor \t\t\t\t\t: CRF / 30 \n",
      "Svt[info]: SVT [config]: AQ mode / variance boost \t\t\t\t\t: 2 / 0\n",
      "Svt[info]: SVT [config]: sharpness / luminance-based QP bias \t\t\t: 0 / 0\n",
      "Svt[info]: Svt[info]: -------------------------------------------\n"
     ]
    },
    {
     "name": "stdout",
     "output_type": "stream",
     "text": [
      "Saved episode 17, total frames in episode: 746\n",
      "\n",
      "Processing episode 18/52: kitchen_data_green_2025_05_10_14_47_30.zarr\n",
      "Loaded data: 753 hand joint frames, 1130 pose frames\n"
     ]
    },
    {
     "data": {
      "application/vnd.jupyter.widget-view+json": {
       "model_id": "128b438e44c34dd99cbe7c65a41f0adc",
       "version_major": 2,
       "version_minor": 0
      },
      "text/plain": [
       "  0%|          | 0/752 [00:00<?, ?it/s]"
      ]
     },
     "metadata": {},
     "output_type": "display_data"
    },
    {
     "data": {
      "application/vnd.jupyter.widget-view+json": {
       "model_id": "6c8daffbdca64f76b926c2eebcdef996",
       "version_major": 2,
       "version_minor": 0
      },
      "text/plain": [
       "Map:   0%|          | 0/752 [00:00<?, ? examples/s]"
      ]
     },
     "metadata": {},
     "output_type": "display_data"
    },
    {
     "data": {
      "application/vnd.jupyter.widget-view+json": {
       "model_id": "cd6ac09412c24fb599c5836a1b709519",
       "version_major": 2,
       "version_minor": 0
      },
      "text/plain": [
       "Creating parquet from Arrow format:   0%|          | 0/1 [00:00<?, ?ba/s]"
      ]
     },
     "metadata": {},
     "output_type": "display_data"
    },
    {
     "name": "stderr",
     "output_type": "stream",
     "text": [
      "Svt[info]: -------------------------------------------\n",
      "Svt[info]: SVT [version]:\tSVT-AV1 Encoder Lib v3.0.0\n",
      "Svt[info]: SVT [build]  :\tApple LLVM 15.0.0 (clang-1500.3.9.4)\t 64 bit\n",
      "Svt[info]: LIB Build date: Apr  5 2025 06:53:59\n",
      "Svt[info]: -------------------------------------------\n",
      "Svt[info]: Level of Parallelism: 4\n",
      "Svt[info]: Number of PPCS 107\n",
      "Svt[info]: [asm level on system : up to neon_dotprod]\n",
      "Svt[info]: [asm level selected : up to neon_dotprod]\n",
      "Svt[info]: -------------------------------------------\n",
      "Svt[info]: SVT [config]: main profile\ttier (auto)\tlevel (auto)\n",
      "Svt[info]: SVT [config]: width / height / fps numerator / fps denominator \t\t: 224 / 224 / 20 / 1\n",
      "Svt[info]: SVT [config]: bit-depth / color format \t\t\t\t\t: 8 / YUV420\n",
      "Svt[info]: SVT [config]: preset / tune / pred struct \t\t\t\t\t: 8 / PSNR / random access\n",
      "Svt[info]: SVT [config]: gop size / mini-gop size / key-frame type \t\t\t: 2 / 32 / key frame\n",
      "Svt[info]: SVT [config]: BRC mode / rate factor \t\t\t\t\t: CRF / 30 \n",
      "Svt[info]: SVT [config]: AQ mode / variance boost \t\t\t\t\t: 2 / 0\n",
      "Svt[info]: SVT [config]: sharpness / luminance-based QP bias \t\t\t: 0 / 0\n",
      "Svt[info]: Svt[info]: -------------------------------------------\n",
      "Svt[info]: -------------------------------------------\n",
      "Svt[info]: SVT [version]:\tSVT-AV1 Encoder Lib v3.0.0\n",
      "Svt[info]: SVT [build]  :\tApple LLVM 15.0.0 (clang-1500.3.9.4)\t 64 bit\n",
      "Svt[info]: LIB Build date: Apr  5 2025 06:53:59\n",
      "Svt[info]: -------------------------------------------\n",
      "Svt[info]: Level of Parallelism: 4\n",
      "Svt[info]: Number of PPCS 107\n",
      "Svt[info]: [asm level on system : up to neon_dotprod]\n",
      "Svt[info]: [asm level selected : up to neon_dotprod]\n",
      "Svt[info]: -------------------------------------------\n",
      "Svt[info]: SVT [config]: main profile\ttier (auto)\tlevel (auto)\n",
      "Svt[info]: SVT [config]: width / height / fps numerator / fps denominator \t\t: 224 / 224 / 20 / 1\n",
      "Svt[info]: SVT [config]: bit-depth / color format \t\t\t\t\t: 8 / YUV420\n",
      "Svt[info]: SVT [config]: preset / tune / pred struct \t\t\t\t\t: 8 / PSNR / random access\n",
      "Svt[info]: SVT [config]: gop size / mini-gop size / key-frame type \t\t\t: 2 / 32 / key frame\n",
      "Svt[info]: SVT [config]: BRC mode / rate factor \t\t\t\t\t: CRF / 30 \n",
      "Svt[info]: SVT [config]: AQ mode / variance boost \t\t\t\t\t: 2 / 0\n",
      "Svt[info]: SVT [config]: sharpness / luminance-based QP bias \t\t\t: 0 / 0\n",
      "Svt[info]: Svt[info]: -------------------------------------------\n",
      "Svt[info]: -------------------------------------------\n",
      "Svt[info]: SVT [version]:\tSVT-AV1 Encoder Lib v3.0.0\n",
      "Svt[info]: SVT [build]  :\tApple LLVM 15.0.0 (clang-1500.3.9.4)\t 64 bit\n",
      "Svt[info]: LIB Build date: Apr  5 2025 06:53:59\n",
      "Svt[info]: -------------------------------------------\n",
      "Svt[info]: Level of Parallelism: 4\n",
      "Svt[info]: Number of PPCS 107\n",
      "Svt[info]: [asm level on system : up to neon_dotprod]\n",
      "Svt[info]: [asm level selected : up to neon_dotprod]\n",
      "Svt[info]: -------------------------------------------\n",
      "Svt[info]: SVT [config]: main profile\ttier (auto)\tlevel (auto)\n",
      "Svt[info]: SVT [config]: width / height / fps numerator / fps denominator \t\t: 224 / 224 / 20 / 1\n",
      "Svt[info]: SVT [config]: bit-depth / color format \t\t\t\t\t: 8 / YUV420\n",
      "Svt[info]: SVT [config]: preset / tune / pred struct \t\t\t\t\t: 8 / PSNR / random access\n",
      "Svt[info]: SVT [config]: gop size / mini-gop size / key-frame type \t\t\t: 2 / 32 / key frame\n",
      "Svt[info]: SVT [config]: BRC mode / rate factor \t\t\t\t\t: CRF / 30 \n",
      "Svt[info]: SVT [config]: AQ mode / variance boost \t\t\t\t\t: 2 / 0\n",
      "Svt[info]: SVT [config]: sharpness / luminance-based QP bias \t\t\t: 0 / 0\n",
      "Svt[info]: Svt[info]: -------------------------------------------\n"
     ]
    },
    {
     "name": "stdout",
     "output_type": "stream",
     "text": [
      "Saved episode 18, total frames in episode: 752\n",
      "\n",
      "Processing episode 19/52: kitchen_data_green_2025_05_10_14_48_42.zarr\n",
      "Loaded data: 601 hand joint frames, 901 pose frames\n"
     ]
    },
    {
     "data": {
      "application/vnd.jupyter.widget-view+json": {
       "model_id": "afc05a0730cd48c9a1131b8fc5a9b007",
       "version_major": 2,
       "version_minor": 0
      },
      "text/plain": [
       "  0%|          | 0/600 [00:00<?, ?it/s]"
      ]
     },
     "metadata": {},
     "output_type": "display_data"
    },
    {
     "data": {
      "application/vnd.jupyter.widget-view+json": {
       "model_id": "0db3b56a1179498283b0389f93a7a2e4",
       "version_major": 2,
       "version_minor": 0
      },
      "text/plain": [
       "Map:   0%|          | 0/600 [00:00<?, ? examples/s]"
      ]
     },
     "metadata": {},
     "output_type": "display_data"
    },
    {
     "data": {
      "application/vnd.jupyter.widget-view+json": {
       "model_id": "1235d3cd192f4f95a6dfa728a2d6c44a",
       "version_major": 2,
       "version_minor": 0
      },
      "text/plain": [
       "Creating parquet from Arrow format:   0%|          | 0/1 [00:00<?, ?ba/s]"
      ]
     },
     "metadata": {},
     "output_type": "display_data"
    },
    {
     "name": "stderr",
     "output_type": "stream",
     "text": [
      "Svt[info]: -------------------------------------------\n",
      "Svt[info]: SVT [version]:\tSVT-AV1 Encoder Lib v3.0.0\n",
      "Svt[info]: SVT [build]  :\tApple LLVM 15.0.0 (clang-1500.3.9.4)\t 64 bit\n",
      "Svt[info]: LIB Build date: Apr  5 2025 06:53:59\n",
      "Svt[info]: -------------------------------------------\n",
      "Svt[info]: Level of Parallelism: 4\n",
      "Svt[info]: Number of PPCS 107\n",
      "Svt[info]: [asm level on system : up to neon_dotprod]\n",
      "Svt[info]: [asm level selected : up to neon_dotprod]\n",
      "Svt[info]: -------------------------------------------\n",
      "Svt[info]: SVT [config]: main profile\ttier (auto)\tlevel (auto)\n",
      "Svt[info]: SVT [config]: width / height / fps numerator / fps denominator \t\t: 224 / 224 / 20 / 1\n",
      "Svt[info]: SVT [config]: bit-depth / color format \t\t\t\t\t: 8 / YUV420\n",
      "Svt[info]: SVT [config]: preset / tune / pred struct \t\t\t\t\t: 8 / PSNR / random access\n",
      "Svt[info]: SVT [config]: gop size / mini-gop size / key-frame type \t\t\t: 2 / 32 / key frame\n",
      "Svt[info]: SVT [config]: BRC mode / rate factor \t\t\t\t\t: CRF / 30 \n",
      "Svt[info]: SVT [config]: AQ mode / variance boost \t\t\t\t\t: 2 / 0\n",
      "Svt[info]: SVT [config]: sharpness / luminance-based QP bias \t\t\t: 0 / 0\n",
      "Svt[info]: Svt[info]: -------------------------------------------\n",
      "Svt[info]: -------------------------------------------\n",
      "Svt[info]: SVT [version]:\tSVT-AV1 Encoder Lib v3.0.0\n",
      "Svt[info]: SVT [build]  :\tApple LLVM 15.0.0 (clang-1500.3.9.4)\t 64 bit\n",
      "Svt[info]: LIB Build date: Apr  5 2025 06:53:59\n",
      "Svt[info]: -------------------------------------------\n",
      "Svt[info]: Level of Parallelism: 4\n",
      "Svt[info]: Number of PPCS 107\n",
      "Svt[info]: [asm level on system : up to neon_dotprod]\n",
      "Svt[info]: [asm level selected : up to neon_dotprod]\n",
      "Svt[info]: -------------------------------------------\n",
      "Svt[info]: SVT [config]: main profile\ttier (auto)\tlevel (auto)\n",
      "Svt[info]: SVT [config]: width / height / fps numerator / fps denominator \t\t: 224 / 224 / 20 / 1\n",
      "Svt[info]: SVT [config]: bit-depth / color format \t\t\t\t\t: 8 / YUV420\n",
      "Svt[info]: SVT [config]: preset / tune / pred struct \t\t\t\t\t: 8 / PSNR / random access\n",
      "Svt[info]: SVT [config]: gop size / mini-gop size / key-frame type \t\t\t: 2 / 32 / key frame\n",
      "Svt[info]: SVT [config]: BRC mode / rate factor \t\t\t\t\t: CRF / 30 \n",
      "Svt[info]: SVT [config]: AQ mode / variance boost \t\t\t\t\t: 2 / 0\n",
      "Svt[info]: SVT [config]: sharpness / luminance-based QP bias \t\t\t: 0 / 0\n",
      "Svt[info]: Svt[info]: -------------------------------------------\n",
      "Svt[info]: -------------------------------------------\n",
      "Svt[info]: SVT [version]:\tSVT-AV1 Encoder Lib v3.0.0\n",
      "Svt[info]: SVT [build]  :\tApple LLVM 15.0.0 (clang-1500.3.9.4)\t 64 bit\n",
      "Svt[info]: LIB Build date: Apr  5 2025 06:53:59\n",
      "Svt[info]: -------------------------------------------\n",
      "Svt[info]: Level of Parallelism: 4\n",
      "Svt[info]: Number of PPCS 107\n",
      "Svt[info]: [asm level on system : up to neon_dotprod]\n",
      "Svt[info]: [asm level selected : up to neon_dotprod]\n",
      "Svt[info]: -------------------------------------------\n",
      "Svt[info]: SVT [config]: main profile\ttier (auto)\tlevel (auto)\n",
      "Svt[info]: SVT [config]: width / height / fps numerator / fps denominator \t\t: 224 / 224 / 20 / 1\n",
      "Svt[info]: SVT [config]: bit-depth / color format \t\t\t\t\t: 8 / YUV420\n",
      "Svt[info]: SVT [config]: preset / tune / pred struct \t\t\t\t\t: 8 / PSNR / random access\n",
      "Svt[info]: SVT [config]: gop size / mini-gop size / key-frame type \t\t\t: 2 / 32 / key frame\n",
      "Svt[info]: SVT [config]: BRC mode / rate factor \t\t\t\t\t: CRF / 30 \n",
      "Svt[info]: SVT [config]: AQ mode / variance boost \t\t\t\t\t: 2 / 0\n",
      "Svt[info]: SVT [config]: sharpness / luminance-based QP bias \t\t\t: 0 / 0\n",
      "Svt[info]: Svt[info]: -------------------------------------------\n"
     ]
    },
    {
     "name": "stdout",
     "output_type": "stream",
     "text": [
      "Saved episode 19, total frames in episode: 600\n",
      "\n",
      "Processing episode 20/52: kitchen_data_green_2025_05_10_14_49_37.zarr\n",
      "Loaded data: 562 hand joint frames, 843 pose frames\n"
     ]
    },
    {
     "data": {
      "application/vnd.jupyter.widget-view+json": {
       "model_id": "25413570e9694aefaa9dc8c1d13483b6",
       "version_major": 2,
       "version_minor": 0
      },
      "text/plain": [
       "  0%|          | 0/561 [00:00<?, ?it/s]"
      ]
     },
     "metadata": {},
     "output_type": "display_data"
    },
    {
     "data": {
      "application/vnd.jupyter.widget-view+json": {
       "model_id": "a24a963287c5438699e917345ea40b4d",
       "version_major": 2,
       "version_minor": 0
      },
      "text/plain": [
       "Map:   0%|          | 0/561 [00:00<?, ? examples/s]"
      ]
     },
     "metadata": {},
     "output_type": "display_data"
    },
    {
     "data": {
      "application/vnd.jupyter.widget-view+json": {
       "model_id": "3dcc6c4073014d01b3ac3a2eeed028f0",
       "version_major": 2,
       "version_minor": 0
      },
      "text/plain": [
       "Creating parquet from Arrow format:   0%|          | 0/1 [00:00<?, ?ba/s]"
      ]
     },
     "metadata": {},
     "output_type": "display_data"
    },
    {
     "name": "stderr",
     "output_type": "stream",
     "text": [
      "Svt[info]: -------------------------------------------\n",
      "Svt[info]: SVT [version]:\tSVT-AV1 Encoder Lib v3.0.0\n",
      "Svt[info]: SVT [build]  :\tApple LLVM 15.0.0 (clang-1500.3.9.4)\t 64 bit\n",
      "Svt[info]: LIB Build date: Apr  5 2025 06:53:59\n",
      "Svt[info]: -------------------------------------------\n",
      "Svt[info]: Level of Parallelism: 4\n",
      "Svt[info]: Number of PPCS 107\n",
      "Svt[info]: [asm level on system : up to neon_dotprod]\n",
      "Svt[info]: [asm level selected : up to neon_dotprod]\n",
      "Svt[info]: -------------------------------------------\n",
      "Svt[info]: SVT [config]: main profile\ttier (auto)\tlevel (auto)\n",
      "Svt[info]: SVT [config]: width / height / fps numerator / fps denominator \t\t: 224 / 224 / 20 / 1\n",
      "Svt[info]: SVT [config]: bit-depth / color format \t\t\t\t\t: 8 / YUV420\n",
      "Svt[info]: SVT [config]: preset / tune / pred struct \t\t\t\t\t: 8 / PSNR / random access\n",
      "Svt[info]: SVT [config]: gop size / mini-gop size / key-frame type \t\t\t: 2 / 32 / key frame\n",
      "Svt[info]: SVT [config]: BRC mode / rate factor \t\t\t\t\t: CRF / 30 \n",
      "Svt[info]: SVT [config]: AQ mode / variance boost \t\t\t\t\t: 2 / 0\n",
      "Svt[info]: SVT [config]: sharpness / luminance-based QP bias \t\t\t: 0 / 0\n",
      "Svt[info]: Svt[info]: -------------------------------------------\n",
      "Svt[info]: -------------------------------------------\n",
      "Svt[info]: SVT [version]:\tSVT-AV1 Encoder Lib v3.0.0\n",
      "Svt[info]: SVT [build]  :\tApple LLVM 15.0.0 (clang-1500.3.9.4)\t 64 bit\n",
      "Svt[info]: LIB Build date: Apr  5 2025 06:53:59\n",
      "Svt[info]: -------------------------------------------\n",
      "Svt[info]: Level of Parallelism: 4\n",
      "Svt[info]: Number of PPCS 107\n",
      "Svt[info]: [asm level on system : up to neon_dotprod]\n",
      "Svt[info]: [asm level selected : up to neon_dotprod]\n",
      "Svt[info]: -------------------------------------------\n",
      "Svt[info]: SVT [config]: main profile\ttier (auto)\tlevel (auto)\n",
      "Svt[info]: SVT [config]: width / height / fps numerator / fps denominator \t\t: 224 / 224 / 20 / 1\n",
      "Svt[info]: SVT [config]: bit-depth / color format \t\t\t\t\t: 8 / YUV420\n",
      "Svt[info]: SVT [config]: preset / tune / pred struct \t\t\t\t\t: 8 / PSNR / random access\n",
      "Svt[info]: SVT [config]: gop size / mini-gop size / key-frame type \t\t\t: 2 / 32 / key frame\n",
      "Svt[info]: SVT [config]: BRC mode / rate factor \t\t\t\t\t: CRF / 30 \n",
      "Svt[info]: SVT [config]: AQ mode / variance boost \t\t\t\t\t: 2 / 0\n",
      "Svt[info]: SVT [config]: sharpness / luminance-based QP bias \t\t\t: 0 / 0\n",
      "Svt[info]: Svt[info]: -------------------------------------------\n",
      "Svt[info]: -------------------------------------------\n",
      "Svt[info]: SVT [version]:\tSVT-AV1 Encoder Lib v3.0.0\n",
      "Svt[info]: SVT [build]  :\tApple LLVM 15.0.0 (clang-1500.3.9.4)\t 64 bit\n",
      "Svt[info]: LIB Build date: Apr  5 2025 06:53:59\n",
      "Svt[info]: -------------------------------------------\n",
      "Svt[info]: Level of Parallelism: 4\n",
      "Svt[info]: Number of PPCS 107\n",
      "Svt[info]: [asm level on system : up to neon_dotprod]\n",
      "Svt[info]: [asm level selected : up to neon_dotprod]\n",
      "Svt[info]: -------------------------------------------\n",
      "Svt[info]: SVT [config]: main profile\ttier (auto)\tlevel (auto)\n",
      "Svt[info]: SVT [config]: width / height / fps numerator / fps denominator \t\t: 224 / 224 / 20 / 1\n",
      "Svt[info]: SVT [config]: bit-depth / color format \t\t\t\t\t: 8 / YUV420\n",
      "Svt[info]: SVT [config]: preset / tune / pred struct \t\t\t\t\t: 8 / PSNR / random access\n",
      "Svt[info]: SVT [config]: gop size / mini-gop size / key-frame type \t\t\t: 2 / 32 / key frame\n",
      "Svt[info]: SVT [config]: BRC mode / rate factor \t\t\t\t\t: CRF / 30 \n",
      "Svt[info]: SVT [config]: AQ mode / variance boost \t\t\t\t\t: 2 / 0\n",
      "Svt[info]: SVT [config]: sharpness / luminance-based QP bias \t\t\t: 0 / 0\n",
      "Svt[info]: Svt[info]: -------------------------------------------\n"
     ]
    },
    {
     "name": "stdout",
     "output_type": "stream",
     "text": [
      "Saved episode 20, total frames in episode: 561\n",
      "\n",
      "Processing episode 21/52: kitchen_data_green_2025_05_10_14_50_30.zarr\n",
      "Loaded data: 595 hand joint frames, 893 pose frames\n"
     ]
    },
    {
     "data": {
      "application/vnd.jupyter.widget-view+json": {
       "model_id": "ed26f9811a764dbea79189f8fa5a8532",
       "version_major": 2,
       "version_minor": 0
      },
      "text/plain": [
       "  0%|          | 0/594 [00:00<?, ?it/s]"
      ]
     },
     "metadata": {},
     "output_type": "display_data"
    },
    {
     "data": {
      "application/vnd.jupyter.widget-view+json": {
       "model_id": "9fa34c7163fc4a09aa7c4c1ae3e2d539",
       "version_major": 2,
       "version_minor": 0
      },
      "text/plain": [
       "Map:   0%|          | 0/594 [00:00<?, ? examples/s]"
      ]
     },
     "metadata": {},
     "output_type": "display_data"
    },
    {
     "data": {
      "application/vnd.jupyter.widget-view+json": {
       "model_id": "2afb735c082a4fd4aa752cdfb807f561",
       "version_major": 2,
       "version_minor": 0
      },
      "text/plain": [
       "Creating parquet from Arrow format:   0%|          | 0/1 [00:00<?, ?ba/s]"
      ]
     },
     "metadata": {},
     "output_type": "display_data"
    },
    {
     "name": "stderr",
     "output_type": "stream",
     "text": [
      "Svt[info]: -------------------------------------------\n",
      "Svt[info]: SVT [version]:\tSVT-AV1 Encoder Lib v3.0.0\n",
      "Svt[info]: SVT [build]  :\tApple LLVM 15.0.0 (clang-1500.3.9.4)\t 64 bit\n",
      "Svt[info]: LIB Build date: Apr  5 2025 06:53:59\n",
      "Svt[info]: -------------------------------------------\n",
      "Svt[info]: Level of Parallelism: 4\n",
      "Svt[info]: Number of PPCS 107\n",
      "Svt[info]: [asm level on system : up to neon_dotprod]\n",
      "Svt[info]: [asm level selected : up to neon_dotprod]\n",
      "Svt[info]: -------------------------------------------\n",
      "Svt[info]: SVT [config]: main profile\ttier (auto)\tlevel (auto)\n",
      "Svt[info]: SVT [config]: width / height / fps numerator / fps denominator \t\t: 224 / 224 / 20 / 1\n",
      "Svt[info]: SVT [config]: bit-depth / color format \t\t\t\t\t: 8 / YUV420\n",
      "Svt[info]: SVT [config]: preset / tune / pred struct \t\t\t\t\t: 8 / PSNR / random access\n",
      "Svt[info]: SVT [config]: gop size / mini-gop size / key-frame type \t\t\t: 2 / 32 / key frame\n",
      "Svt[info]: SVT [config]: BRC mode / rate factor \t\t\t\t\t: CRF / 30 \n",
      "Svt[info]: SVT [config]: AQ mode / variance boost \t\t\t\t\t: 2 / 0\n",
      "Svt[info]: SVT [config]: sharpness / luminance-based QP bias \t\t\t: 0 / 0\n",
      "Svt[info]: Svt[info]: -------------------------------------------\n",
      "Svt[info]: -------------------------------------------\n",
      "Svt[info]: SVT [version]:\tSVT-AV1 Encoder Lib v3.0.0\n",
      "Svt[info]: SVT [build]  :\tApple LLVM 15.0.0 (clang-1500.3.9.4)\t 64 bit\n",
      "Svt[info]: LIB Build date: Apr  5 2025 06:53:59\n",
      "Svt[info]: -------------------------------------------\n",
      "Svt[info]: Level of Parallelism: 4\n",
      "Svt[info]: Number of PPCS 107\n",
      "Svt[info]: [asm level on system : up to neon_dotprod]\n",
      "Svt[info]: [asm level selected : up to neon_dotprod]\n",
      "Svt[info]: -------------------------------------------\n",
      "Svt[info]: SVT [config]: main profile\ttier (auto)\tlevel (auto)\n",
      "Svt[info]: SVT [config]: width / height / fps numerator / fps denominator \t\t: 224 / 224 / 20 / 1\n",
      "Svt[info]: SVT [config]: bit-depth / color format \t\t\t\t\t: 8 / YUV420\n",
      "Svt[info]: SVT [config]: preset / tune / pred struct \t\t\t\t\t: 8 / PSNR / random access\n",
      "Svt[info]: SVT [config]: gop size / mini-gop size / key-frame type \t\t\t: 2 / 32 / key frame\n",
      "Svt[info]: SVT [config]: BRC mode / rate factor \t\t\t\t\t: CRF / 30 \n",
      "Svt[info]: SVT [config]: AQ mode / variance boost \t\t\t\t\t: 2 / 0\n",
      "Svt[info]: SVT [config]: sharpness / luminance-based QP bias \t\t\t: 0 / 0\n",
      "Svt[info]: Svt[info]: -------------------------------------------\n",
      "Svt[info]: -------------------------------------------\n",
      "Svt[info]: SVT [version]:\tSVT-AV1 Encoder Lib v3.0.0\n",
      "Svt[info]: SVT [build]  :\tApple LLVM 15.0.0 (clang-1500.3.9.4)\t 64 bit\n",
      "Svt[info]: LIB Build date: Apr  5 2025 06:53:59\n",
      "Svt[info]: -------------------------------------------\n",
      "Svt[info]: Level of Parallelism: 4\n",
      "Svt[info]: Number of PPCS 107\n",
      "Svt[info]: [asm level on system : up to neon_dotprod]\n",
      "Svt[info]: [asm level selected : up to neon_dotprod]\n",
      "Svt[info]: -------------------------------------------\n",
      "Svt[info]: SVT [config]: main profile\ttier (auto)\tlevel (auto)\n",
      "Svt[info]: SVT [config]: width / height / fps numerator / fps denominator \t\t: 224 / 224 / 20 / 1\n",
      "Svt[info]: SVT [config]: bit-depth / color format \t\t\t\t\t: 8 / YUV420\n",
      "Svt[info]: SVT [config]: preset / tune / pred struct \t\t\t\t\t: 8 / PSNR / random access\n",
      "Svt[info]: SVT [config]: gop size / mini-gop size / key-frame type \t\t\t: 2 / 32 / key frame\n",
      "Svt[info]: SVT [config]: BRC mode / rate factor \t\t\t\t\t: CRF / 30 \n",
      "Svt[info]: SVT [config]: AQ mode / variance boost \t\t\t\t\t: 2 / 0\n",
      "Svt[info]: SVT [config]: sharpness / luminance-based QP bias \t\t\t: 0 / 0\n",
      "Svt[info]: Svt[info]: -------------------------------------------\n"
     ]
    },
    {
     "name": "stdout",
     "output_type": "stream",
     "text": [
      "Saved episode 21, total frames in episode: 594\n",
      "\n",
      "Processing episode 22/52: kitchen_data_green_2025_05_10_14_51_22.zarr\n",
      "Loaded data: 642 hand joint frames, 964 pose frames\n"
     ]
    },
    {
     "data": {
      "application/vnd.jupyter.widget-view+json": {
       "model_id": "bfad86d1573a4d42b253f60c45ad1c9c",
       "version_major": 2,
       "version_minor": 0
      },
      "text/plain": [
       "  0%|          | 0/641 [00:00<?, ?it/s]"
      ]
     },
     "metadata": {},
     "output_type": "display_data"
    },
    {
     "data": {
      "application/vnd.jupyter.widget-view+json": {
       "model_id": "83729629e04a4563979b5f593dbdc877",
       "version_major": 2,
       "version_minor": 0
      },
      "text/plain": [
       "Map:   0%|          | 0/641 [00:00<?, ? examples/s]"
      ]
     },
     "metadata": {},
     "output_type": "display_data"
    },
    {
     "data": {
      "application/vnd.jupyter.widget-view+json": {
       "model_id": "597259d988c64274be9dbaa328d1efd2",
       "version_major": 2,
       "version_minor": 0
      },
      "text/plain": [
       "Creating parquet from Arrow format:   0%|          | 0/1 [00:00<?, ?ba/s]"
      ]
     },
     "metadata": {},
     "output_type": "display_data"
    },
    {
     "name": "stderr",
     "output_type": "stream",
     "text": [
      "Svt[info]: -------------------------------------------\n",
      "Svt[info]: SVT [version]:\tSVT-AV1 Encoder Lib v3.0.0\n",
      "Svt[info]: SVT [build]  :\tApple LLVM 15.0.0 (clang-1500.3.9.4)\t 64 bit\n",
      "Svt[info]: LIB Build date: Apr  5 2025 06:53:59\n",
      "Svt[info]: -------------------------------------------\n",
      "Svt[info]: Level of Parallelism: 4\n",
      "Svt[info]: Number of PPCS 107\n",
      "Svt[info]: [asm level on system : up to neon_dotprod]\n",
      "Svt[info]: [asm level selected : up to neon_dotprod]\n",
      "Svt[info]: -------------------------------------------\n",
      "Svt[info]: SVT [config]: main profile\ttier (auto)\tlevel (auto)\n",
      "Svt[info]: SVT [config]: width / height / fps numerator / fps denominator \t\t: 224 / 224 / 20 / 1\n",
      "Svt[info]: SVT [config]: bit-depth / color format \t\t\t\t\t: 8 / YUV420\n",
      "Svt[info]: SVT [config]: preset / tune / pred struct \t\t\t\t\t: 8 / PSNR / random access\n",
      "Svt[info]: SVT [config]: gop size / mini-gop size / key-frame type \t\t\t: 2 / 32 / key frame\n",
      "Svt[info]: SVT [config]: BRC mode / rate factor \t\t\t\t\t: CRF / 30 \n",
      "Svt[info]: SVT [config]: AQ mode / variance boost \t\t\t\t\t: 2 / 0\n",
      "Svt[info]: SVT [config]: sharpness / luminance-based QP bias \t\t\t: 0 / 0\n",
      "Svt[info]: Svt[info]: -------------------------------------------\n",
      "Svt[info]: -------------------------------------------\n",
      "Svt[info]: SVT [version]:\tSVT-AV1 Encoder Lib v3.0.0\n",
      "Svt[info]: SVT [build]  :\tApple LLVM 15.0.0 (clang-1500.3.9.4)\t 64 bit\n",
      "Svt[info]: LIB Build date: Apr  5 2025 06:53:59\n",
      "Svt[info]: -------------------------------------------\n",
      "Svt[info]: Level of Parallelism: 4\n",
      "Svt[info]: Number of PPCS 107\n",
      "Svt[info]: [asm level on system : up to neon_dotprod]\n",
      "Svt[info]: [asm level selected : up to neon_dotprod]\n",
      "Svt[info]: -------------------------------------------\n",
      "Svt[info]: SVT [config]: main profile\ttier (auto)\tlevel (auto)\n",
      "Svt[info]: SVT [config]: width / height / fps numerator / fps denominator \t\t: 224 / 224 / 20 / 1\n",
      "Svt[info]: SVT [config]: bit-depth / color format \t\t\t\t\t: 8 / YUV420\n",
      "Svt[info]: SVT [config]: preset / tune / pred struct \t\t\t\t\t: 8 / PSNR / random access\n",
      "Svt[info]: SVT [config]: gop size / mini-gop size / key-frame type \t\t\t: 2 / 32 / key frame\n",
      "Svt[info]: SVT [config]: BRC mode / rate factor \t\t\t\t\t: CRF / 30 \n",
      "Svt[info]: SVT [config]: AQ mode / variance boost \t\t\t\t\t: 2 / 0\n",
      "Svt[info]: SVT [config]: sharpness / luminance-based QP bias \t\t\t: 0 / 0\n",
      "Svt[info]: Svt[info]: -------------------------------------------\n",
      "Svt[info]: -------------------------------------------\n",
      "Svt[info]: SVT [version]:\tSVT-AV1 Encoder Lib v3.0.0\n",
      "Svt[info]: SVT [build]  :\tApple LLVM 15.0.0 (clang-1500.3.9.4)\t 64 bit\n",
      "Svt[info]: LIB Build date: Apr  5 2025 06:53:59\n",
      "Svt[info]: -------------------------------------------\n",
      "Svt[info]: Level of Parallelism: 4\n",
      "Svt[info]: Number of PPCS 107\n",
      "Svt[info]: [asm level on system : up to neon_dotprod]\n",
      "Svt[info]: [asm level selected : up to neon_dotprod]\n",
      "Svt[info]: -------------------------------------------\n",
      "Svt[info]: SVT [config]: main profile\ttier (auto)\tlevel (auto)\n",
      "Svt[info]: SVT [config]: width / height / fps numerator / fps denominator \t\t: 224 / 224 / 20 / 1\n",
      "Svt[info]: SVT [config]: bit-depth / color format \t\t\t\t\t: 8 / YUV420\n",
      "Svt[info]: SVT [config]: preset / tune / pred struct \t\t\t\t\t: 8 / PSNR / random access\n",
      "Svt[info]: SVT [config]: gop size / mini-gop size / key-frame type \t\t\t: 2 / 32 / key frame\n",
      "Svt[info]: SVT [config]: BRC mode / rate factor \t\t\t\t\t: CRF / 30 \n",
      "Svt[info]: SVT [config]: AQ mode / variance boost \t\t\t\t\t: 2 / 0\n",
      "Svt[info]: SVT [config]: sharpness / luminance-based QP bias \t\t\t: 0 / 0\n",
      "Svt[info]: Svt[info]: -------------------------------------------\n"
     ]
    },
    {
     "name": "stdout",
     "output_type": "stream",
     "text": [
      "Saved episode 22, total frames in episode: 641\n",
      "\n",
      "Processing episode 23/52: kitchen_data_green_2025_05_10_14_52_14.zarr\n",
      "Loaded data: 684 hand joint frames, 1026 pose frames\n"
     ]
    },
    {
     "data": {
      "application/vnd.jupyter.widget-view+json": {
       "model_id": "a6a3ce3bacdd405b8486c91a63b40756",
       "version_major": 2,
       "version_minor": 0
      },
      "text/plain": [
       "  0%|          | 0/683 [00:00<?, ?it/s]"
      ]
     },
     "metadata": {},
     "output_type": "display_data"
    },
    {
     "data": {
      "application/vnd.jupyter.widget-view+json": {
       "model_id": "5850389266b648d38e4eca995b901adf",
       "version_major": 2,
       "version_minor": 0
      },
      "text/plain": [
       "Map:   0%|          | 0/683 [00:00<?, ? examples/s]"
      ]
     },
     "metadata": {},
     "output_type": "display_data"
    },
    {
     "data": {
      "application/vnd.jupyter.widget-view+json": {
       "model_id": "6c2ab76154134942ba7dcf12553c1344",
       "version_major": 2,
       "version_minor": 0
      },
      "text/plain": [
       "Creating parquet from Arrow format:   0%|          | 0/1 [00:00<?, ?ba/s]"
      ]
     },
     "metadata": {},
     "output_type": "display_data"
    },
    {
     "name": "stderr",
     "output_type": "stream",
     "text": [
      "Svt[info]: -------------------------------------------\n",
      "Svt[info]: SVT [version]:\tSVT-AV1 Encoder Lib v3.0.0\n",
      "Svt[info]: SVT [build]  :\tApple LLVM 15.0.0 (clang-1500.3.9.4)\t 64 bit\n",
      "Svt[info]: LIB Build date: Apr  5 2025 06:53:59\n",
      "Svt[info]: -------------------------------------------\n",
      "Svt[info]: Level of Parallelism: 4\n",
      "Svt[info]: Number of PPCS 107\n",
      "Svt[info]: [asm level on system : up to neon_dotprod]\n",
      "Svt[info]: [asm level selected : up to neon_dotprod]\n",
      "Svt[info]: -------------------------------------------\n",
      "Svt[info]: SVT [config]: main profile\ttier (auto)\tlevel (auto)\n",
      "Svt[info]: SVT [config]: width / height / fps numerator / fps denominator \t\t: 224 / 224 / 20 / 1\n",
      "Svt[info]: SVT [config]: bit-depth / color format \t\t\t\t\t: 8 / YUV420\n",
      "Svt[info]: SVT [config]: preset / tune / pred struct \t\t\t\t\t: 8 / PSNR / random access\n",
      "Svt[info]: SVT [config]: gop size / mini-gop size / key-frame type \t\t\t: 2 / 32 / key frame\n",
      "Svt[info]: SVT [config]: BRC mode / rate factor \t\t\t\t\t: CRF / 30 \n",
      "Svt[info]: SVT [config]: AQ mode / variance boost \t\t\t\t\t: 2 / 0\n",
      "Svt[info]: SVT [config]: sharpness / luminance-based QP bias \t\t\t: 0 / 0\n",
      "Svt[info]: Svt[info]: -------------------------------------------\n",
      "Svt[info]: -------------------------------------------\n",
      "Svt[info]: SVT [version]:\tSVT-AV1 Encoder Lib v3.0.0\n",
      "Svt[info]: SVT [build]  :\tApple LLVM 15.0.0 (clang-1500.3.9.4)\t 64 bit\n",
      "Svt[info]: LIB Build date: Apr  5 2025 06:53:59\n",
      "Svt[info]: -------------------------------------------\n",
      "Svt[info]: Level of Parallelism: 4\n",
      "Svt[info]: Number of PPCS 107\n",
      "Svt[info]: [asm level on system : up to neon_dotprod]\n",
      "Svt[info]: [asm level selected : up to neon_dotprod]\n",
      "Svt[info]: -------------------------------------------\n",
      "Svt[info]: SVT [config]: main profile\ttier (auto)\tlevel (auto)\n",
      "Svt[info]: SVT [config]: width / height / fps numerator / fps denominator \t\t: 224 / 224 / 20 / 1\n",
      "Svt[info]: SVT [config]: bit-depth / color format \t\t\t\t\t: 8 / YUV420\n",
      "Svt[info]: SVT [config]: preset / tune / pred struct \t\t\t\t\t: 8 / PSNR / random access\n",
      "Svt[info]: SVT [config]: gop size / mini-gop size / key-frame type \t\t\t: 2 / 32 / key frame\n",
      "Svt[info]: SVT [config]: BRC mode / rate factor \t\t\t\t\t: CRF / 30 \n",
      "Svt[info]: SVT [config]: AQ mode / variance boost \t\t\t\t\t: 2 / 0\n",
      "Svt[info]: SVT [config]: sharpness / luminance-based QP bias \t\t\t: 0 / 0\n",
      "Svt[info]: Svt[info]: -------------------------------------------\n",
      "Svt[info]: -------------------------------------------\n",
      "Svt[info]: SVT [version]:\tSVT-AV1 Encoder Lib v3.0.0\n",
      "Svt[info]: SVT [build]  :\tApple LLVM 15.0.0 (clang-1500.3.9.4)\t 64 bit\n",
      "Svt[info]: LIB Build date: Apr  5 2025 06:53:59\n",
      "Svt[info]: -------------------------------------------\n",
      "Svt[info]: Level of Parallelism: 4\n",
      "Svt[info]: Number of PPCS 107\n",
      "Svt[info]: [asm level on system : up to neon_dotprod]\n",
      "Svt[info]: [asm level selected : up to neon_dotprod]\n",
      "Svt[info]: -------------------------------------------\n",
      "Svt[info]: SVT [config]: main profile\ttier (auto)\tlevel (auto)\n",
      "Svt[info]: SVT [config]: width / height / fps numerator / fps denominator \t\t: 224 / 224 / 20 / 1\n",
      "Svt[info]: SVT [config]: bit-depth / color format \t\t\t\t\t: 8 / YUV420\n",
      "Svt[info]: SVT [config]: preset / tune / pred struct \t\t\t\t\t: 8 / PSNR / random access\n",
      "Svt[info]: SVT [config]: gop size / mini-gop size / key-frame type \t\t\t: 2 / 32 / key frame\n",
      "Svt[info]: SVT [config]: BRC mode / rate factor \t\t\t\t\t: CRF / 30 \n",
      "Svt[info]: SVT [config]: AQ mode / variance boost \t\t\t\t\t: 2 / 0\n",
      "Svt[info]: SVT [config]: sharpness / luminance-based QP bias \t\t\t: 0 / 0\n",
      "Svt[info]: Svt[info]: -------------------------------------------\n"
     ]
    },
    {
     "name": "stdout",
     "output_type": "stream",
     "text": [
      "Saved episode 23, total frames in episode: 683\n",
      "\n",
      "Processing episode 24/52: kitchen_data_green_2025_05_10_14_53_10.zarr\n",
      "Loaded data: 640 hand joint frames, 960 pose frames\n"
     ]
    },
    {
     "data": {
      "application/vnd.jupyter.widget-view+json": {
       "model_id": "a6977cc307ce4cd0a9c02992b354f441",
       "version_major": 2,
       "version_minor": 0
      },
      "text/plain": [
       "  0%|          | 0/639 [00:00<?, ?it/s]"
      ]
     },
     "metadata": {},
     "output_type": "display_data"
    }
   ],
   "source": [
    "import numpy as np\n",
    "from lerobot.common.datasets.lerobot_dataset import LeRobotDataset\n",
    "import torch\n",
    "import scipy.spatial.transform as spt\n",
    "from tqdm.auto import tqdm\n",
    "import os\n",
    "import zarr\n",
    "\n",
    "\n",
    "# Green\n",
    "zarr_files = [\n",
    "    \"/Volumes/Chengkun/hackathondatasets/kitchen_data_green/converted/kitchen_data_green_2025_05_10_14_29_20.zarr\",\n",
    "    \"/Volumes/Chengkun/hackathondatasets/kitchen_data_green/converted/kitchen_data_green_2025_05_10_14_30_41.zarr\",\n",
    "    \"/Volumes/Chengkun/hackathondatasets/kitchen_data_green/converted/kitchen_data_green_2025_05_10_14_31_45.zarr\",\n",
    "    \"/Volumes/Chengkun/hackathondatasets/kitchen_data_green/converted/kitchen_data_green_2025_05_10_14_32_45.zarr\",\n",
    "    \"/Volumes/Chengkun/hackathondatasets/kitchen_data_green/converted/kitchen_data_green_2025_05_10_14_33_49.zarr\",\n",
    "    \"/Volumes/Chengkun/hackathondatasets/kitchen_data_green/converted/kitchen_data_green_2025_05_10_14_35_02.zarr\",\n",
    "    \"/Volumes/Chengkun/hackathondatasets/kitchen_data_green/converted/kitchen_data_green_2025_05_10_14_36_19.zarr\",\n",
    "    \"/Volumes/Chengkun/hackathondatasets/kitchen_data_green/converted/kitchen_data_green_2025_05_10_14_37_15.zarr\",\n",
    "    \"/Volumes/Chengkun/hackathondatasets/kitchen_data_green/converted/kitchen_data_green_2025_05_10_14_38_12.zarr\",\n",
    "    \"/Volumes/Chengkun/hackathondatasets/kitchen_data_green/converted/kitchen_data_green_2025_05_10_14_39_05.zarr\",\n",
    "    \"/Volumes/Chengkun/hackathondatasets/kitchen_data_green/converted/kitchen_data_green_2025_05_10_14_40_07.zarr\",\n",
    "    \"/Volumes/Chengkun/hackathondatasets/kitchen_data_green/converted/kitchen_data_green_2025_05_10_14_41_33.zarr\",\n",
    "    \"/Volumes/Chengkun/hackathondatasets/kitchen_data_green/converted/kitchen_data_green_2025_05_10_14_42_36.zarr\",\n",
    "    \"/Volumes/Chengkun/hackathondatasets/kitchen_data_green/converted/kitchen_data_green_2025_05_10_14_43_35.zarr\",\n",
    "    \"/Volumes/Chengkun/hackathondatasets/kitchen_data_green/converted/kitchen_data_green_2025_05_10_14_44_31.zarr\",\n",
    "    \"/Volumes/Chengkun/hackathondatasets/kitchen_data_green/converted/kitchen_data_green_2025_05_10_14_45_31.zarr\",\n",
    "    \"/Volumes/Chengkun/hackathondatasets/kitchen_data_green/converted/kitchen_data_green_2025_05_10_14_46_33.zarr\",\n",
    "    \"/Volumes/Chengkun/hackathondatasets/kitchen_data_green/converted/kitchen_data_green_2025_05_10_14_47_30.zarr\",\n",
    "    \"/Volumes/Chengkun/hackathondatasets/kitchen_data_green/converted/kitchen_data_green_2025_05_10_14_48_42.zarr\",\n",
    "    \"/Volumes/Chengkun/hackathondatasets/kitchen_data_green/converted/kitchen_data_green_2025_05_10_14_49_37.zarr\",\n",
    "    \"/Volumes/Chengkun/hackathondatasets/kitchen_data_green/converted/kitchen_data_green_2025_05_10_14_50_30.zarr\",\n",
    "    \"/Volumes/Chengkun/hackathondatasets/kitchen_data_green/converted/kitchen_data_green_2025_05_10_14_51_22.zarr\",\n",
    "    \"/Volumes/Chengkun/hackathondatasets/kitchen_data_green/converted/kitchen_data_green_2025_05_10_14_52_14.zarr\",\n",
    "    \"/Volumes/Chengkun/hackathondatasets/kitchen_data_green/converted/kitchen_data_green_2025_05_10_14_53_10.zarr\",\n",
    "    \"/Volumes/Chengkun/hackathondatasets/kitchen_data_green/converted/kitchen_data_green_2025_05_10_14_54_06.zarr\",\n",
    "    \"/Volumes/Chengkun/hackathondatasets/kitchen_data_green/converted/kitchen_data_green_2025_05_10_14_55_09.zarr\",\n",
    "    \"/Volumes/Chengkun/hackathondatasets/kitchen_data_green/converted/kitchen_data_green_2025_05_10_14_56_11.zarr\",\n",
    "    \"/Volumes/Chengkun/hackathondatasets/kitchen_data_green/converted/kitchen_data_green_2025_05_10_14_58_13.zarr\",\n",
    "    \"/Volumes/Chengkun/hackathondatasets/kitchen_data_green/converted/kitchen_data_green_2025_05_10_14_59_11.zarr\",\n",
    "    \"/Volumes/Chengkun/hackathondatasets/kitchen_data_green/converted/kitchen_data_green_2025_05_10_15_01_17.zarr\",\n",
    "    \"/Volumes/Chengkun/hackathondatasets/kitchen_data_green/converted/kitchen_data_green_2025_05_10_15_02_14.zarr\",\n",
    "    \"/Volumes/Chengkun/hackathondatasets/kitchen_data_green/converted/kitchen_data_green_2025_05_10_15_03_13.zarr\",\n",
    "    \"/Volumes/Chengkun/hackathondatasets/kitchen_data_green/converted/kitchen_data_green_2025_05_10_15_04_04.zarr\",\n",
    "    \"/Volumes/Chengkun/hackathondatasets/kitchen_data_green/converted/kitchen_data_green_2025_05_10_15_04_52.zarr\",\n",
    "    \"/Volumes/Chengkun/hackathondatasets/kitchen_data_green/converted/kitchen_data_green_2025_05_10_15_05_47.zarr\",\n",
    "    \"/Volumes/Chengkun/hackathondatasets/kitchen_data_green/converted/kitchen_data_green_2025_05_10_15_54_20.zarr\",\n",
    "    \"/Volumes/Chengkun/hackathondatasets/kitchen_data_green/converted/kitchen_data_green_2025_05_10_15_55_48.zarr\",\n",
    "    \"/Volumes/Chengkun/hackathondatasets/kitchen_data_green/converted/kitchen_data_green_2025_05_10_15_56_41.zarr\",\n",
    "    \"/Volumes/Chengkun/hackathondatasets/kitchen_data_green/converted/kitchen_data_green_2025_05_10_15_57_35.zarr\",\n",
    "    \"/Volumes/Chengkun/hackathondatasets/kitchen_data_green/converted/kitchen_data_green_2025_05_10_15_58_27.zarr\",\n",
    "    \"/Volumes/Chengkun/hackathondatasets/kitchen_data_green/converted/kitchen_data_green_2025_05_10_16_00_00.zarr\",\n",
    "    \"/Volumes/Chengkun/hackathondatasets/kitchen_data_green/converted/kitchen_data_green_2025_05_10_16_01_04.zarr\",\n",
    "    \"/Volumes/Chengkun/hackathondatasets/kitchen_data_green/converted/kitchen_data_green_2025_05_10_16_03_44.zarr\",\n",
    "    \"/Volumes/Chengkun/hackathondatasets/kitchen_data_green/converted/kitchen_data_green_2025_05_10_16_06_05.zarr\",\n",
    "    \"/Volumes/Chengkun/hackathondatasets/kitchen_data_green/converted/kitchen_data_green_2025_05_10_16_07_07.zarr\",\n",
    "    \"/Volumes/Chengkun/hackathondatasets/kitchen_data_green/converted/kitchen_data_green_2025_05_10_16_08_20.zarr\",\n",
    "    \"/Volumes/Chengkun/hackathondatasets/kitchen_data_green/converted/kitchen_data_green_2025_05_10_16_09_14.zarr\",\n",
    "    \"/Volumes/Chengkun/hackathondatasets/kitchen_data_green/converted/kitchen_data_green_2025_05_10_16_10_18.zarr\",\n",
    "    \"/Volumes/Chengkun/hackathondatasets/kitchen_data_green/converted/kitchen_data_green_2025_05_10_16_11_25.zarr\",\n",
    "    \"/Volumes/Chengkun/hackathondatasets/kitchen_data_green/converted/kitchen_data_green_2025_05_10_16_13_10.zarr\",\n",
    "    \"/Volumes/Chengkun/hackathondatasets/kitchen_data_green/converted/kitchen_data_green_2025_05_10_16_13_59.zarr\",\n",
    "    \"/Volumes/Chengkun/hackathondatasets/kitchen_data_green/converted/kitchen_data_green_2025_05_10_16_14_53.zarr\"\n",
    "]\n",
    "\n",
    "\n",
    "# Task descriptions for each zarr file - expand this list to match your zarr files\n",
    "task_descriptions = [\n",
    "    \"pour the green cup into the bowl\"\n",
    "] * len(zarr_files)\n",
    "\n",
    "# Define our dataset features with proper shapes - COMBINED hand joints (16) + pose (9) = 25 values\n",
    "features = {\n",
    "    \"action\": {\n",
    "        \"dtype\": \"float32\", \n",
    "        \"shape\": (25,),  # Combined: hand_joints (16) + pose (9)\n",
    "        \"names\": [f\"joint_{i}\" for i in range(16)] + [\"rot_1\", \"rot_2\", \"rot_3\", \"rot_4\", \"rot_5\", \"rot_6\", \"trans_x\", \"trans_y\", \"trans_z\"]\n",
    "    },\n",
    "    \"observation.state\": {\n",
    "        \"dtype\": \"float32\", \n",
    "        \"shape\": (25,),  # Combined: hand_joints (16) + pose (9)\n",
    "        \"names\": [f\"joint_{i}\" for i in range(16)] + [\"rot_1\", \"rot_2\", \"rot_3\", \"rot_4\", \"rot_5\", \"rot_6\", \"trans_x\", \"trans_y\", \"trans_z\"]\n",
    "    },\n",
    "    \"task_index\": {\n",
    "        \"dtype\": \"int64\", \n",
    "        \"shape\": (1,), \n",
    "        \"names\": None\n",
    "    },\n",
    "    \"observation.images.main\": {\n",
    "        \"dtype\": \"video\", \n",
    "        \"shape\": (224, 224, 3),\n",
    "        \"names\": [\"height\", \"width\", \"channel\"],\n",
    "        \"info\": {\n",
    "            \"video.fps\": 20, \n",
    "            \"video.codec\": \"mp4v\", \n",
    "            \"video.pix_fmt\": \"yuv420p\", \n",
    "            \"video.is_depth_map\": False,\n",
    "            \"has_audio\": False\n",
    "        }\n",
    "    },\n",
    "    \"observation.images.secondary_0\": {\n",
    "        \"dtype\": \"video\", \n",
    "        \"shape\": (224, 224, 3),\n",
    "        \"names\": [\"height\", \"width\", \"channel\"],\n",
    "        \"info\": {\n",
    "            \"video.fps\": 20, \n",
    "            \"video.codec\": \"mp4v\", \n",
    "            \"video.pix_fmt\": \"yuv420p\", \n",
    "            \"video.is_depth_map\": False,\n",
    "            \"has_audio\": False\n",
    "        }\n",
    "    },\n",
    "    \"observation.images.secondary_1\": {\n",
    "        \"dtype\": \"video\", \n",
    "        \"shape\": (224, 224, 3),\n",
    "        \"names\": [\"height\", \"width\", \"channel\"],\n",
    "        \"info\": {\n",
    "            \"video.fps\": 20, \n",
    "            \"video.codec\": \"mp4v\", \n",
    "            \"video.pix_fmt\": \"yuv420p\", \n",
    "            \"video.is_depth_map\": False,\n",
    "            \"has_audio\": False\n",
    "        }\n",
    "    }\n",
    "}\n",
    "\n",
    "# Create a fresh dataset\n",
    "dataset = LeRobotDataset.create(\n",
    "    repo_id=\"chengkunli/green_cup_pour\",\n",
    "    fps=20,\n",
    "    root='/Users/chengkunli/Projects/lerobot/hackathon/green_cup_pour',\n",
    "    features=features,\n",
    "    use_videos=True,\n",
    ")\n",
    "\n",
    "# Function to process 4x4 pose matrix to rotation+translation format (6+3=9)\n",
    "def process_pose_matrix(pose):\n",
    "    # Extract rotation matrix and convert to rotation vector (first 2 row = 6 values)\n",
    "    rotation = pose[:2, :3].flatten()\n",
    "    # Extract translation vector (last column, first 3 rows)\n",
    "    translation = pose[:3, 3]\n",
    "    # Concatenate to get (6+3=9) values\n",
    "    return np.concatenate([rotation, translation])\n",
    "\n",
    "# Find closest pose for each timestamp\n",
    "def find_closest_index(target_timestamp, all_timestamps):\n",
    "    idx = np.argmin(np.abs(all_timestamps - target_timestamp))\n",
    "    return idx\n",
    "\n",
    "# Process each zarr file as a separate episode\n",
    "for episode_idx, zarr_path in enumerate(zarr_files):\n",
    "    print(f\"\\nProcessing episode {episode_idx+1}/{len(zarr_files)}: {os.path.basename(zarr_path)}\")\n",
    "    \n",
    "    # Clear any previous episode data\n",
    "    dataset.clear_episode_buffer()\n",
    "    \n",
    "    # Load zarr file\n",
    "    z = zarr.open(zarr_path, mode='r')\n",
    "    \n",
    "    # Load all data from the zarr dataset\n",
    "    hand_joints = np.array(z['robot0_hand_joints_lowdim'])\n",
    "    eef_pose = np.array(z['robot0_eef_pose_lowdim'])\n",
    "    wrist_bottom_imgs = np.array(z['robot0_ego_wrist_bottom_rgb'])\n",
    "    wrist_top_imgs = np.array(z['robot0_ego_wrist_top_rgb'])\n",
    "    workspace_imgs = np.array(z['workspace_rgb'])\n",
    "    \n",
    "    # Load all timestamps\n",
    "    hand_joints_timestamps = np.array(z['robot0_hand_joints_lowdim_timestamps'])\n",
    "    eef_pose_timestamps = np.array(z['robot0_eef_pose_lowdim_timestamps'])\n",
    "    \n",
    "    print(f\"Loaded data: {len(hand_joints)} hand joint frames, {len(eef_pose)} pose frames\")\n",
    "    \n",
    "    # We need n-1 frames to account for the future shifting for observations\n",
    "    max_frames = len(hand_joints) - 1\n",
    "    \n",
    "    # Get task for this episode\n",
    "    task = task_descriptions[episode_idx] if episode_idx < len(task_descriptions) else f\"task_{episode_idx}\"\n",
    "    \n",
    "    # Process all frames and add to dataset\n",
    "    for i in tqdm(range(max_frames)):\n",
    "        # Find pose matrix for current and next frame\n",
    "        curr_pose_idx = find_closest_index(hand_joints_timestamps[i], eef_pose_timestamps)\n",
    "        next_pose_idx = find_closest_index(hand_joints_timestamps[i+1] if i+1 < len(hand_joints) else hand_joints_timestamps[i], eef_pose_timestamps)\n",
    "        # Process current and next pose matrices\n",
    "        curr_pose_matrix = eef_pose[curr_pose_idx]\n",
    "        next_pose_matrix = eef_pose[next_pose_idx]\n",
    "        assert curr_pose_idx != next_pose_idx, \"Pose indices should not be the same\"\n",
    "        \n",
    "        curr_processed_pose = process_pose_matrix(curr_pose_matrix)\n",
    "        next_processed_pose = process_pose_matrix(next_pose_matrix)\n",
    "        \n",
    "        # Current and next hand joint values (for future shifting)\n",
    "        curr_joints = hand_joints[i]\n",
    "        next_joints = hand_joints[i+1] if i+1 < len(hand_joints) else hand_joints[i]\n",
    "        \n",
    "        # Combine hand joints and pose data for action and state\n",
    "        action_combined = np.concatenate([next_joints, next_processed_pose])\n",
    "        state_combined = np.concatenate([curr_joints, curr_processed_pose])\n",
    "        \n",
    "        # Get images - convert to PyTorch tensors\n",
    "        main_img = torch.from_numpy(np.transpose(workspace_imgs[i, 0], (1, 2, 0)))\n",
    "        secondary_0_img = torch.from_numpy(np.transpose(wrist_top_imgs[i, 0], (1, 2, 0)))\n",
    "        secondary_1_img = torch.from_numpy(np.transpose(wrist_bottom_imgs[i, 0], (1, 2, 0)))\n",
    "        \n",
    "        # Create frame dictionary with all required data\n",
    "        frame = {\n",
    "            # Action combines hand joints and processed pose\n",
    "            \"action\": torch.from_numpy(action_combined).float(),\n",
    "            \n",
    "            # State combines next hand joints and next processed pose\n",
    "            \"observation.state\": torch.from_numpy(state_combined).float(),\n",
    "            \n",
    "            # Task description for this episode\n",
    "            \"task\": task,\n",
    "            \n",
    "            # Images from zarr dataset\n",
    "            \"observation.images.main\": main_img,\n",
    "            \"observation.images.secondary_0\": secondary_0_img,\n",
    "            \"observation.images.secondary_1\": secondary_1_img,\n",
    "        }\n",
    "        \n",
    "        # Add the frame to the dataset\n",
    "        dataset.add_frame(frame)\n",
    "    \n",
    "    # Save the episode after all frames from this zarr file are added\n",
    "    dataset.save_episode()\n",
    "    print(f\"Saved episode {episode_idx+1}, total frames in episode: {max_frames}\")\n",
    "\n",
    "print(f\"\\nDataset creation complete!\")\n",
    "print(f\"Dataset created at: {dataset.root}\")\n",
    "print(f\"Total episodes: {dataset.num_episodes}\")\n",
    "print(f\"Total frames: {dataset.num_frames}\")"
   ]
  },
  {
   "cell_type": "code",
   "execution_count": 11,
   "id": "f081b98a",
   "metadata": {},
   "outputs": [
    {
     "data": {
      "application/vnd.jupyter.widget-view+json": {
       "model_id": "ee05dcb2a6404963b086907b69405b18",
       "version_major": 2,
       "version_minor": 0
      },
      "text/plain": [
       "Resolving data files:   0%|          | 0/52 [00:00<?, ?it/s]"
      ]
     },
     "metadata": {},
     "output_type": "display_data"
    },
    {
     "data": {
      "application/vnd.jupyter.widget-view+json": {
       "model_id": "288bb4e517744b3598f9d9111406b592",
       "version_major": 2,
       "version_minor": 0
      },
      "text/plain": [
       "Downloading data:   0%|          | 0/52 [00:00<?, ?files/s]"
      ]
     },
     "metadata": {},
     "output_type": "display_data"
    },
    {
     "data": {
      "application/vnd.jupyter.widget-view+json": {
       "model_id": "c265927d99f94f97840424f2d2233905",
       "version_major": 2,
       "version_minor": 0
      },
      "text/plain": [
       "Generating train split: 0 examples [00:00, ? examples/s]"
      ]
     },
     "metadata": {},
     "output_type": "display_data"
    },
    {
     "data": {
      "application/vnd.jupyter.widget-view+json": {
       "model_id": "a7d0fafa4aa94d6490bb277cd2f365f5",
       "version_major": 2,
       "version_minor": 0
      },
      "text/plain": [
       "Recovering from metadata files:   0%|          | 0/212 [00:00<?, ?it/s]"
      ]
     },
     "metadata": {},
     "output_type": "display_data"
    },
    {
     "name": "stdout",
     "output_type": "stream",
     "text": [
      "\n",
      "\n",
      "\n",
      "---------- 2025-05-10 19:37:41 (0:00:00) ----------\n",
      "Files:   hashed 4/212 (290.7K/330.0M) | pre-uploaded: 0/0 (0.0/330.0M) (+212 unsure) | committed: 0/212 (0.0/330.0M) | ignored: 0\n",
      "Workers: hashing: 7 | get upload mode: 1 | pre-uploading: 0 | committing: 0 | waiting: 0\n",
      "---------------------------------------------------\n"
     ]
    },
    {
     "data": {
      "application/vnd.jupyter.widget-view+json": {
       "model_id": "5b9e7370dbad4ccba3f805011e751ffd",
       "version_major": 2,
       "version_minor": 0
      },
      "text/plain": [
       "episode_000022.mp4:   0%|          | 0.00/1.88M [00:00<?, ?B/s]"
      ]
     },
     "metadata": {},
     "output_type": "display_data"
    },
    {
     "data": {
      "application/vnd.jupyter.widget-view+json": {
       "model_id": "7f98f3d3910f42168d1e1660301a5ed2",
       "version_major": 2,
       "version_minor": 0
      },
      "text/plain": [
       "episode_000033.mp4:   0%|          | 0.00/1.70M [00:00<?, ?B/s]"
      ]
     },
     "metadata": {},
     "output_type": "display_data"
    },
    {
     "data": {
      "application/vnd.jupyter.widget-view+json": {
       "model_id": "52bdfbac2aac457bbb01544a6e0fbc81",
       "version_major": 2,
       "version_minor": 0
      },
      "text/plain": [
       "episode_000023.mp4:   0%|          | 0.00/1.78M [00:00<?, ?B/s]"
      ]
     },
     "metadata": {},
     "output_type": "display_data"
    },
    {
     "data": {
      "application/vnd.jupyter.widget-view+json": {
       "model_id": "46bc7814b1b443c79a6e4b51a90883f5",
       "version_major": 2,
       "version_minor": 0
      },
      "text/plain": [
       "episode_000037.mp4:   0%|          | 0.00/1.64M [00:00<?, ?B/s]"
      ]
     },
     "metadata": {},
     "output_type": "display_data"
    },
    {
     "data": {
      "application/vnd.jupyter.widget-view+json": {
       "model_id": "d5dc5150c8724630a87b0de5cfad94e0",
       "version_major": 2,
       "version_minor": 0
      },
      "text/plain": [
       "episode_000027.mp4:   0%|          | 0.00/1.95M [00:00<?, ?B/s]"
      ]
     },
     "metadata": {},
     "output_type": "display_data"
    },
    {
     "data": {
      "application/vnd.jupyter.widget-view+json": {
       "model_id": "474ed330a7ed4098b0f2a915e6777750",
       "version_major": 2,
       "version_minor": 0
      },
      "text/plain": [
       "episode_000026.mp4:   0%|          | 0.00/1.68M [00:00<?, ?B/s]"
      ]
     },
     "metadata": {},
     "output_type": "display_data"
    },
    {
     "data": {
      "application/vnd.jupyter.widget-view+json": {
       "model_id": "9703db7d174c44adb6776a33c105a18a",
       "version_major": 2,
       "version_minor": 0
      },
      "text/plain": [
       "episode_000032.mp4:   0%|          | 0.00/1.62M [00:00<?, ?B/s]"
      ]
     },
     "metadata": {},
     "output_type": "display_data"
    },
    {
     "data": {
      "application/vnd.jupyter.widget-view+json": {
       "model_id": "8613ec66a7b0460795ede0ffd56c70af",
       "version_major": 2,
       "version_minor": 0
      },
      "text/plain": [
       "episode_000018.mp4:   0%|          | 0.00/1.69M [00:00<?, ?B/s]"
      ]
     },
     "metadata": {},
     "output_type": "display_data"
    },
    {
     "data": {
      "application/vnd.jupyter.widget-view+json": {
       "model_id": "a88b6dc1ea2646d6b1ea04a9e8ec0027",
       "version_major": 2,
       "version_minor": 0
      },
      "text/plain": [
       "episode_000031.mp4:   0%|          | 0.00/1.54M [00:00<?, ?B/s]"
      ]
     },
     "metadata": {},
     "output_type": "display_data"
    },
    {
     "data": {
      "application/vnd.jupyter.widget-view+json": {
       "model_id": "b9803f5216aa4dc79f634616c0a5a721",
       "version_major": 2,
       "version_minor": 0
      },
      "text/plain": [
       "episode_000030.mp4:   0%|          | 0.00/1.77M [00:00<?, ?B/s]"
      ]
     },
     "metadata": {},
     "output_type": "display_data"
    },
    {
     "data": {
      "application/vnd.jupyter.widget-view+json": {
       "model_id": "55e6d453cfb24ee59c67e95e55701f70",
       "version_major": 2,
       "version_minor": 0
      },
      "text/plain": [
       "episode_000025.mp4:   0%|          | 0.00/1.81M [00:00<?, ?B/s]"
      ]
     },
     "metadata": {},
     "output_type": "display_data"
    },
    {
     "data": {
      "application/vnd.jupyter.widget-view+json": {
       "model_id": "a2f550929e9240c182794e0f2a732248",
       "version_major": 2,
       "version_minor": 0
      },
      "text/plain": [
       "episode_000024.mp4:   0%|          | 0.00/1.95M [00:00<?, ?B/s]"
      ]
     },
     "metadata": {},
     "output_type": "display_data"
    },
    {
     "data": {
      "application/vnd.jupyter.widget-view+json": {
       "model_id": "7bb2d68430a14c8c81f9cb2d1d673125",
       "version_major": 2,
       "version_minor": 0
      },
      "text/plain": [
       "episode_000042.mp4:   0%|          | 0.00/1.79M [00:00<?, ?B/s]"
      ]
     },
     "metadata": {},
     "output_type": "display_data"
    },
    {
     "data": {
      "application/vnd.jupyter.widget-view+json": {
       "model_id": "7a1225db8230477c9bcddbd9d3c3204a",
       "version_major": 2,
       "version_minor": 0
      },
      "text/plain": [
       "episode_000043.mp4:   0%|          | 0.00/1.97M [00:00<?, ?B/s]"
      ]
     },
     "metadata": {},
     "output_type": "display_data"
    },
    {
     "data": {
      "application/vnd.jupyter.widget-view+json": {
       "model_id": "c9c26a9bd4344a0c841c73f81135325e",
       "version_major": 2,
       "version_minor": 0
      },
      "text/plain": [
       "episode_000019.mp4:   0%|          | 0.00/1.57M [00:00<?, ?B/s]"
      ]
     },
     "metadata": {},
     "output_type": "display_data"
    },
    {
     "data": {
      "application/vnd.jupyter.widget-view+json": {
       "model_id": "2a2129806b6f4977b26ef8585a69b2ed",
       "version_major": 2,
       "version_minor": 0
      },
      "text/plain": [
       "episode_000041.mp4:   0%|          | 0.00/1.78M [00:00<?, ?B/s]"
      ]
     },
     "metadata": {},
     "output_type": "display_data"
    },
    {
     "data": {
      "application/vnd.jupyter.widget-view+json": {
       "model_id": "6f6b4e3602bc47a0899a7aba787c6967",
       "version_major": 2,
       "version_minor": 0
      },
      "text/plain": [
       "episode_000045.mp4:   0%|          | 0.00/1.85M [00:00<?, ?B/s]"
      ]
     },
     "metadata": {},
     "output_type": "display_data"
    },
    {
     "data": {
      "application/vnd.jupyter.widget-view+json": {
       "model_id": "c110a6ad142243d4a9e6a82abe76f8ce",
       "version_major": 2,
       "version_minor": 0
      },
      "text/plain": [
       "episode_000040.mp4:   0%|          | 0.00/2.07M [00:00<?, ?B/s]"
      ]
     },
     "metadata": {},
     "output_type": "display_data"
    },
    {
     "data": {
      "application/vnd.jupyter.widget-view+json": {
       "model_id": "3216cdd27a614df191b4507eb522898e",
       "version_major": 2,
       "version_minor": 0
      },
      "text/plain": [
       "episode_000050.mp4:   0%|          | 0.00/1.54M [00:00<?, ?B/s]"
      ]
     },
     "metadata": {},
     "output_type": "display_data"
    },
    {
     "data": {
      "application/vnd.jupyter.widget-view+json": {
       "model_id": "98bd7046ec574abb995cd2a8074f996f",
       "version_major": 2,
       "version_minor": 0
      },
      "text/plain": [
       "episode_000051.mp4:   0%|          | 0.00/1.90M [00:00<?, ?B/s]"
      ]
     },
     "metadata": {},
     "output_type": "display_data"
    },
    {
     "data": {
      "application/vnd.jupyter.widget-view+json": {
       "model_id": "24d684aeeece4814a02a09908908a65a",
       "version_major": 2,
       "version_minor": 0
      },
      "text/plain": [
       "episode_000017.mp4:   0%|          | 0.00/2.10M [00:00<?, ?B/s]"
      ]
     },
     "metadata": {},
     "output_type": "display_data"
    },
    {
     "data": {
      "application/vnd.jupyter.widget-view+json": {
       "model_id": "db9fd21ab340451ea3b52881cd35297d",
       "version_major": 2,
       "version_minor": 0
      },
      "text/plain": [
       "episode_000003.mp4:   0%|          | 0.00/2.19M [00:00<?, ?B/s]"
      ]
     },
     "metadata": {},
     "output_type": "display_data"
    },
    {
     "data": {
      "application/vnd.jupyter.widget-view+json": {
       "model_id": "60f886c0119b42c5a48eac88259523cf",
       "version_major": 2,
       "version_minor": 0
      },
      "text/plain": [
       "episode_000002.mp4:   0%|          | 0.00/2.01M [00:00<?, ?B/s]"
      ]
     },
     "metadata": {},
     "output_type": "display_data"
    },
    {
     "data": {
      "application/vnd.jupyter.widget-view+json": {
       "model_id": "b2e79c0bdeda4027b91d5dfd361004d1",
       "version_major": 2,
       "version_minor": 0
      },
      "text/plain": [
       "episode_000016.mp4:   0%|          | 0.00/2.09M [00:00<?, ?B/s]"
      ]
     },
     "metadata": {},
     "output_type": "display_data"
    },
    {
     "data": {
      "application/vnd.jupyter.widget-view+json": {
       "model_id": "837081e35b944702a205db343bb03106",
       "version_major": 2,
       "version_minor": 0
      },
      "text/plain": [
       "episode_000001.mp4:   0%|          | 0.00/2.03M [00:00<?, ?B/s]"
      ]
     },
     "metadata": {},
     "output_type": "display_data"
    },
    {
     "data": {
      "application/vnd.jupyter.widget-view+json": {
       "model_id": "1f1ab19d26a543589f51f88425a934a7",
       "version_major": 2,
       "version_minor": 0
      },
      "text/plain": [
       "episode_000012.mp4:   0%|          | 0.00/2.15M [00:00<?, ?B/s]"
      ]
     },
     "metadata": {},
     "output_type": "display_data"
    },
    {
     "data": {
      "application/vnd.jupyter.widget-view+json": {
       "model_id": "f61a65fdeeab45a2a4c24bb1c8804f5e",
       "version_major": 2,
       "version_minor": 0
      },
      "text/plain": [
       "episode_000006.mp4:   0%|          | 0.00/1.88M [00:00<?, ?B/s]"
      ]
     },
     "metadata": {},
     "output_type": "display_data"
    },
    {
     "data": {
      "application/vnd.jupyter.widget-view+json": {
       "model_id": "b36da547745c41a2947a99004899d8b2",
       "version_major": 2,
       "version_minor": 0
      },
      "text/plain": [
       "episode_000007.mp4:   0%|          | 0.00/1.76M [00:00<?, ?B/s]"
      ]
     },
     "metadata": {},
     "output_type": "display_data"
    },
    {
     "data": {
      "application/vnd.jupyter.widget-view+json": {
       "model_id": "79363f2bb18a4dcc94c20df1475a5e9a",
       "version_major": 2,
       "version_minor": 0
      },
      "text/plain": [
       "episode_000013.mp4:   0%|          | 0.00/1.88M [00:00<?, ?B/s]"
      ]
     },
     "metadata": {},
     "output_type": "display_data"
    },
    {
     "data": {
      "application/vnd.jupyter.widget-view+json": {
       "model_id": "334d1f40aba34e67b3814df736e6c37b",
       "version_major": 2,
       "version_minor": 0
      },
      "text/plain": [
       "episode_000011.mp4:   0%|          | 0.00/1.83M [00:00<?, ?B/s]"
      ]
     },
     "metadata": {},
     "output_type": "display_data"
    },
    {
     "data": {
      "application/vnd.jupyter.widget-view+json": {
       "model_id": "2fbe9b6cf28b4785a1e575aaa1242681",
       "version_major": 2,
       "version_minor": 0
      },
      "text/plain": [
       "episode_000005.mp4:   0%|          | 0.00/2.23M [00:00<?, ?B/s]"
      ]
     },
     "metadata": {},
     "output_type": "display_data"
    },
    {
     "data": {
      "application/vnd.jupyter.widget-view+json": {
       "model_id": "c09d702e9ec949209a843bc765107306",
       "version_major": 2,
       "version_minor": 0
      },
      "text/plain": [
       "episode_000010.mp4:   0%|          | 0.00/1.84M [00:00<?, ?B/s]"
      ]
     },
     "metadata": {},
     "output_type": "display_data"
    },
    {
     "data": {
      "application/vnd.jupyter.widget-view+json": {
       "model_id": "ef56c339a7d043249078621bbb6aab27",
       "version_major": 2,
       "version_minor": 0
      },
      "text/plain": [
       "episode_000039.mp4:   0%|          | 0.00/2.13M [00:00<?, ?B/s]"
      ]
     },
     "metadata": {},
     "output_type": "display_data"
    },
    {
     "data": {
      "application/vnd.jupyter.widget-view+json": {
       "model_id": "b31cf4d8016b45748bb79ed1187029d3",
       "version_major": 2,
       "version_minor": 0
      },
      "text/plain": [
       "episode_000004.mp4:   0%|          | 0.00/1.92M [00:00<?, ?B/s]"
      ]
     },
     "metadata": {},
     "output_type": "display_data"
    },
    {
     "data": {
      "application/vnd.jupyter.widget-view+json": {
       "model_id": "fdb0ac7e4d0a4f62af39f5465eef9b80",
       "version_major": 2,
       "version_minor": 0
      },
      "text/plain": [
       "episode_000038.mp4:   0%|          | 0.00/1.59M [00:00<?, ?B/s]"
      ]
     },
     "metadata": {},
     "output_type": "display_data"
    },
    {
     "data": {
      "application/vnd.jupyter.widget-view+json": {
       "model_id": "197bd9fe58ad4f928a937e7e7b7682f8",
       "version_major": 2,
       "version_minor": 0
      },
      "text/plain": [
       "episode_000021.mp4:   0%|          | 0.00/2.65M [00:00<?, ?B/s]"
      ]
     },
     "metadata": {},
     "output_type": "display_data"
    },
    {
     "data": {
      "application/vnd.jupyter.widget-view+json": {
       "model_id": "5cedd9597fd3417ba840c379413706c7",
       "version_major": 2,
       "version_minor": 0
      },
      "text/plain": [
       "episode_000035.mp4:   0%|          | 0.00/2.81M [00:00<?, ?B/s]"
      ]
     },
     "metadata": {},
     "output_type": "display_data"
    },
    {
     "data": {
      "application/vnd.jupyter.widget-view+json": {
       "model_id": "397f19de59fc4931a603e568af28d499",
       "version_major": 2,
       "version_minor": 0
      },
      "text/plain": [
       "episode_000009.mp4:   0%|          | 0.00/2.90M [00:00<?, ?B/s]"
      ]
     },
     "metadata": {},
     "output_type": "display_data"
    },
    {
     "data": {
      "application/vnd.jupyter.widget-view+json": {
       "model_id": "8dc2698bbb1141cf9623cd2d2b5fffde",
       "version_major": 2,
       "version_minor": 0
      },
      "text/plain": [
       "episode_000008.mp4:   0%|          | 0.00/2.55M [00:00<?, ?B/s]"
      ]
     },
     "metadata": {},
     "output_type": "display_data"
    },
    {
     "data": {
      "application/vnd.jupyter.widget-view+json": {
       "model_id": "be8a6b174258423d8bd00b89fd51fc1e",
       "version_major": 2,
       "version_minor": 0
      },
      "text/plain": [
       "episode_000034.mp4:   0%|          | 0.00/2.53M [00:00<?, ?B/s]"
      ]
     },
     "metadata": {},
     "output_type": "display_data"
    },
    {
     "data": {
      "application/vnd.jupyter.widget-view+json": {
       "model_id": "26ca776a8e5346868e852ab14c7bd787",
       "version_major": 2,
       "version_minor": 0
      },
      "text/plain": [
       "episode_000020.mp4:   0%|          | 0.00/2.41M [00:00<?, ?B/s]"
      ]
     },
     "metadata": {},
     "output_type": "display_data"
    },
    {
     "data": {
      "application/vnd.jupyter.widget-view+json": {
       "model_id": "528692c1bea743ac9ac04bbbe23ab37e",
       "version_major": 2,
       "version_minor": 0
      },
      "text/plain": [
       "episode_000036.mp4:   0%|          | 0.00/2.26M [00:00<?, ?B/s]"
      ]
     },
     "metadata": {},
     "output_type": "display_data"
    },
    {
     "data": {
      "application/vnd.jupyter.widget-view+json": {
       "model_id": "e8711ccd522e433db5ec2500f89c0a32",
       "version_major": 2,
       "version_minor": 0
      },
      "text/plain": [
       "episode_000022.mp4:   0%|          | 0.00/2.87M [00:00<?, ?B/s]"
      ]
     },
     "metadata": {},
     "output_type": "display_data"
    },
    {
     "data": {
      "application/vnd.jupyter.widget-view+json": {
       "model_id": "8c787ee181464872a15b932365f31939",
       "version_major": 2,
       "version_minor": 0
      },
      "text/plain": [
       "episode_000023.mp4:   0%|          | 0.00/2.63M [00:00<?, ?B/s]"
      ]
     },
     "metadata": {},
     "output_type": "display_data"
    },
    {
     "data": {
      "application/vnd.jupyter.widget-view+json": {
       "model_id": "d5d0cd97f1f947989362fa8af9f59c68",
       "version_major": 2,
       "version_minor": 0
      },
      "text/plain": [
       "episode_000037.mp4:   0%|          | 0.00/2.35M [00:00<?, ?B/s]"
      ]
     },
     "metadata": {},
     "output_type": "display_data"
    },
    {
     "data": {
      "application/vnd.jupyter.widget-view+json": {
       "model_id": "dbdbe3a1c68746838a7debc9c0130a3d",
       "version_major": 2,
       "version_minor": 0
      },
      "text/plain": [
       "episode_000033.mp4:   0%|          | 0.00/2.49M [00:00<?, ?B/s]"
      ]
     },
     "metadata": {},
     "output_type": "display_data"
    },
    {
     "data": {
      "application/vnd.jupyter.widget-view+json": {
       "model_id": "206fdd84ee5349f38d3a740c026fff02",
       "version_major": 2,
       "version_minor": 0
      },
      "text/plain": [
       "episode_000026.mp4:   0%|          | 0.00/2.39M [00:00<?, ?B/s]"
      ]
     },
     "metadata": {},
     "output_type": "display_data"
    },
    {
     "data": {
      "application/vnd.jupyter.widget-view+json": {
       "model_id": "ed1165e78ae542ed8a88af4ca4748f7f",
       "version_major": 2,
       "version_minor": 0
      },
      "text/plain": [
       "episode_000027.mp4:   0%|          | 0.00/2.71M [00:00<?, ?B/s]"
      ]
     },
     "metadata": {},
     "output_type": "display_data"
    },
    {
     "data": {
      "application/vnd.jupyter.widget-view+json": {
       "model_id": "1c36a31c806f45df83e8dff881582103",
       "version_major": 2,
       "version_minor": 0
      },
      "text/plain": [
       "episode_000018.mp4:   0%|          | 0.00/2.33M [00:00<?, ?B/s]"
      ]
     },
     "metadata": {},
     "output_type": "display_data"
    },
    {
     "data": {
      "application/vnd.jupyter.widget-view+json": {
       "model_id": "ceb5adcebb4e4140a5d5b01a4b59566a",
       "version_major": 2,
       "version_minor": 0
      },
      "text/plain": [
       "episode_000032.mp4:   0%|          | 0.00/2.37M [00:00<?, ?B/s]"
      ]
     },
     "metadata": {},
     "output_type": "display_data"
    },
    {
     "data": {
      "application/vnd.jupyter.widget-view+json": {
       "model_id": "ee1e4b8464a949fc8b94139bb085c07b",
       "version_major": 2,
       "version_minor": 0
      },
      "text/plain": [
       "episode_000021.mp4:   0%|          | 0.00/1.75M [00:00<?, ?B/s]"
      ]
     },
     "metadata": {},
     "output_type": "display_data"
    },
    {
     "data": {
      "application/vnd.jupyter.widget-view+json": {
       "model_id": "bc4ba9a3beeb4bb6bcccc6057ec25e3d",
       "version_major": 2,
       "version_minor": 0
      },
      "text/plain": [
       "episode_000034.mp4:   0%|          | 0.00/1.60M [00:00<?, ?B/s]"
      ]
     },
     "metadata": {},
     "output_type": "display_data"
    },
    {
     "data": {
      "application/vnd.jupyter.widget-view+json": {
       "model_id": "3a1938bb21344881a7bfa68cdc950498",
       "version_major": 2,
       "version_minor": 0
      },
      "text/plain": [
       "episode_000008.mp4:   0%|          | 0.00/1.90M [00:00<?, ?B/s]"
      ]
     },
     "metadata": {},
     "output_type": "display_data"
    },
    {
     "data": {
      "application/vnd.jupyter.widget-view+json": {
       "model_id": "968c84bb06f34eed8c940deabb6bb52b",
       "version_major": 2,
       "version_minor": 0
      },
      "text/plain": [
       "episode_000020.mp4:   0%|          | 0.00/1.65M [00:00<?, ?B/s]"
      ]
     },
     "metadata": {},
     "output_type": "display_data"
    },
    {
     "data": {
      "application/vnd.jupyter.widget-view+json": {
       "model_id": "ed91c3faf7184e16b62f476344a94dbf",
       "version_major": 2,
       "version_minor": 0
      },
      "text/plain": [
       "episode_000035.mp4:   0%|          | 0.00/2.00M [00:00<?, ?B/s]"
      ]
     },
     "metadata": {},
     "output_type": "display_data"
    },
    {
     "data": {
      "application/vnd.jupyter.widget-view+json": {
       "model_id": "895ad4e5e976429d9c1bcf555ffd4e60",
       "version_major": 2,
       "version_minor": 0
      },
      "text/plain": [
       "episode_000036.mp4:   0%|          | 0.00/1.69M [00:00<?, ?B/s]"
      ]
     },
     "metadata": {},
     "output_type": "display_data"
    },
    {
     "data": {
      "application/vnd.jupyter.widget-view+json": {
       "model_id": "4cfe6839c4b544b6bc0d60a97c4985be",
       "version_major": 2,
       "version_minor": 0
      },
      "text/plain": [
       "episode_000009.mp4:   0%|          | 0.00/2.03M [00:00<?, ?B/s]"
      ]
     },
     "metadata": {},
     "output_type": "display_data"
    },
    {
     "data": {
      "application/vnd.jupyter.widget-view+json": {
       "model_id": "1b7cd56b56a64d62b38d8f9ea2ed18d8",
       "version_major": 2,
       "version_minor": 0
      },
      "text/plain": [
       "episode_000044.mp4:   0%|          | 0.00/1.96M [00:00<?, ?B/s]"
      ]
     },
     "metadata": {},
     "output_type": "display_data"
    },
    {
     "data": {
      "application/vnd.jupyter.widget-view+json": {
       "model_id": "76d0f33e942a429d8cef1f4b306a445a",
       "version_major": 2,
       "version_minor": 0
      },
      "text/plain": [
       "episode_000046.mp4:   0%|          | 0.00/2.19M [00:00<?, ?B/s]"
      ]
     },
     "metadata": {},
     "output_type": "display_data"
    },
    {
     "data": {
      "application/vnd.jupyter.widget-view+json": {
       "model_id": "44ae93643763433b9bd955411693a297",
       "version_major": 2,
       "version_minor": 0
      },
      "text/plain": [
       "episode_000047.mp4:   0%|          | 0.00/2.44M [00:00<?, ?B/s]"
      ]
     },
     "metadata": {},
     "output_type": "display_data"
    },
    {
     "data": {
      "application/vnd.jupyter.widget-view+json": {
       "model_id": "394929236cc348a9a83541aa7117103a",
       "version_major": 2,
       "version_minor": 0
      },
      "text/plain": [
       "episode_000048.mp4:   0%|          | 0.00/1.53M [00:00<?, ?B/s]"
      ]
     },
     "metadata": {},
     "output_type": "display_data"
    },
    {
     "data": {
      "application/vnd.jupyter.widget-view+json": {
       "model_id": "f45ef96ddabf4ff6a66d23d0d56330f6",
       "version_major": 2,
       "version_minor": 0
      },
      "text/plain": [
       "episode_000049.mp4:   0%|          | 0.00/1.73M [00:00<?, ?B/s]"
      ]
     },
     "metadata": {},
     "output_type": "display_data"
    },
    {
     "data": {
      "application/vnd.jupyter.widget-view+json": {
       "model_id": "607db5e71bea460ca1729a6cb2d1fe5c",
       "version_major": 2,
       "version_minor": 0
      },
      "text/plain": [
       "episode_000014.mp4:   0%|          | 0.00/1.99M [00:00<?, ?B/s]"
      ]
     },
     "metadata": {},
     "output_type": "display_data"
    },
    {
     "data": {
      "application/vnd.jupyter.widget-view+json": {
       "model_id": "4bb144bc1d164f8580db1d0eddc3cc16",
       "version_major": 2,
       "version_minor": 0
      },
      "text/plain": [
       "episode_000000.mp4:   0%|          | 0.00/2.33M [00:00<?, ?B/s]"
      ]
     },
     "metadata": {},
     "output_type": "display_data"
    },
    {
     "data": {
      "application/vnd.jupyter.widget-view+json": {
       "model_id": "fa63587ba61a413c900e05afa617f483",
       "version_major": 2,
       "version_minor": 0
      },
      "text/plain": [
       "episode_000028.mp4:   0%|          | 0.00/1.79M [00:00<?, ?B/s]"
      ]
     },
     "metadata": {},
     "output_type": "display_data"
    },
    {
     "data": {
      "application/vnd.jupyter.widget-view+json": {
       "model_id": "7aa1f1a34eaa489b9166493648ca6779",
       "version_major": 2,
       "version_minor": 0
      },
      "text/plain": [
       "episode_000029.mp4:   0%|          | 0.00/1.80M [00:00<?, ?B/s]"
      ]
     },
     "metadata": {},
     "output_type": "display_data"
    },
    {
     "data": {
      "application/vnd.jupyter.widget-view+json": {
       "model_id": "4c0fc280845c49198fea57b84c780a3b",
       "version_major": 2,
       "version_minor": 0
      },
      "text/plain": [
       "episode_000015.mp4:   0%|          | 0.00/2.09M [00:00<?, ?B/s]"
      ]
     },
     "metadata": {},
     "output_type": "display_data"
    },
    {
     "data": {
      "application/vnd.jupyter.widget-view+json": {
       "model_id": "dc7c7afc0bf4497897ba9fe5e8bf1c26",
       "version_major": 2,
       "version_minor": 0
      },
      "text/plain": [
       "episode_000044.mp4:   0%|          | 0.00/2.56M [00:00<?, ?B/s]"
      ]
     },
     "metadata": {},
     "output_type": "display_data"
    },
    {
     "data": {
      "application/vnd.jupyter.widget-view+json": {
       "model_id": "80373102e6514aa8a85cd005bd87fb1b",
       "version_major": 2,
       "version_minor": 0
      },
      "text/plain": [
       "episode_000045.mp4:   0%|          | 0.00/2.48M [00:00<?, ?B/s]"
      ]
     },
     "metadata": {},
     "output_type": "display_data"
    },
    {
     "data": {
      "application/vnd.jupyter.widget-view+json": {
       "model_id": "b992085e8c4942239c5b8af954845d91",
       "version_major": 2,
       "version_minor": 0
      },
      "text/plain": [
       "episode_000051.mp4:   0%|          | 0.00/2.49M [00:00<?, ?B/s]"
      ]
     },
     "metadata": {},
     "output_type": "display_data"
    },
    {
     "data": {
      "application/vnd.jupyter.widget-view+json": {
       "model_id": "c6661982667e4420ba0156145564aa8b",
       "version_major": 2,
       "version_minor": 0
      },
      "text/plain": [
       "episode_000047.mp4:   0%|          | 0.00/3.20M [00:00<?, ?B/s]"
      ]
     },
     "metadata": {},
     "output_type": "display_data"
    },
    {
     "data": {
      "application/vnd.jupyter.widget-view+json": {
       "model_id": "b2af49bcab8c41c2b6ff5ece419a8ade",
       "version_major": 2,
       "version_minor": 0
      },
      "text/plain": [
       "episode_000046.mp4:   0%|          | 0.00/2.77M [00:00<?, ?B/s]"
      ]
     },
     "metadata": {},
     "output_type": "display_data"
    },
    {
     "data": {
      "application/vnd.jupyter.widget-view+json": {
       "model_id": "f60c723a8ff2414caceace4e609023c7",
       "version_major": 2,
       "version_minor": 0
      },
      "text/plain": [
       "episode_000048.mp4:   0%|          | 0.00/2.02M [00:00<?, ?B/s]"
      ]
     },
     "metadata": {},
     "output_type": "display_data"
    },
    {
     "data": {
      "application/vnd.jupyter.widget-view+json": {
       "model_id": "cbcaadd644fc403f8ff1b737f1b6f22a",
       "version_major": 2,
       "version_minor": 0
      },
      "text/plain": [
       "episode_000049.mp4:   0%|          | 0.00/2.27M [00:00<?, ?B/s]"
      ]
     },
     "metadata": {},
     "output_type": "display_data"
    },
    {
     "data": {
      "application/vnd.jupyter.widget-view+json": {
       "model_id": "7052f3d7b3a540ee896d019b1974a057",
       "version_major": 2,
       "version_minor": 0
      },
      "text/plain": [
       "episode_000000.mp4:   0%|          | 0.00/3.30M [00:00<?, ?B/s]"
      ]
     },
     "metadata": {},
     "output_type": "display_data"
    },
    {
     "data": {
      "application/vnd.jupyter.widget-view+json": {
       "model_id": "8088c745a7684b22ba9c258691ccb849",
       "version_major": 2,
       "version_minor": 0
      },
      "text/plain": [
       "episode_000029.mp4:   0%|          | 0.00/2.72M [00:00<?, ?B/s]"
      ]
     },
     "metadata": {},
     "output_type": "display_data"
    },
    {
     "data": {
      "application/vnd.jupyter.widget-view+json": {
       "model_id": "2140c938876d42208dd9fe2d46e64fa5",
       "version_major": 2,
       "version_minor": 0
      },
      "text/plain": [
       "episode_000014.mp4:   0%|          | 0.00/2.87M [00:00<?, ?B/s]"
      ]
     },
     "metadata": {},
     "output_type": "display_data"
    },
    {
     "data": {
      "application/vnd.jupyter.widget-view+json": {
       "model_id": "a72d7bb0c4da443b8995d82fc64363cd",
       "version_major": 2,
       "version_minor": 0
      },
      "text/plain": [
       "episode_000001.mp4:   0%|          | 0.00/2.99M [00:00<?, ?B/s]"
      ]
     },
     "metadata": {},
     "output_type": "display_data"
    },
    {
     "data": {
      "application/vnd.jupyter.widget-view+json": {
       "model_id": "2323c2b0dd424043a6899794af70cc72",
       "version_major": 2,
       "version_minor": 0
      },
      "text/plain": [
       "episode_000015.mp4:   0%|          | 0.00/3.06M [00:00<?, ?B/s]"
      ]
     },
     "metadata": {},
     "output_type": "display_data"
    },
    {
     "data": {
      "application/vnd.jupyter.widget-view+json": {
       "model_id": "5b68cbcb98654d90977abb5332d60a8e",
       "version_major": 2,
       "version_minor": 0
      },
      "text/plain": [
       "episode_000028.mp4:   0%|          | 0.00/2.52M [00:00<?, ?B/s]"
      ]
     },
     "metadata": {},
     "output_type": "display_data"
    },
    {
     "data": {
      "application/vnd.jupyter.widget-view+json": {
       "model_id": "24662e40aca24f80922dbcc440adc560",
       "version_major": 2,
       "version_minor": 0
      },
      "text/plain": [
       "episode_000017.mp4:   0%|          | 0.00/3.09M [00:00<?, ?B/s]"
      ]
     },
     "metadata": {},
     "output_type": "display_data"
    },
    {
     "data": {
      "application/vnd.jupyter.widget-view+json": {
       "model_id": "0b2e67d092044cb1b89581c6b794b2fc",
       "version_major": 2,
       "version_minor": 0
      },
      "text/plain": [
       "episode_000003.mp4:   0%|          | 0.00/2.97M [00:00<?, ?B/s]"
      ]
     },
     "metadata": {},
     "output_type": "display_data"
    },
    {
     "data": {
      "application/vnd.jupyter.widget-view+json": {
       "model_id": "0b36192d406643089c4a12e1b563f753",
       "version_major": 2,
       "version_minor": 0
      },
      "text/plain": [
       "episode_000002.mp4:   0%|          | 0.00/2.68M [00:00<?, ?B/s]"
      ]
     },
     "metadata": {},
     "output_type": "display_data"
    },
    {
     "data": {
      "application/vnd.jupyter.widget-view+json": {
       "model_id": "229e4a2ea85a4e99b5a34b8c636ea510",
       "version_major": 2,
       "version_minor": 0
      },
      "text/plain": [
       "episode_000012.mp4:   0%|          | 0.00/3.21M [00:00<?, ?B/s]"
      ]
     },
     "metadata": {},
     "output_type": "display_data"
    },
    {
     "data": {
      "application/vnd.jupyter.widget-view+json": {
       "model_id": "64cd1f83384a439e88ab72cb68684076",
       "version_major": 2,
       "version_minor": 0
      },
      "text/plain": [
       "episode_000016.mp4:   0%|          | 0.00/3.13M [00:00<?, ?B/s]"
      ]
     },
     "metadata": {},
     "output_type": "display_data"
    },
    {
     "data": {
      "application/vnd.jupyter.widget-view+json": {
       "model_id": "1bb7dd22b66c43c9b6347f5e5d69add9",
       "version_major": 2,
       "version_minor": 0
      },
      "text/plain": [
       "episode_000006.mp4:   0%|          | 0.00/2.58M [00:00<?, ?B/s]"
      ]
     },
     "metadata": {},
     "output_type": "display_data"
    },
    {
     "data": {
      "application/vnd.jupyter.widget-view+json": {
       "model_id": "85cb24a9a13e4ea6bfe6a649ff739ff1",
       "version_major": 2,
       "version_minor": 0
      },
      "text/plain": [
       "episode_000007.mp4:   0%|          | 0.00/2.50M [00:00<?, ?B/s]"
      ]
     },
     "metadata": {},
     "output_type": "display_data"
    },
    {
     "data": {
      "application/vnd.jupyter.widget-view+json": {
       "model_id": "2815d3269ed244498670bc9ef55d0f82",
       "version_major": 2,
       "version_minor": 0
      },
      "text/plain": [
       "episode_000030.mp4:   0%|          | 0.00/2.60M [00:00<?, ?B/s]"
      ]
     },
     "metadata": {},
     "output_type": "display_data"
    },
    {
     "data": {
      "application/vnd.jupyter.widget-view+json": {
       "model_id": "4c801935715c4edd938e454191a37b8c",
       "version_major": 2,
       "version_minor": 0
      },
      "text/plain": [
       "episode_000031.mp4:   0%|          | 0.00/2.30M [00:00<?, ?B/s]"
      ]
     },
     "metadata": {},
     "output_type": "display_data"
    },
    {
     "data": {
      "application/vnd.jupyter.widget-view+json": {
       "model_id": "fe4cb21b1ab44e7e9c26b048482e15f9",
       "version_major": 2,
       "version_minor": 0
      },
      "text/plain": [
       "episode_000024.mp4:   0%|          | 0.00/2.75M [00:00<?, ?B/s]"
      ]
     },
     "metadata": {},
     "output_type": "display_data"
    },
    {
     "data": {
      "application/vnd.jupyter.widget-view+json": {
       "model_id": "c2e98e5c463d4749b2692e10d043dfa8",
       "version_major": 2,
       "version_minor": 0
      },
      "text/plain": [
       "episode_000025.mp4:   0%|          | 0.00/2.64M [00:00<?, ?B/s]"
      ]
     },
     "metadata": {},
     "output_type": "display_data"
    },
    {
     "data": {
      "application/vnd.jupyter.widget-view+json": {
       "model_id": "78ae3c66fbf44c03928011c08595dfd3",
       "version_major": 2,
       "version_minor": 0
      },
      "text/plain": [
       "episode_000019.mp4:   0%|          | 0.00/2.28M [00:00<?, ?B/s]"
      ]
     },
     "metadata": {},
     "output_type": "display_data"
    },
    {
     "data": {
      "application/vnd.jupyter.widget-view+json": {
       "model_id": "0a2112e1e62046f68b471bec1181af12",
       "version_major": 2,
       "version_minor": 0
      },
      "text/plain": [
       "episode_000042.mp4:   0%|          | 0.00/2.52M [00:00<?, ?B/s]"
      ]
     },
     "metadata": {},
     "output_type": "display_data"
    },
    {
     "data": {
      "application/vnd.jupyter.widget-view+json": {
       "model_id": "d67173a070004372ac13e1661ad5a877",
       "version_major": 2,
       "version_minor": 0
      },
      "text/plain": [
       "episode_000043.mp4:   0%|          | 0.00/2.64M [00:00<?, ?B/s]"
      ]
     },
     "metadata": {},
     "output_type": "display_data"
    },
    {
     "data": {
      "application/vnd.jupyter.widget-view+json": {
       "model_id": "b3468d2dc9164eab99b18f71569e5584",
       "version_major": 2,
       "version_minor": 0
      },
      "text/plain": [
       "episode_000041.mp4:   0%|          | 0.00/2.50M [00:00<?, ?B/s]"
      ]
     },
     "metadata": {},
     "output_type": "display_data"
    },
    {
     "data": {
      "application/vnd.jupyter.widget-view+json": {
       "model_id": "2b5c9e4497c0403aad6ed0e94d9c345b",
       "version_major": 2,
       "version_minor": 0
      },
      "text/plain": [
       "episode_000040.mp4:   0%|          | 0.00/2.79M [00:00<?, ?B/s]"
      ]
     },
     "metadata": {},
     "output_type": "display_data"
    },
    {
     "data": {
      "application/vnd.jupyter.widget-view+json": {
       "model_id": "89dde171bf4343a7a798d6d0f0332101",
       "version_major": 2,
       "version_minor": 0
      },
      "text/plain": [
       "episode_000050.mp4:   0%|          | 0.00/2.03M [00:00<?, ?B/s]"
      ]
     },
     "metadata": {},
     "output_type": "display_data"
    },
    {
     "data": {
      "application/vnd.jupyter.widget-view+json": {
       "model_id": "2f08992e97824a56a419bfdedc447678",
       "version_major": 2,
       "version_minor": 0
      },
      "text/plain": [
       "episode_000013.mp4:   0%|          | 0.00/2.81M [00:00<?, ?B/s]"
      ]
     },
     "metadata": {},
     "output_type": "display_data"
    },
    {
     "data": {
      "application/vnd.jupyter.widget-view+json": {
       "model_id": "3f5361f777904ee98326cdfea2b1e0d9",
       "version_major": 2,
       "version_minor": 0
      },
      "text/plain": [
       "episode_000039.mp4:   0%|          | 0.00/3.04M [00:00<?, ?B/s]"
      ]
     },
     "metadata": {},
     "output_type": "display_data"
    },
    {
     "data": {
      "application/vnd.jupyter.widget-view+json": {
       "model_id": "5ccec6baf1d9403bb5949c5ba3cf6fc8",
       "version_major": 2,
       "version_minor": 0
      },
      "text/plain": [
       "episode_000005.mp4:   0%|          | 0.00/3.04M [00:00<?, ?B/s]"
      ]
     },
     "metadata": {},
     "output_type": "display_data"
    },
    {
     "data": {
      "application/vnd.jupyter.widget-view+json": {
       "model_id": "eae2269121884835a988d261a700ca47",
       "version_major": 2,
       "version_minor": 0
      },
      "text/plain": [
       "episode_000011.mp4:   0%|          | 0.00/2.68M [00:00<?, ?B/s]"
      ]
     },
     "metadata": {},
     "output_type": "display_data"
    },
    {
     "data": {
      "application/vnd.jupyter.widget-view+json": {
       "model_id": "beb41d9aace0493590134c14f3a100f0",
       "version_major": 2,
       "version_minor": 0
      },
      "text/plain": [
       "episode_000010.mp4:   0%|          | 0.00/2.56M [00:00<?, ?B/s]"
      ]
     },
     "metadata": {},
     "output_type": "display_data"
    },
    {
     "data": {
      "application/vnd.jupyter.widget-view+json": {
       "model_id": "520c47736f5e40029acebf222d820ab6",
       "version_major": 2,
       "version_minor": 0
      },
      "text/plain": [
       "episode_000038.mp4:   0%|          | 0.00/2.23M [00:00<?, ?B/s]"
      ]
     },
     "metadata": {},
     "output_type": "display_data"
    },
    {
     "data": {
      "application/vnd.jupyter.widget-view+json": {
       "model_id": "647dc0b8c9f14630a9503609c7156248",
       "version_major": 2,
       "version_minor": 0
      },
      "text/plain": [
       "episode_000004.mp4:   0%|          | 0.00/2.64M [00:00<?, ?B/s]"
      ]
     },
     "metadata": {},
     "output_type": "display_data"
    },
    {
     "data": {
      "application/vnd.jupyter.widget-view+json": {
       "model_id": "6305c9588bba4cf4afb6ee8247351ff3",
       "version_major": 2,
       "version_minor": 0
      },
      "text/plain": [
       "episode_000021.mp4:   0%|          | 0.00/1.62M [00:00<?, ?B/s]"
      ]
     },
     "metadata": {},
     "output_type": "display_data"
    },
    {
     "data": {
      "application/vnd.jupyter.widget-view+json": {
       "model_id": "41f23d9d77474eabba456d6a930c54f7",
       "version_major": 2,
       "version_minor": 0
      },
      "text/plain": [
       "episode_000035.mp4:   0%|          | 0.00/1.71M [00:00<?, ?B/s]"
      ]
     },
     "metadata": {},
     "output_type": "display_data"
    },
    {
     "data": {
      "application/vnd.jupyter.widget-view+json": {
       "model_id": "8cd032ed345145b797f036457dac92d6",
       "version_major": 2,
       "version_minor": 0
      },
      "text/plain": [
       "episode_000009.mp4:   0%|          | 0.00/1.74M [00:00<?, ?B/s]"
      ]
     },
     "metadata": {},
     "output_type": "display_data"
    },
    {
     "data": {
      "application/vnd.jupyter.widget-view+json": {
       "model_id": "fd144ed4e45749888327617b94410cd0",
       "version_major": 2,
       "version_minor": 0
      },
      "text/plain": [
       "episode_000008.mp4:   0%|          | 0.00/1.71M [00:00<?, ?B/s]"
      ]
     },
     "metadata": {},
     "output_type": "display_data"
    },
    {
     "data": {
      "application/vnd.jupyter.widget-view+json": {
       "model_id": "2c8513ecdff246dcb97c5cd534760a85",
       "version_major": 2,
       "version_minor": 0
      },
      "text/plain": [
       "episode_000034.mp4:   0%|          | 0.00/1.46M [00:00<?, ?B/s]"
      ]
     },
     "metadata": {},
     "output_type": "display_data"
    },
    {
     "data": {
      "application/vnd.jupyter.widget-view+json": {
       "model_id": "9a32f91b99384ca4b00d94b55c3022ae",
       "version_major": 2,
       "version_minor": 0
      },
      "text/plain": [
       "episode_000020.mp4:   0%|          | 0.00/1.51M [00:00<?, ?B/s]"
      ]
     },
     "metadata": {},
     "output_type": "display_data"
    },
    {
     "data": {
      "application/vnd.jupyter.widget-view+json": {
       "model_id": "b02d38661d0545128fff12b32abb1a48",
       "version_major": 2,
       "version_minor": 0
      },
      "text/plain": [
       "episode_000036.mp4:   0%|          | 0.00/1.36M [00:00<?, ?B/s]"
      ]
     },
     "metadata": {},
     "output_type": "display_data"
    },
    {
     "data": {
      "application/vnd.jupyter.widget-view+json": {
       "model_id": "50b2150016364c18bace6f4872de0030",
       "version_major": 2,
       "version_minor": 0
      },
      "text/plain": [
       "episode_000022.mp4:   0%|          | 0.00/1.71M [00:00<?, ?B/s]"
      ]
     },
     "metadata": {},
     "output_type": "display_data"
    },
    {
     "data": {
      "application/vnd.jupyter.widget-view+json": {
       "model_id": "4b4aef9827524d9082126997c0a0e8b0",
       "version_major": 2,
       "version_minor": 0
      },
      "text/plain": [
       "episode_000033.mp4:   0%|          | 0.00/1.53M [00:00<?, ?B/s]"
      ]
     },
     "metadata": {},
     "output_type": "display_data"
    },
    {
     "data": {
      "application/vnd.jupyter.widget-view+json": {
       "model_id": "f8bfb6b3093547d9b736c084b002012d",
       "version_major": 2,
       "version_minor": 0
      },
      "text/plain": [
       "episode_000037.mp4:   0%|          | 0.00/1.42M [00:00<?, ?B/s]"
      ]
     },
     "metadata": {},
     "output_type": "display_data"
    },
    {
     "data": {
      "application/vnd.jupyter.widget-view+json": {
       "model_id": "3e16d01828bf46bcb5b455e68109b501",
       "version_major": 2,
       "version_minor": 0
      },
      "text/plain": [
       "episode_000023.mp4:   0%|          | 0.00/1.59M [00:00<?, ?B/s]"
      ]
     },
     "metadata": {},
     "output_type": "display_data"
    },
    {
     "data": {
      "application/vnd.jupyter.widget-view+json": {
       "model_id": "6844cb0ef1ae42bd94a6aff8fd8b31dd",
       "version_major": 2,
       "version_minor": 0
      },
      "text/plain": [
       "episode_000027.mp4:   0%|          | 0.00/1.69M [00:00<?, ?B/s]"
      ]
     },
     "metadata": {},
     "output_type": "display_data"
    },
    {
     "data": {
      "application/vnd.jupyter.widget-view+json": {
       "model_id": "f00cc91ec9e4428581af94ea0ee61f2f",
       "version_major": 2,
       "version_minor": 0
      },
      "text/plain": [
       "episode_000032.mp4:   0%|          | 0.00/1.48M [00:00<?, ?B/s]"
      ]
     },
     "metadata": {},
     "output_type": "display_data"
    },
    {
     "data": {
      "application/vnd.jupyter.widget-view+json": {
       "model_id": "9e52a2da5801481392d1ca6a9f49f009",
       "version_major": 2,
       "version_minor": 0
      },
      "text/plain": [
       "episode_000026.mp4:   0%|          | 0.00/1.58M [00:00<?, ?B/s]"
      ]
     },
     "metadata": {},
     "output_type": "display_data"
    },
    {
     "data": {
      "application/vnd.jupyter.widget-view+json": {
       "model_id": "9fdb3ac5cb664adc86d20415259cbd95",
       "version_major": 2,
       "version_minor": 0
      },
      "text/plain": [
       "episode_000018.mp4:   0%|          | 0.00/1.39M [00:00<?, ?B/s]"
      ]
     },
     "metadata": {},
     "output_type": "display_data"
    },
    {
     "data": {
      "application/vnd.jupyter.widget-view+json": {
       "model_id": "e0bb53a4ff5b4623bc3da192228c166c",
       "version_major": 2,
       "version_minor": 0
      },
      "text/plain": [
       "episode_000024.mp4:   0%|          | 0.00/1.62M [00:00<?, ?B/s]"
      ]
     },
     "metadata": {},
     "output_type": "display_data"
    },
    {
     "data": {
      "application/vnd.jupyter.widget-view+json": {
       "model_id": "8572f328cc944ce4b5860a2ac2107843",
       "version_major": 2,
       "version_minor": 0
      },
      "text/plain": [
       "episode_000030.mp4:   0%|          | 0.00/1.51M [00:00<?, ?B/s]"
      ]
     },
     "metadata": {},
     "output_type": "display_data"
    },
    {
     "data": {
      "application/vnd.jupyter.widget-view+json": {
       "model_id": "6a7e9146c72342a29f8d76f9cc47ca71",
       "version_major": 2,
       "version_minor": 0
      },
      "text/plain": [
       "episode_000031.mp4:   0%|          | 0.00/1.40M [00:00<?, ?B/s]"
      ]
     },
     "metadata": {},
     "output_type": "display_data"
    },
    {
     "data": {
      "application/vnd.jupyter.widget-view+json": {
       "model_id": "f7de29518aba425a9d74ebcab0fd51d9",
       "version_major": 2,
       "version_minor": 0
      },
      "text/plain": [
       "episode_000025.mp4:   0%|          | 0.00/1.59M [00:00<?, ?B/s]"
      ]
     },
     "metadata": {},
     "output_type": "display_data"
    },
    {
     "data": {
      "application/vnd.jupyter.widget-view+json": {
       "model_id": "e55562f053454649a12c20b7866c313c",
       "version_major": 2,
       "version_minor": 0
      },
      "text/plain": [
       "episode_000019.mp4:   0%|          | 0.00/1.38M [00:00<?, ?B/s]"
      ]
     },
     "metadata": {},
     "output_type": "display_data"
    },
    {
     "data": {
      "application/vnd.jupyter.widget-view+json": {
       "model_id": "a9343f7399884fde8b73908306e130d8",
       "version_major": 2,
       "version_minor": 0
      },
      "text/plain": [
       "episode_000042.mp4:   0%|          | 0.00/1.45M [00:00<?, ?B/s]"
      ]
     },
     "metadata": {},
     "output_type": "display_data"
    },
    {
     "data": {
      "application/vnd.jupyter.widget-view+json": {
       "model_id": "506abc63515543618190a1d6579e52a7",
       "version_major": 2,
       "version_minor": 0
      },
      "text/plain": [
       "episode_000040.mp4:   0%|          | 0.00/1.80M [00:00<?, ?B/s]"
      ]
     },
     "metadata": {},
     "output_type": "display_data"
    },
    {
     "data": {
      "application/vnd.jupyter.widget-view+json": {
       "model_id": "1d1b0ae2a43d4a17978409c42809f2ac",
       "version_major": 2,
       "version_minor": 0
      },
      "text/plain": [
       "episode_000041.mp4:   0%|          | 0.00/1.46M [00:00<?, ?B/s]"
      ]
     },
     "metadata": {},
     "output_type": "display_data"
    },
    {
     "data": {
      "application/vnd.jupyter.widget-view+json": {
       "model_id": "48d52df96d78458191d2e09e8f7d29b8",
       "version_major": 2,
       "version_minor": 0
      },
      "text/plain": [
       "episode_000043.mp4:   0%|          | 0.00/1.73M [00:00<?, ?B/s]"
      ]
     },
     "metadata": {},
     "output_type": "display_data"
    },
    {
     "data": {
      "application/vnd.jupyter.widget-view+json": {
       "model_id": "c05d88c7ab6848ba8aff140c405c0bd2",
       "version_major": 2,
       "version_minor": 0
      },
      "text/plain": [
       "episode_000050.mp4:   0%|          | 0.00/1.28M [00:00<?, ?B/s]"
      ]
     },
     "metadata": {},
     "output_type": "display_data"
    },
    {
     "data": {
      "application/vnd.jupyter.widget-view+json": {
       "model_id": "35b51d88943e4d0999aa72edb2d78a4c",
       "version_major": 2,
       "version_minor": 0
      },
      "text/plain": [
       "episode_000044.mp4:   0%|          | 0.00/1.70M [00:00<?, ?B/s]"
      ]
     },
     "metadata": {},
     "output_type": "display_data"
    },
    {
     "data": {
      "application/vnd.jupyter.widget-view+json": {
       "model_id": "d66449268a2b471e91dffc99ed3c83b9",
       "version_major": 2,
       "version_minor": 0
      },
      "text/plain": [
       "episode_000045.mp4:   0%|          | 0.00/1.59M [00:00<?, ?B/s]"
      ]
     },
     "metadata": {},
     "output_type": "display_data"
    },
    {
     "data": {
      "application/vnd.jupyter.widget-view+json": {
       "model_id": "4859f0a0e28c4c2184c6f8157ce8eb11",
       "version_major": 2,
       "version_minor": 0
      },
      "text/plain": [
       "episode_000051.mp4:   0%|          | 0.00/1.55M [00:00<?, ?B/s]"
      ]
     },
     "metadata": {},
     "output_type": "display_data"
    },
    {
     "data": {
      "application/vnd.jupyter.widget-view+json": {
       "model_id": "7a8c70175f744de085d7fa9bcc3add42",
       "version_major": 2,
       "version_minor": 0
      },
      "text/plain": [
       "episode_000047.mp4:   0%|          | 0.00/2.24M [00:00<?, ?B/s]"
      ]
     },
     "metadata": {},
     "output_type": "display_data"
    },
    {
     "data": {
      "application/vnd.jupyter.widget-view+json": {
       "model_id": "edb6d634df8b4073adddf33180efeb05",
       "version_major": 2,
       "version_minor": 0
      },
      "text/plain": [
       "episode_000046.mp4:   0%|          | 0.00/1.88M [00:00<?, ?B/s]"
      ]
     },
     "metadata": {},
     "output_type": "display_data"
    },
    {
     "data": {
      "application/vnd.jupyter.widget-view+json": {
       "model_id": "54cf9c28b84243a59a78d313bbba9137",
       "version_major": 2,
       "version_minor": 0
      },
      "text/plain": [
       "episode_000048.mp4:   0%|          | 0.00/1.24M [00:00<?, ?B/s]"
      ]
     },
     "metadata": {},
     "output_type": "display_data"
    },
    {
     "data": {
      "application/vnd.jupyter.widget-view+json": {
       "model_id": "b6df591f7df64147ae1d8b090386ec02",
       "version_major": 2,
       "version_minor": 0
      },
      "text/plain": [
       "episode_000049.mp4:   0%|          | 0.00/1.39M [00:00<?, ?B/s]"
      ]
     },
     "metadata": {},
     "output_type": "display_data"
    },
    {
     "data": {
      "application/vnd.jupyter.widget-view+json": {
       "model_id": "06a2ac6f0eec4da49ea223f6fc9c25c2",
       "version_major": 2,
       "version_minor": 0
      },
      "text/plain": [
       "episode_000000.mp4:   0%|          | 0.00/2.05M [00:00<?, ?B/s]"
      ]
     },
     "metadata": {},
     "output_type": "display_data"
    },
    {
     "data": {
      "application/vnd.jupyter.widget-view+json": {
       "model_id": "33258fbb82e34a4ba6a66d9d37dcec8a",
       "version_major": 2,
       "version_minor": 0
      },
      "text/plain": [
       "episode_000028.mp4:   0%|          | 0.00/1.52M [00:00<?, ?B/s]"
      ]
     },
     "metadata": {},
     "output_type": "display_data"
    },
    {
     "data": {
      "application/vnd.jupyter.widget-view+json": {
       "model_id": "f5e3044ecaf649b58ccf1fc8ab7efd99",
       "version_major": 2,
       "version_minor": 0
      },
      "text/plain": [
       "episode_000014.mp4:   0%|          | 0.00/1.79M [00:00<?, ?B/s]"
      ]
     },
     "metadata": {},
     "output_type": "display_data"
    },
    {
     "data": {
      "application/vnd.jupyter.widget-view+json": {
       "model_id": "632f1ca1eb0e4e0d9005fb827192b38b",
       "version_major": 2,
       "version_minor": 0
      },
      "text/plain": [
       "episode_000029.mp4:   0%|          | 0.00/1.63M [00:00<?, ?B/s]"
      ]
     },
     "metadata": {},
     "output_type": "display_data"
    },
    {
     "data": {
      "application/vnd.jupyter.widget-view+json": {
       "model_id": "19301e52cccc476b9e2457ae46217fb7",
       "version_major": 2,
       "version_minor": 0
      },
      "text/plain": [
       "episode_000015.mp4:   0%|          | 0.00/1.93M [00:00<?, ?B/s]"
      ]
     },
     "metadata": {},
     "output_type": "display_data"
    },
    {
     "data": {
      "application/vnd.jupyter.widget-view+json": {
       "model_id": "abf66c9d620843fcaaa81a5a1e9fc423",
       "version_major": 2,
       "version_minor": 0
      },
      "text/plain": [
       "episode_000001.mp4:   0%|          | 0.00/1.74M [00:00<?, ?B/s]"
      ]
     },
     "metadata": {},
     "output_type": "display_data"
    },
    {
     "data": {
      "application/vnd.jupyter.widget-view+json": {
       "model_id": "694631f8b74e41aa84fbab7c63d8fcf6",
       "version_major": 2,
       "version_minor": 0
      },
      "text/plain": [
       "episode_000017.mp4:   0%|          | 0.00/1.81M [00:00<?, ?B/s]"
      ]
     },
     "metadata": {},
     "output_type": "display_data"
    },
    {
     "data": {
      "application/vnd.jupyter.widget-view+json": {
       "model_id": "ba4d78d2cf5b4967aa0240cb128b83c2",
       "version_major": 2,
       "version_minor": 0
      },
      "text/plain": [
       "episode_000003.mp4:   0%|          | 0.00/1.88M [00:00<?, ?B/s]"
      ]
     },
     "metadata": {},
     "output_type": "display_data"
    },
    {
     "data": {
      "application/vnd.jupyter.widget-view+json": {
       "model_id": "b4cc8e98d94c4d42b44539e9855e6681",
       "version_major": 2,
       "version_minor": 0
      },
      "text/plain": [
       "episode_000002.mp4:   0%|          | 0.00/1.75M [00:00<?, ?B/s]"
      ]
     },
     "metadata": {},
     "output_type": "display_data"
    },
    {
     "data": {
      "application/vnd.jupyter.widget-view+json": {
       "model_id": "1e941615017e4432af11785cb51ee637",
       "version_major": 2,
       "version_minor": 0
      },
      "text/plain": [
       "episode_000016.mp4:   0%|          | 0.00/1.79M [00:00<?, ?B/s]"
      ]
     },
     "metadata": {},
     "output_type": "display_data"
    },
    {
     "data": {
      "application/vnd.jupyter.widget-view+json": {
       "model_id": "bbcdf1cbad4b4d54aca186935ff411a0",
       "version_major": 2,
       "version_minor": 0
      },
      "text/plain": [
       "episode_000012.mp4:   0%|          | 0.00/1.84M [00:00<?, ?B/s]"
      ]
     },
     "metadata": {},
     "output_type": "display_data"
    },
    {
     "data": {
      "application/vnd.jupyter.widget-view+json": {
       "model_id": "3ce9f9e7bdb74f19bac4b844af075323",
       "version_major": 2,
       "version_minor": 0
      },
      "text/plain": [
       "episode_000006.mp4:   0%|          | 0.00/1.54M [00:00<?, ?B/s]"
      ]
     },
     "metadata": {},
     "output_type": "display_data"
    },
    {
     "data": {
      "application/vnd.jupyter.widget-view+json": {
       "model_id": "1ccf165411c84a84b4b047205c5c074f",
       "version_major": 2,
       "version_minor": 0
      },
      "text/plain": [
       "episode_000007.mp4:   0%|          | 0.00/1.53M [00:00<?, ?B/s]"
      ]
     },
     "metadata": {},
     "output_type": "display_data"
    },
    {
     "data": {
      "application/vnd.jupyter.widget-view+json": {
       "model_id": "befb45d6085942f5a9aff36ae7349425",
       "version_major": 2,
       "version_minor": 0
      },
      "text/plain": [
       "episode_000013.mp4:   0%|          | 0.00/1.60M [00:00<?, ?B/s]"
      ]
     },
     "metadata": {},
     "output_type": "display_data"
    },
    {
     "data": {
      "application/vnd.jupyter.widget-view+json": {
       "model_id": "71a0e142cc5a40d2a00ee2cd3336b4a7",
       "version_major": 2,
       "version_minor": 0
      },
      "text/plain": [
       "episode_000005.mp4:   0%|          | 0.00/1.95M [00:00<?, ?B/s]"
      ]
     },
     "metadata": {},
     "output_type": "display_data"
    },
    {
     "data": {
      "application/vnd.jupyter.widget-view+json": {
       "model_id": "bdc087989c404832bb3bf94fd36cc1c5",
       "version_major": 2,
       "version_minor": 0
      },
      "text/plain": [
       "episode_000039.mp4:   0%|          | 0.00/1.82M [00:00<?, ?B/s]"
      ]
     },
     "metadata": {},
     "output_type": "display_data"
    },
    {
     "data": {
      "application/vnd.jupyter.widget-view+json": {
       "model_id": "0f201f74f16c49d5a826b97e96609101",
       "version_major": 2,
       "version_minor": 0
      },
      "text/plain": [
       "episode_000011.mp4:   0%|          | 0.00/1.59M [00:00<?, ?B/s]"
      ]
     },
     "metadata": {},
     "output_type": "display_data"
    },
    {
     "data": {
      "application/vnd.jupyter.widget-view+json": {
       "model_id": "6cdbe72197864b39ac33ef9001661029",
       "version_major": 2,
       "version_minor": 0
      },
      "text/plain": [
       "episode_000010.mp4:   0%|          | 0.00/1.59M [00:00<?, ?B/s]"
      ]
     },
     "metadata": {},
     "output_type": "display_data"
    },
    {
     "data": {
      "application/vnd.jupyter.widget-view+json": {
       "model_id": "9c1d6c32129943599f24d132433019a6",
       "version_major": 2,
       "version_minor": 0
      },
      "text/plain": [
       "episode_000038.mp4:   0%|          | 0.00/1.39M [00:00<?, ?B/s]"
      ]
     },
     "metadata": {},
     "output_type": "display_data"
    },
    {
     "data": {
      "application/vnd.jupyter.widget-view+json": {
       "model_id": "a6053730ae674d0996ef258323641c97",
       "version_major": 2,
       "version_minor": 0
      },
      "text/plain": [
       "episode_000005.parquet:   0%|          | 0.00/240k [00:00<?, ?B/s]"
      ]
     },
     "metadata": {},
     "output_type": "display_data"
    },
    {
     "data": {
      "application/vnd.jupyter.widget-view+json": {
       "model_id": "7c01645a0f614fb5aa8650c4d9c40bea",
       "version_major": 2,
       "version_minor": 0
      },
      "text/plain": [
       "episode_000004.mp4:   0%|          | 0.00/1.62M [00:00<?, ?B/s]"
      ]
     },
     "metadata": {},
     "output_type": "display_data"
    },
    {
     "data": {
      "application/vnd.jupyter.widget-view+json": {
       "model_id": "0f036268ffac4b888e91a69a3c9cccca",
       "version_major": 2,
       "version_minor": 0
      },
      "text/plain": [
       "episode_000015.parquet:   0%|          | 0.00/220k [00:00<?, ?B/s]"
      ]
     },
     "metadata": {},
     "output_type": "display_data"
    },
    {
     "data": {
      "application/vnd.jupyter.widget-view+json": {
       "model_id": "f54f5d4140604c0ba288909734e6dd7c",
       "version_major": 2,
       "version_minor": 0
      },
      "text/plain": [
       "episode_000048.parquet:   0%|          | 0.00/138k [00:00<?, ?B/s]"
      ]
     },
     "metadata": {},
     "output_type": "display_data"
    },
    {
     "data": {
      "application/vnd.jupyter.widget-view+json": {
       "model_id": "f0f236c69bd849c79709cf2f91492ef2",
       "version_major": 2,
       "version_minor": 0
      },
      "text/plain": [
       "episode_000023.parquet:   0%|          | 0.00/186k [00:00<?, ?B/s]"
      ]
     },
     "metadata": {},
     "output_type": "display_data"
    },
    {
     "data": {
      "application/vnd.jupyter.widget-view+json": {
       "model_id": "b7f11b0a47324abe91dc3808a6ccc9da",
       "version_major": 2,
       "version_minor": 0
      },
      "text/plain": [
       "episode_000033.parquet:   0%|          | 0.00/172k [00:00<?, ?B/s]"
      ]
     },
     "metadata": {},
     "output_type": "display_data"
    },
    {
     "data": {
      "application/vnd.jupyter.widget-view+json": {
       "model_id": "4003fc339a6d4e89b0c5e0e30f549a0b",
       "version_major": 2,
       "version_minor": 0
      },
      "text/plain": [
       "episode_000041.parquet:   0%|          | 0.00/163k [00:00<?, ?B/s]"
      ]
     },
     "metadata": {},
     "output_type": "display_data"
    },
    {
     "data": {
      "application/vnd.jupyter.widget-view+json": {
       "model_id": "dcdba305ee8b470482fb462d872dba25",
       "version_major": 2,
       "version_minor": 0
      },
      "text/plain": [
       "episode_000051.parquet:   0%|          | 0.00/166k [00:00<?, ?B/s]"
      ]
     },
     "metadata": {},
     "output_type": "display_data"
    },
    {
     "data": {
      "application/vnd.jupyter.widget-view+json": {
       "model_id": "f9f09d7aaacf48fca79c2d8f011a75f4",
       "version_major": 2,
       "version_minor": 0
      },
      "text/plain": [
       "episode_000032.parquet:   0%|          | 0.00/160k [00:00<?, ?B/s]"
      ]
     },
     "metadata": {},
     "output_type": "display_data"
    },
    {
     "data": {
      "application/vnd.jupyter.widget-view+json": {
       "model_id": "742741c11ccc4432a2a5fd7b70f05750",
       "version_major": 2,
       "version_minor": 0
      },
      "text/plain": [
       "episode_000022.parquet:   0%|          | 0.00/200k [00:00<?, ?B/s]"
      ]
     },
     "metadata": {},
     "output_type": "display_data"
    },
    {
     "data": {
      "application/vnd.jupyter.widget-view+json": {
       "model_id": "070f57f6d8d943eea2df7764ef7ca29e",
       "version_major": 2,
       "version_minor": 0
      },
      "text/plain": [
       "episode_000050.parquet:   0%|          | 0.00/137k [00:00<?, ?B/s]"
      ]
     },
     "metadata": {},
     "output_type": "display_data"
    },
    {
     "data": {
      "application/vnd.jupyter.widget-view+json": {
       "model_id": "31aa72561a914bb195b9ffe34601df1d",
       "version_major": 2,
       "version_minor": 0
      },
      "text/plain": [
       "episode_000040.parquet:   0%|          | 0.00/192k [00:00<?, ?B/s]"
      ]
     },
     "metadata": {},
     "output_type": "display_data"
    },
    {
     "data": {
      "application/vnd.jupyter.widget-view+json": {
       "model_id": "0f1d5722fe8446849543215130f372ce",
       "version_major": 2,
       "version_minor": 0
      },
      "text/plain": [
       "episode_000004.parquet:   0%|          | 0.00/203k [00:00<?, ?B/s]"
      ]
     },
     "metadata": {},
     "output_type": "display_data"
    },
    {
     "data": {
      "application/vnd.jupyter.widget-view+json": {
       "model_id": "3f8ecf005c3d454093a73f972fa689ad",
       "version_major": 2,
       "version_minor": 0
      },
      "text/plain": [
       "episode_000014.parquet:   0%|          | 0.00/213k [00:00<?, ?B/s]"
      ]
     },
     "metadata": {},
     "output_type": "display_data"
    },
    {
     "data": {
      "application/vnd.jupyter.widget-view+json": {
       "model_id": "e1541268e6234d01b0e44250d9f7825d",
       "version_major": 2,
       "version_minor": 0
      },
      "text/plain": [
       "episode_000049.parquet:   0%|          | 0.00/153k [00:00<?, ?B/s]"
      ]
     },
     "metadata": {},
     "output_type": "display_data"
    },
    {
     "data": {
      "application/vnd.jupyter.widget-view+json": {
       "model_id": "f1bb9dbe94644bbc9cd785bcbe8c5429",
       "version_major": 2,
       "version_minor": 0
      },
      "text/plain": [
       "episode_000020.parquet:   0%|          | 0.00/173k [00:00<?, ?B/s]"
      ]
     },
     "metadata": {},
     "output_type": "display_data"
    },
    {
     "data": {
      "application/vnd.jupyter.widget-view+json": {
       "model_id": "ebd7eb292adc4f318e203252c7b95f3b",
       "version_major": 2,
       "version_minor": 0
      },
      "text/plain": [
       "episode_000006.parquet:   0%|          | 0.00/193k [00:00<?, ?B/s]"
      ]
     },
     "metadata": {},
     "output_type": "display_data"
    },
    {
     "data": {
      "application/vnd.jupyter.widget-view+json": {
       "model_id": "f203dac2508a452d964ff3c44ab29a1b",
       "version_major": 2,
       "version_minor": 0
      },
      "text/plain": [
       "episode_000016.parquet:   0%|          | 0.00/223k [00:00<?, ?B/s]"
      ]
     },
     "metadata": {},
     "output_type": "display_data"
    },
    {
     "data": {
      "application/vnd.jupyter.widget-view+json": {
       "model_id": "135c130910c24d3e8526f53218511cea",
       "version_major": 2,
       "version_minor": 0
      },
      "text/plain": [
       "episode_000039.parquet:   0%|          | 0.00/193k [00:00<?, ?B/s]"
      ]
     },
     "metadata": {},
     "output_type": "display_data"
    },
    {
     "data": {
      "application/vnd.jupyter.widget-view+json": {
       "model_id": "9997511083dd40bfa796634a4de60340",
       "version_major": 2,
       "version_minor": 0
      },
      "text/plain": [
       "episode_000042.parquet:   0%|          | 0.00/161k [00:00<?, ?B/s]"
      ]
     },
     "metadata": {},
     "output_type": "display_data"
    },
    {
     "data": {
      "application/vnd.jupyter.widget-view+json": {
       "model_id": "84d49297298347299bb4be061b5b82fd",
       "version_major": 2,
       "version_minor": 0
      },
      "text/plain": [
       "episode_000030.parquet:   0%|          | 0.00/176k [00:00<?, ?B/s]"
      ]
     },
     "metadata": {},
     "output_type": "display_data"
    },
    {
     "data": {
      "application/vnd.jupyter.widget-view+json": {
       "model_id": "cb40d95ad4814f0b9dfc846690739d87",
       "version_major": 2,
       "version_minor": 0
      },
      "text/plain": [
       "episode_000029.parquet:   0%|          | 0.00/177k [00:00<?, ?B/s]"
      ]
     },
     "metadata": {},
     "output_type": "display_data"
    },
    {
     "data": {
      "application/vnd.jupyter.widget-view+json": {
       "model_id": "3c29fe165c5c4cfcb038525281bc899b",
       "version_major": 2,
       "version_minor": 0
      },
      "text/plain": [
       "episode_000017.parquet:   0%|          | 0.00/228k [00:00<?, ?B/s]"
      ]
     },
     "metadata": {},
     "output_type": "display_data"
    },
    {
     "data": {
      "application/vnd.jupyter.widget-view+json": {
       "model_id": "b3c5ac91cd154cf2abb3b70750835315",
       "version_major": 2,
       "version_minor": 0
      },
      "text/plain": [
       "episode_000028.parquet:   0%|          | 0.00/178k [00:00<?, ?B/s]"
      ]
     },
     "metadata": {},
     "output_type": "display_data"
    },
    {
     "data": {
      "application/vnd.jupyter.widget-view+json": {
       "model_id": "7759e3693fa343a1bb9e2eb8251d6dd7",
       "version_major": 2,
       "version_minor": 0
      },
      "text/plain": [
       "episode_000007.parquet:   0%|          | 0.00/183k [00:00<?, ?B/s]"
      ]
     },
     "metadata": {},
     "output_type": "display_data"
    },
    {
     "data": {
      "application/vnd.jupyter.widget-view+json": {
       "model_id": "f1aeb286a5824371914a68eb6630f6ca",
       "version_major": 2,
       "version_minor": 0
      },
      "text/plain": [
       "episode_000038.parquet:   0%|          | 0.00/150k [00:00<?, ?B/s]"
      ]
     },
     "metadata": {},
     "output_type": "display_data"
    },
    {
     "data": {
      "application/vnd.jupyter.widget-view+json": {
       "model_id": "6a705337c92e45acb82eaddbcbb59c59",
       "version_major": 2,
       "version_minor": 0
      },
      "text/plain": [
       "episode_000043.parquet:   0%|          | 0.00/173k [00:00<?, ?B/s]"
      ]
     },
     "metadata": {},
     "output_type": "display_data"
    },
    {
     "data": {
      "application/vnd.jupyter.widget-view+json": {
       "model_id": "cb7e65745a13492d9f8c14201b8f58bb",
       "version_major": 2,
       "version_minor": 0
      },
      "text/plain": [
       "episode_000031.parquet:   0%|          | 0.00/153k [00:00<?, ?B/s]"
      ]
     },
     "metadata": {},
     "output_type": "display_data"
    },
    {
     "data": {
      "application/vnd.jupyter.widget-view+json": {
       "model_id": "a8c395923588436bad16e2e2580dff29",
       "version_major": 2,
       "version_minor": 0
      },
      "text/plain": [
       "episode_000021.parquet:   0%|          | 0.00/184k [00:00<?, ?B/s]"
      ]
     },
     "metadata": {},
     "output_type": "display_data"
    },
    {
     "data": {
      "application/vnd.jupyter.widget-view+json": {
       "model_id": "0c604eac739243c1841cae9594953a30",
       "version_major": 2,
       "version_minor": 0
      },
      "text/plain": [
       "episode_000046.parquet:   0%|          | 0.00/185k [00:00<?, ?B/s]"
      ]
     },
     "metadata": {},
     "output_type": "display_data"
    },
    {
     "data": {
      "application/vnd.jupyter.widget-view+json": {
       "model_id": "1cd605126f2142678a6c3d653c4a1651",
       "version_major": 2,
       "version_minor": 0
      },
      "text/plain": [
       "episode_000024.parquet:   0%|          | 0.00/197k [00:00<?, ?B/s]"
      ]
     },
     "metadata": {},
     "output_type": "display_data"
    },
    {
     "data": {
      "application/vnd.jupyter.widget-view+json": {
       "model_id": "12c253f3c1114d0a9d95c67fd59e106e",
       "version_major": 2,
       "version_minor": 0
      },
      "text/plain": [
       "episode_000034.parquet:   0%|          | 0.00/161k [00:00<?, ?B/s]"
      ]
     },
     "metadata": {},
     "output_type": "display_data"
    },
    {
     "data": {
      "application/vnd.jupyter.widget-view+json": {
       "model_id": "7c3974acdb6b44a98ef3bce28da380ac",
       "version_major": 2,
       "version_minor": 0
      },
      "text/plain": [
       "episode_000037.parquet:   0%|          | 0.00/152k [00:00<?, ?B/s]"
      ]
     },
     "metadata": {},
     "output_type": "display_data"
    },
    {
     "data": {
      "application/vnd.jupyter.widget-view+json": {
       "model_id": "893f14bbae624a22ad800770b3c6fc57",
       "version_major": 2,
       "version_minor": 0
      },
      "text/plain": [
       "episode_000045.parquet:   0%|          | 0.00/167k [00:00<?, ?B/s]"
      ]
     },
     "metadata": {},
     "output_type": "display_data"
    },
    {
     "data": {
      "application/vnd.jupyter.widget-view+json": {
       "model_id": "fdaa20ac76064e9e8b8ef6966e9594b5",
       "version_major": 2,
       "version_minor": 0
      },
      "text/plain": [
       "episode_000018.parquet:   0%|          | 0.00/181k [00:00<?, ?B/s]"
      ]
     },
     "metadata": {},
     "output_type": "display_data"
    },
    {
     "data": {
      "application/vnd.jupyter.widget-view+json": {
       "model_id": "d6e6166736bf4152adb6518f1df9b711",
       "version_major": 2,
       "version_minor": 0
      },
      "text/plain": [
       "episode_000008.parquet:   0%|          | 0.00/201k [00:00<?, ?B/s]"
      ]
     },
     "metadata": {},
     "output_type": "display_data"
    },
    {
     "data": {
      "application/vnd.jupyter.widget-view+json": {
       "model_id": "a85e07816acb445abf46c368851e0c2f",
       "version_major": 2,
       "version_minor": 0
      },
      "text/plain": [
       "episode_000036.parquet:   0%|          | 0.00/155k [00:00<?, ?B/s]"
      ]
     },
     "metadata": {},
     "output_type": "display_data"
    },
    {
     "data": {
      "application/vnd.jupyter.widget-view+json": {
       "model_id": "10f96f9e4b374a6f80ce3c539d78f56a",
       "version_major": 2,
       "version_minor": 0
      },
      "text/plain": [
       "episode_000026.parquet:   0%|          | 0.00/163k [00:00<?, ?B/s]"
      ]
     },
     "metadata": {},
     "output_type": "display_data"
    },
    {
     "data": {
      "application/vnd.jupyter.widget-view+json": {
       "model_id": "a5f0f140b1d945dc8641ebd0ca2e6375",
       "version_major": 2,
       "version_minor": 0
      },
      "text/plain": [
       "episode_000044.parquet:   0%|          | 0.00/178k [00:00<?, ?B/s]"
      ]
     },
     "metadata": {},
     "output_type": "display_data"
    },
    {
     "data": {
      "application/vnd.jupyter.widget-view+json": {
       "model_id": "1a60741a03164dcebfece3b2e83f2a4b",
       "version_major": 2,
       "version_minor": 0
      },
      "text/plain": [
       "episode_000019.parquet:   0%|          | 0.00/168k [00:00<?, ?B/s]"
      ]
     },
     "metadata": {},
     "output_type": "display_data"
    },
    {
     "data": {
      "application/vnd.jupyter.widget-view+json": {
       "model_id": "71712d8f95ec4246a942b6f0e546e236",
       "version_major": 2,
       "version_minor": 0
      },
      "text/plain": [
       "episode_000010.parquet:   0%|          | 0.00/193k [00:00<?, ?B/s]"
      ]
     },
     "metadata": {},
     "output_type": "display_data"
    },
    {
     "data": {
      "application/vnd.jupyter.widget-view+json": {
       "model_id": "9e6d2481999f425e8b7da68e4077c111",
       "version_major": 2,
       "version_minor": 0
      },
      "text/plain": [
       "episode_000002.parquet:   0%|          | 0.00/216k [00:00<?, ?B/s]"
      ]
     },
     "metadata": {},
     "output_type": "display_data"
    },
    {
     "data": {
      "application/vnd.jupyter.widget-view+json": {
       "model_id": "e35ff8d8fa194ff19a8242fab9a8afae",
       "version_major": 2,
       "version_minor": 0
      },
      "text/plain": [
       "episode_000009.parquet:   0%|          | 0.00/213k [00:00<?, ?B/s]"
      ]
     },
     "metadata": {},
     "output_type": "display_data"
    },
    {
     "data": {
      "application/vnd.jupyter.widget-view+json": {
       "model_id": "97067f8e0e964b35953b9ef56c2557e9",
       "version_major": 2,
       "version_minor": 0
      },
      "text/plain": [
       "episode_000012.parquet:   0%|          | 0.00/229k [00:00<?, ?B/s]"
      ]
     },
     "metadata": {},
     "output_type": "display_data"
    },
    {
     "data": {
      "application/vnd.jupyter.widget-view+json": {
       "model_id": "352a6f44000f4809bc3859b01f7d5517",
       "version_major": 2,
       "version_minor": 0
      },
      "text/plain": [
       "episode_000013.parquet:   0%|          | 0.00/195k [00:00<?, ?B/s]"
      ]
     },
     "metadata": {},
     "output_type": "display_data"
    },
    {
     "data": {
      "application/vnd.jupyter.widget-view+json": {
       "model_id": "bfef160f746842b080436f77c32a34a8",
       "version_major": 2,
       "version_minor": 0
      },
      "text/plain": [
       "episode_000047.parquet:   0%|          | 0.00/218k [00:00<?, ?B/s]"
      ]
     },
     "metadata": {},
     "output_type": "display_data"
    },
    {
     "data": {
      "application/vnd.jupyter.widget-view+json": {
       "model_id": "d6bed9a6a6c8412ea95ea6fc4574bf4d",
       "version_major": 2,
       "version_minor": 0
      },
      "text/plain": [
       "episode_000035.parquet:   0%|          | 0.00/181k [00:00<?, ?B/s]"
      ]
     },
     "metadata": {},
     "output_type": "display_data"
    },
    {
     "data": {
      "application/vnd.jupyter.widget-view+json": {
       "model_id": "0208fbfe3f7841e5851f614c34245255",
       "version_major": 2,
       "version_minor": 0
      },
      "text/plain": [
       "episode_000025.parquet:   0%|          | 0.00/188k [00:00<?, ?B/s]"
      ]
     },
     "metadata": {},
     "output_type": "display_data"
    },
    {
     "data": {
      "application/vnd.jupyter.widget-view+json": {
       "model_id": "f4c344468ccb44838162e0429a7df03d",
       "version_major": 2,
       "version_minor": 0
      },
      "text/plain": [
       "episode_000001.parquet:   0%|          | 0.00/214k [00:00<?, ?B/s]"
      ]
     },
     "metadata": {},
     "output_type": "display_data"
    },
    {
     "data": {
      "application/vnd.jupyter.widget-view+json": {
       "model_id": "67edbcbd87964e22a4008f502f905da2",
       "version_major": 2,
       "version_minor": 0
      },
      "text/plain": [
       "episode_000011.parquet:   0%|          | 0.00/190k [00:00<?, ?B/s]"
      ]
     },
     "metadata": {},
     "output_type": "display_data"
    },
    {
     "data": {
      "application/vnd.jupyter.widget-view+json": {
       "model_id": "ec5ecea4a8964777807dcaf64a10385c",
       "version_major": 2,
       "version_minor": 0
      },
      "text/plain": [
       "episode_000003.parquet:   0%|          | 0.00/234k [00:00<?, ?B/s]"
      ]
     },
     "metadata": {},
     "output_type": "display_data"
    },
    {
     "data": {
      "application/vnd.jupyter.widget-view+json": {
       "model_id": "940e299a29454066bf68fdac98469390",
       "version_major": 2,
       "version_minor": 0
      },
      "text/plain": [
       "episode_000027.parquet:   0%|          | 0.00/197k [00:00<?, ?B/s]"
      ]
     },
     "metadata": {},
     "output_type": "display_data"
    },
    {
     "data": {
      "application/vnd.jupyter.widget-view+json": {
       "model_id": "9e80ee3524db4ac8bd155dfa8f0f7cca",
       "version_major": 2,
       "version_minor": 0
      },
      "text/plain": [
       "episode_000000.parquet:   0%|          | 0.00/250k [00:00<?, ?B/s]"
      ]
     },
     "metadata": {},
     "output_type": "display_data"
    }
   ],
   "source": [
    "from pathlib import Path\n",
    "from lerobot.common.datasets.lerobot_dataset import LeRobotDataset\n",
    "\n",
    "# Replace with your values\n",
    "repo_id = \"chengkunli/green_cup_pour\"  # Your Hugging Face repo ID\n",
    "local_root = Path(\"/Users/chengkunli/Projects/lerobot/hackathon/green_cup_pour\")  # Path to your local dataset\n",
    "\n",
    "# Load the dataset\n",
    "dataset = LeRobotDataset(repo_id, root=local_root)\n",
    "\n",
    "# Push to HF Hub\n",
    "dataset.push_to_hub(\n",
    "    tags=[\"LeRobot\", \"test\"],  # Optional tags\n",
    "    private=False,  # Set to True for private repo\n",
    "    upload_large_folder=True,  # Set to True for large datasets\n",
    ")"
   ]
  },
  {
   "cell_type": "markdown",
   "id": "0aab0722",
   "metadata": {},
   "source": [
    "## Red"
   ]
  },
  {
   "cell_type": "markdown",
   "id": "b65a0442",
   "metadata": {},
   "source": [
    "## Red"
   ]
  },
  {
   "cell_type": "code",
   "execution_count": null,
   "id": "0fcc23af",
   "metadata": {},
   "outputs": [],
   "source": [
    "import numpy as np\n",
    "from lerobot.common.datasets.lerobot_dataset import LeRobotDataset\n",
    "import torch\n",
    "import scipy.spatial.transform as spt\n",
    "from tqdm.auto import tqdm\n",
    "import os\n",
    "import zarr\n",
    "\n",
    "# Red cup pour dataset creation script\n",
    "\n",
    "# # Define list of zarr files to process - modify this according to your file locations\n",
    "zarr_files = [\n",
    "    \"/Volumes/Chengkun/hackathondatasets/kitchen_data_23_53_red/kitchen_data_23_53_red_2025_05_10_00_17_20.zarr\",\n",
    "    \"/Volumes/Chengkun/hackathondatasets/kitchen_data_23_53_red/kitchen_data_23_53_red_2025_05_10_00_19_25.zarr\",\n",
    "    \"/Volumes/Chengkun/hackathondatasets/kitchen_data_23_53_red/kitchen_data_23_53_red_2025_05_10_00_23_38.zarr\",\n",
    "    \"/Volumes/Chengkun/hackathondatasets/kitchen_data_23_53_red/kitchen_data_23_53_red_2025_05_10_00_25_42.zarr\",\n",
    "    \"/Volumes/Chengkun/hackathondatasets/kitchen_data_23_53_red/kitchen_data_23_53_red_2025_05_10_00_27_04.zarr\",\n",
    "    \"/Volumes/Chengkun/hackathondatasets/kitchen_data_23_53_red/kitchen_data_23_53_red_2025_05_10_00_28_50.zarr\",\n",
    "    \"/Volumes/Chengkun/hackathondatasets/kitchen_data_23_53_red/kitchen_data_23_53_red_2025_05_10_00_30_07.zarr\",\n",
    "    \"/Volumes/Chengkun/hackathondatasets/kitchen_data_23_53_red/kitchen_data_23_53_red_2025_05_10_00_31_25.zarr\",\n",
    "    \"/Volumes/Chengkun/hackathondatasets/kitchen_data_23_53_red/kitchen_data_23_53_red_2025_05_10_00_32_29.zarr\",\n",
    "    \"/Volumes/Chengkun/hackathondatasets/kitchen_data_23_53_red/kitchen_data_23_53_red_2025_05_10_00_33_27.zarr\",\n",
    "    \"/Volumes/Chengkun/hackathondatasets/kitchen_data_23_53_red/kitchen_data_23_53_red_2025_05_10_00_34_55.zarr\",\n",
    "    \"/Volumes/Chengkun/hackathondatasets/kitchen_data_23_53_red/kitchen_data_23_53_red_2025_05_10_00_36_23.zarr\",\n",
    "    \"/Volumes/Chengkun/hackathondatasets/kitchen_data_23_53_red/kitchen_data_23_53_red_2025_05_10_00_37_21.zarr\",\n",
    "    \"/Volumes/Chengkun/hackathondatasets/kitchen_data_23_53_red/kitchen_data_23_53_red_2025_05_10_00_38_24.zarr\",\n",
    "    \"/Volumes/Chengkun/hackathondatasets/kitchen_data_23_53_red/kitchen_data_23_53_red_2025_05_10_00_39_29.zarr\",\n",
    "    \"/Volumes/Chengkun/hackathondatasets/kitchen_data_23_53_red/kitchen_data_23_53_red_2025_05_10_00_41_00.zarr\",\n",
    "    \"/Volumes/Chengkun/hackathondatasets/kitchen_data_23_53_red/kitchen_data_23_53_red_2025_05_10_00_42_09.zarr\",\n",
    "    \"/Volumes/Chengkun/hackathondatasets/kitchen_data_23_53_red/kitchen_data_23_53_red_2025_05_10_00_43_22.zarr\",\n",
    "    \"/Volumes/Chengkun/hackathondatasets/kitchen_data_23_53_red/kitchen_data_23_53_red_2025_05_10_00_44_16.zarr\",\n",
    "    \"/Volumes/Chengkun/hackathondatasets/kitchen_data_23_53_red/kitchen_data_23_53_red_2025_05_10_00_45_22.zarr\",\n",
    "    \"/Volumes/Chengkun/hackathondatasets/kitchen_data_23_53_red/kitchen_data_23_53_red_2025_05_10_00_46_27.zarr\",\n",
    "    \"/Volumes/Chengkun/hackathondatasets/kitchen_data_23_53_red/kitchen_data_23_53_red_2025_05_10_00_47_21.zarr\",\n",
    "    \"/Volumes/Chengkun/hackathondatasets/kitchen_data_23_53_red/kitchen_data_23_53_red_2025_05_10_00_48_21.zarr\",\n",
    "    \"/Volumes/Chengkun/hackathondatasets/kitchen_data_23_53_red/kitchen_data_23_53_red_2025_05_10_00_49_22.zarr\",\n",
    "    \"/Volumes/Chengkun/hackathondatasets/kitchen_data_23_53_red/kitchen_data_23_53_red_2025_05_10_00_50_19.zarr\",\n",
    "    \"/Volumes/Chengkun/hackathondatasets/kitchen_data_23_53_red/kitchen_data_23_53_red_2025_05_10_00_53_35.zarr\",\n",
    "    \"/Volumes/Chengkun/hackathondatasets/kitchen_data_23_53_red/kitchen_data_23_53_red_2025_05_10_00_55_18.zarr\",\n",
    "    \"/Volumes/Chengkun/hackathondatasets/kitchen_data_23_53_red/kitchen_data_23_53_red_2025_05_10_00_56_25.zarr\",\n",
    "    \n",
    "]\n",
    "\n",
    "# Task descriptions for each zarr file - expand this list to match your zarr files\n",
    "task_descriptions = [\"pour the red cup into the bowl\"] * len(zarr_files)  # Example task description, modify as needed\n",
    "\n",
    "\n",
    "\n",
    "# Define our dataset features with proper shapes - COMBINED hand joints (16) + pose (9) = 25 values\n",
    "features = {\n",
    "    \"action\": {\n",
    "        \"dtype\": \"float32\", \n",
    "        \"shape\": (25,),  # Combined: hand_joints (16) + pose (9)\n",
    "        \"names\": [f\"joint_{i}\" for i in range(16)] + [\"rot_1\", \"rot_2\", \"rot_3\", \"rot_4\", \"rot_5\", \"rot_6\", \"trans_x\", \"trans_y\", \"trans_z\"]\n",
    "    },\n",
    "    \"observation.state\": {\n",
    "        \"dtype\": \"float32\", \n",
    "        \"shape\": (25,),  # Combined: hand_joints (16) + pose (9)\n",
    "        \"names\": [f\"joint_{i}\" for i in range(16)] + [\"rot_1\", \"rot_2\", \"rot_3\", \"rot_4\", \"rot_5\", \"rot_6\", \"trans_x\", \"trans_y\", \"trans_z\"]\n",
    "    },\n",
    "    \"task_index\": {\n",
    "        \"dtype\": \"int64\", \n",
    "        \"shape\": (1,), \n",
    "        \"names\": None\n",
    "    },\n",
    "    \"observation.images.main\": {\n",
    "        \"dtype\": \"video\", \n",
    "        \"shape\": (224, 224, 3),\n",
    "        \"names\": [\"height\", \"width\", \"channel\"],\n",
    "        \"info\": {\n",
    "            \"video.fps\": 20, \n",
    "            \"video.codec\": \"mp4v\", \n",
    "            \"video.pix_fmt\": \"yuv420p\", \n",
    "            \"video.is_depth_map\": False,\n",
    "            \"has_audio\": False\n",
    "        }\n",
    "    },\n",
    "    \"observation.images.secondary_0\": {\n",
    "        \"dtype\": \"video\", \n",
    "        \"shape\": (224, 224, 3),\n",
    "        \"names\": [\"height\", \"width\", \"channel\"],\n",
    "        \"info\": {\n",
    "            \"video.fps\": 20, \n",
    "            \"video.codec\": \"mp4v\", \n",
    "            \"video.pix_fmt\": \"yuv420p\", \n",
    "            \"video.is_depth_map\": False,\n",
    "            \"has_audio\": False\n",
    "        }\n",
    "    },\n",
    "    \"observation.images.secondary_1\": {\n",
    "        \"dtype\": \"video\", \n",
    "        \"shape\": (224, 224, 3),\n",
    "        \"names\": [\"height\", \"width\", \"channel\"],\n",
    "        \"info\": {\n",
    "            \"video.fps\": 20, \n",
    "            \"video.codec\": \"mp4v\", \n",
    "            \"video.pix_fmt\": \"yuv420p\", \n",
    "            \"video.is_depth_map\": False,\n",
    "            \"has_audio\": False\n",
    "        }\n",
    "    }\n",
    "}\n",
    "\n",
    "# Create a fresh dataset\n",
    "dataset = LeRobotDataset.create(\n",
    "    repo_id=\"chengkunli/green_cup_pour\",\n",
    "    fps=20,\n",
    "    root='/Users/chengkunli/Projects/lerobot/hackathon/green_cup_pour',\n",
    "    features=features,\n",
    "    use_videos=True,\n",
    ")\n",
    "\n",
    "# Function to process 4x4 pose matrix to rotation+translation format (6+3=9)\n",
    "def process_pose_matrix(pose):\n",
    "    # Extract rotation matrix and convert to rotation vector (first 2 row = 6 values)\n",
    "    rotation = pose[:2, :3].flatten()\n",
    "    # Extract translation vector (last column, first 3 rows)\n",
    "    translation = pose[:3, 3]\n",
    "    # Concatenate to get (6+3=9) values\n",
    "    return np.concatenate([rotation, translation])\n",
    "\n",
    "# Find closest pose for each timestamp\n",
    "def find_closest_index(target_timestamp, all_timestamps):\n",
    "    idx = np.argmin(np.abs(all_timestamps - target_timestamp))\n",
    "    return idx\n",
    "\n",
    "# Process each zarr file as a separate episode\n",
    "for episode_idx, zarr_path in enumerate(zarr_files):\n",
    "    print(f\"\\nProcessing episode {episode_idx+1}/{len(zarr_files)}: {os.path.basename(zarr_path)}\")\n",
    "    \n",
    "    # Clear any previous episode data\n",
    "    dataset.clear_episode_buffer()\n",
    "    \n",
    "    # Load zarr file\n",
    "    z = zarr.open(zarr_path, mode='r')\n",
    "    \n",
    "    # Load all data from the zarr dataset\n",
    "    hand_joints = np.array(z['robot0_hand_joints_lowdim'])\n",
    "    eef_pose = np.array(z['robot0_eef_pose_lowdim'])\n",
    "    wrist_bottom_imgs = np.array(z['robot0_ego_wrist_bottom_rgb'])\n",
    "    wrist_top_imgs = np.array(z['robot0_ego_wrist_top_rgb'])\n",
    "    workspace_imgs = np.array(z['workspace_rgb'])\n",
    "    \n",
    "    # Load all timestamps\n",
    "    hand_joints_timestamps = np.array(z['robot0_hand_joints_lowdim_timestamps'])\n",
    "    eef_pose_timestamps = np.array(z['robot0_eef_pose_lowdim_timestamps'])\n",
    "    \n",
    "    print(f\"Loaded data: {len(hand_joints)} hand joint frames, {len(eef_pose)} pose frames\")\n",
    "    \n",
    "    # We need n-1 frames to account for the future shifting for observations\n",
    "    max_frames = len(hand_joints) - 1\n",
    "    \n",
    "    # Get task for this episode\n",
    "    task = task_descriptions[episode_idx] if episode_idx < len(task_descriptions) else f\"task_{episode_idx}\"\n",
    "    \n",
    "    # Process all frames and add to dataset\n",
    "    for i in tqdm(range(max_frames)):\n",
    "        # Find pose matrix for current and next frame\n",
    "        curr_pose_idx = find_closest_index(hand_joints_timestamps[i], eef_pose_timestamps)\n",
    "        next_pose_idx = find_closest_index(hand_joints_timestamps[i+1] if i+1 < len(hand_joints) else hand_joints_timestamps[i], eef_pose_timestamps)\n",
    "        # Process current and next pose matrices\n",
    "        curr_pose_matrix = eef_pose[curr_pose_idx]\n",
    "        next_pose_matrix = eef_pose[next_pose_idx]\n",
    "        assert curr_pose_idx != next_pose_idx, \"Pose indices should not be the same\"\n",
    "        \n",
    "        curr_processed_pose = process_pose_matrix(curr_pose_matrix)\n",
    "        next_processed_pose = process_pose_matrix(next_pose_matrix)\n",
    "        \n",
    "        # Current and next hand joint values (for future shifting)\n",
    "        curr_joints = hand_joints[i]\n",
    "        next_joints = hand_joints[i+1] if i+1 < len(hand_joints) else hand_joints[i]\n",
    "        \n",
    "        # Combine hand joints and pose data for action and state\n",
    "        action_combined = np.concatenate([next_joints, next_processed_pose])\n",
    "        state_combined = np.concatenate([curr_joints, curr_processed_pose])\n",
    "        \n",
    "        # Get images - convert to PyTorch tensors\n",
    "        main_img = torch.from_numpy(np.transpose(workspace_imgs[i, 0], (1, 2, 0)))\n",
    "        secondary_0_img = torch.from_numpy(np.transpose(wrist_top_imgs[i, 0], (1, 2, 0)))\n",
    "        secondary_1_img = torch.from_numpy(np.transpose(wrist_bottom_imgs[i, 0], (1, 2, 0)))\n",
    "        \n",
    "        # Create frame dictionary with all required data\n",
    "        frame = {\n",
    "            # Action combines hand joints and processed pose\n",
    "            \"action\": torch.from_numpy(action_combined).float(),\n",
    "            \n",
    "            # State combines next hand joints and next processed pose\n",
    "            \"observation.state\": torch.from_numpy(state_combined).float(),\n",
    "            \n",
    "            # Task description for this episode\n",
    "            \"task\": task,\n",
    "            \n",
    "            # Images from zarr dataset\n",
    "            \"observation.images.main\": main_img,\n",
    "            \"observation.images.secondary_0\": secondary_0_img,\n",
    "            \"observation.images.secondary_1\": secondary_1_img,\n",
    "        }\n",
    "        \n",
    "        # Add the frame to the dataset\n",
    "        dataset.add_frame(frame)\n",
    "    \n",
    "    # Save the episode after all frames from this zarr file are added\n",
    "    dataset.save_episode()\n",
    "    print(f\"Saved episode {episode_idx+1}, total frames in episode: {max_frames}\")\n",
    "\n",
    "print(f\"\\nDataset creation complete!\")\n",
    "print(f\"Dataset created at: {dataset.root}\")\n",
    "print(f\"Total episodes: {dataset.num_episodes}\")\n",
    "print(f\"Total frames: {dataset.num_frames}\")"
   ]
  },
  {
   "cell_type": "markdown",
   "id": "4fdc347f",
   "metadata": {},
   "source": []
  }
 ],
 "metadata": {
  "kernelspec": {
   "display_name": ".venv (3.10.16)",
   "language": "python",
   "name": "python3"
  },
  "language_info": {
   "codemirror_mode": {
    "name": "ipython",
    "version": 3
   },
   "file_extension": ".py",
   "mimetype": "text/x-python",
   "name": "python",
   "nbconvert_exporter": "python",
   "pygments_lexer": "ipython3",
   "version": "3.10.16"
  }
 },
 "nbformat": 4,
 "nbformat_minor": 5
}
